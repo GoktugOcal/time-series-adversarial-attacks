{
 "cells": [
  {
   "cell_type": "markdown",
   "metadata": {},
   "source": [
    "# Time Series Tasks\n",
    "\n",
    "## Regression\n",
    "\n",
    "- ANN\n",
    "- LSTM\n",
    "- CNN\n",
    "- CNN + LSTM\n",
    "\n",
    "## Classification"
   ]
  },
  {
   "cell_type": "code",
   "execution_count": 204,
   "metadata": {},
   "outputs": [
    {
     "name": "stdout",
     "output_type": "stream",
     "text": [
      "GPU detected.\n"
     ]
    }
   ],
   "source": [
    "import numpy as np # linear algebra\n",
    "import pandas as pd # data processing, CSV file I/O (e.g. pd.read_csv)\n",
    "\n",
    "import tensorflow as tf\n",
    "if tf.config.list_logical_devices(\"GPU\") : print(\"GPU detected.\")\n",
    "import matplotlib.pyplot as plt\n",
    "import sklearn.preprocessing\n",
    "from sklearn.metrics import r2_score\n",
    "\n",
    "from tensorflow.keras.layers import Dense,Dropout,LSTM, Input, Flatten, Conv2D, MaxPool2D, Conv1D, MaxPooling1D\n",
    "from tensorflow.keras.models import Sequential\n",
    "from tensorflow.keras.losses import mean_squared_error\n",
    "from tensorflow.keras.backend import sign\n",
    "\n",
    "import math\n",
    "\n",
    "import plotly.graph_objects as go\n",
    "import plotly.express as px"
   ]
  },
  {
   "cell_type": "code",
   "execution_count": 2,
   "metadata": {},
   "outputs": [],
   "source": [
    "def normalize_data(df):\n",
    "    scaler = sklearn.preprocessing.MinMaxScaler()\n",
    "    df['value']=scaler.fit_transform(df['value'].values.reshape(-1,1))\n",
    "    return df\n",
    "\n",
    "def mape(y_true, y_pred): \n",
    "    y_true, y_pred = np.array(y_true), np.array(y_pred)\n",
    "    return np.mean(np.abs((y_true - y_pred) / y_true)) * 100\n",
    "\n",
    "def plot_predictions(test, predicted, title):\n",
    "    plt.figure(figsize=(16,4))\n",
    "    plt.plot(test, color='blue',label='Actual power consumption data')\n",
    "    plt.plot(predicted, alpha=0.7, color='orange',label='Predicted power consumption data')\n",
    "    plt.title(title)\n",
    "    plt.xlabel('Time')\n",
    "    plt.ylabel('Normalized power consumption scale')\n",
    "    plt.legend()\n",
    "    plt.show()"
   ]
  },
  {
   "cell_type": "markdown",
   "metadata": {},
   "source": [
    "## FGSM\n",
    "![fgsm](https://miro.medium.com/max/432/1*PAF7Lj2lcMw4kuRqBYhlYA.png)\n",
    "\n",
    "## PGD\n",
    "![pgd]()\n"
   ]
  },
  {
   "cell_type": "code",
   "execution_count": 195,
   "metadata": {},
   "outputs": [],
   "source": [
    "def fgsm_attack(X_test, y_test, model, epsilon):\n",
    "    inp = tf.convert_to_tensor(X_test, dtype = tf.float32)\n",
    "    imgv = tf.Variable(inp)\n",
    "    with tf.GradientTape() as tape:\n",
    "        tape.watch(imgv)\n",
    "        predictions = model(imgv)\n",
    "        loss = tf.keras.losses.MeanSquaredError()(y_test, predictions)\n",
    "        grads = tape.gradient(loss,imgv)\n",
    "    signed_grads = tf.sign(grads)\n",
    "    inp = inp + (epsilon*signed_grads)\n",
    "\n",
    "    return inp\n",
    "\n",
    "def pgd_attack(X_test, y_test, model, iterations, alpha, epsilon):\n",
    "    \n",
    "    gen_img = tf.convert_to_tensor(X_test, dtype=tf.float32)\n",
    "    gen_img = tf.clip_by_value(gen_img, X_test-epsilon, X_test+epsilon)\n",
    "    x_temp = X_test\n",
    "\n",
    "    for iters in range(iterations):\n",
    "        imgv = tf.Variable(gen_img)\n",
    "        with tf.GradientTape() as tape:\n",
    "            tape.watch(imgv)\n",
    "            predictions = model(imgv)\n",
    "            loss = tf.keras.losses.MeanSquaredError()(y_test, predictions)\n",
    "            grads = tape.gradient(loss,imgv)\n",
    "\n",
    "        signed_grads = tf.sign(grads)\n",
    "        gen_img = gen_img + (alpha*signed_grads)\n",
    "        gen_img = tf.clip_by_value(gen_img, X_test-epsilon, X_test+epsilon)\n",
    "\n",
    "        \n",
    "    return gen_img"
   ]
  },
  {
   "cell_type": "code",
   "execution_count": null,
   "metadata": {},
   "outputs": [],
   "source": []
  },
  {
   "cell_type": "code",
   "execution_count": null,
   "metadata": {},
   "outputs": [],
   "source": []
  },
  {
   "cell_type": "code",
   "execution_count": null,
   "metadata": {},
   "outputs": [],
   "source": []
  },
  {
   "cell_type": "code",
   "execution_count": 4,
   "metadata": {},
   "outputs": [
    {
     "data": {
      "text/html": [
       "<div>\n",
       "<style scoped>\n",
       "    .dataframe tbody tr th:only-of-type {\n",
       "        vertical-align: middle;\n",
       "    }\n",
       "\n",
       "    .dataframe tbody tr th {\n",
       "        vertical-align: top;\n",
       "    }\n",
       "\n",
       "    .dataframe thead th {\n",
       "        text-align: right;\n",
       "    }\n",
       "</style>\n",
       "<table border=\"1\" class=\"dataframe\">\n",
       "  <thead>\n",
       "    <tr style=\"text-align: right;\">\n",
       "      <th></th>\n",
       "      <th>value</th>\n",
       "    </tr>\n",
       "    <tr>\n",
       "      <th>Datetime</th>\n",
       "      <th></th>\n",
       "    </tr>\n",
       "  </thead>\n",
       "  <tbody>\n",
       "    <tr>\n",
       "      <th>2004-12-31 01:00:00</th>\n",
       "      <td>13478.0</td>\n",
       "    </tr>\n",
       "    <tr>\n",
       "      <th>2004-12-31 02:00:00</th>\n",
       "      <td>12865.0</td>\n",
       "    </tr>\n",
       "    <tr>\n",
       "      <th>2004-12-31 03:00:00</th>\n",
       "      <td>12577.0</td>\n",
       "    </tr>\n",
       "    <tr>\n",
       "      <th>2004-12-31 04:00:00</th>\n",
       "      <td>12517.0</td>\n",
       "    </tr>\n",
       "    <tr>\n",
       "      <th>2004-12-31 05:00:00</th>\n",
       "      <td>12670.0</td>\n",
       "    </tr>\n",
       "  </tbody>\n",
       "</table>\n",
       "</div>"
      ],
      "text/plain": [
       "                       value\n",
       "Datetime                    \n",
       "2004-12-31 01:00:00  13478.0\n",
       "2004-12-31 02:00:00  12865.0\n",
       "2004-12-31 03:00:00  12577.0\n",
       "2004-12-31 04:00:00  12517.0\n",
       "2004-12-31 05:00:00  12670.0"
      ]
     },
     "metadata": {},
     "output_type": "display_data"
    },
    {
     "data": {
      "text/plain": [
       "(121273, 1)"
      ]
     },
     "execution_count": 4,
     "metadata": {},
     "output_type": "execute_result"
    }
   ],
   "source": [
    "fpath='data/hourly-energy-consumption/AEP_hourly.csv'\n",
    "df=pd.read_csv(fpath)\n",
    "df = pd.read_csv(fpath, index_col='Datetime', parse_dates=['Datetime'])\n",
    "df.columns = [\"value\"]\n",
    "display(df.head())\n",
    "\n",
    "df_norm = normalize_data(df)\n",
    "df_norm.shape"
   ]
  },
  {
   "cell_type": "code",
   "execution_count": 5,
   "metadata": {},
   "outputs": [
    {
     "name": "stdout",
     "output_type": "stream",
     "text": [
      "X_train.shape =  (4053, 23, 1)\n",
      "y_train.shape =  (4053,)\n",
      "X_test.shape =  (1000, 23, 1)\n",
      "y_test.shape =  (1000,)\n"
     ]
    }
   ],
   "source": [
    "def load_data(stock, seq_len):\n",
    "    X_train = []\n",
    "    y_train = []\n",
    "    for i in range(0, len(stock)-seq_len, seq_len+1):\n",
    "        X_train.append(stock.iloc[i: i+seq_len, 0])\n",
    "        y_train.append(stock.iloc[i+seq_len, 0])\n",
    "        \n",
    "    #last 1000 days are going to be used in test\n",
    "    X_test = X_train[4053:]             \n",
    "    y_test = y_train[4053:]\n",
    "    \n",
    "    #first 4053 days are going to be used in training\n",
    "    X_train = X_train[:4053]           \n",
    "    y_train = y_train[:4053]\n",
    "    \n",
    "    # convert to numpy array\n",
    "    X_train = np.array(X_train)\n",
    "    y_train = np.array(y_train)\n",
    "    X_test = np.array(X_test)\n",
    "    y_test = np.array(y_test)\n",
    "    \n",
    "    #4 reshape data to input into RNN models\n",
    "    X_train = np.reshape(X_train, (4053, seq_len, 1))\n",
    "    X_test = np.reshape(X_test, (X_test.shape[0], seq_len, 1))\n",
    "    \n",
    "    return [X_train, y_train, X_test, y_test]\n",
    "\n",
    "#create train, test data\n",
    "seq_len = 23 #choose sequence length\n",
    "\n",
    "X_train, y_train, X_test, y_test = load_data(df_norm, seq_len)\n",
    "\n",
    "print('X_train.shape = ',X_train.shape)\n",
    "print('y_train.shape = ', y_train.shape)\n",
    "print('X_test.shape = ', X_test.shape)\n",
    "print('y_test.shape = ',y_test.shape)"
   ]
  },
  {
   "cell_type": "code",
   "execution_count": 190,
   "metadata": {},
   "outputs": [
    {
     "name": "stdout",
     "output_type": "stream",
     "text": [
      "Model: \"sequential_3\"\n",
      "_________________________________________________________________\n",
      " Layer (type)                Output Shape              Param #   \n",
      "=================================================================\n",
      " lstm_3 (LSTM)               (None, 23)                2300      \n",
      "                                                                 \n",
      " dropout_2 (Dropout)         (None, 23)                0         \n",
      "                                                                 \n",
      " dense_4 (Dense)             (None, 1)                 24        \n",
      "                                                                 \n",
      "=================================================================\n",
      "Total params: 2,324\n",
      "Trainable params: 2,324\n",
      "Non-trainable params: 0\n",
      "_________________________________________________________________\n"
     ]
    }
   ],
   "source": [
    "# build model\n",
    "lstm_model = Sequential()\n",
    "lstm_model.add(LSTM(23,activation=\"tanh\", input_shape=(X_train.shape[1],1)))\n",
    "lstm_model.add(Dropout(0.15))\n",
    "lstm_model.add(Dense(1))\n",
    "lstm_model.summary()\n",
    "\n",
    "lstm_model_2 = Sequential()\n",
    "lstm_model_2.add(LSTM(23,activation=\"tanh\", input_shape=(X_train.shape[1],1), return_sequences=True))\n",
    "lstm_model_2.add(Dropout(0.15))\n",
    "lstm_model_2.add(LSTM(23,activation=\"tanh\", input_shape=(X_train.shape[1],1)))\n",
    "lstm_model_2.add(Dense(1))\n",
    "\n",
    "annModel = Sequential()\n",
    "annModel.add(Dense(23, activation='relu', input_dim=X_train.shape[1]))\n",
    "annModel.add(Dense(1))\n",
    "\n",
    "models = {\n",
    "    \"lstm_model\": lstm_model,\n",
    "    \"lstm_model_2\": lstm_model_2,\n",
    "#     \"annModel\": annModel\n",
    "    }\n"
   ]
  },
  {
   "cell_type": "code",
   "execution_count": 193,
   "metadata": {},
   "outputs": [
    {
     "name": "stdout",
     "output_type": "stream",
     "text": [
      "Model: \"sequential_5\"\n",
      "_________________________________________________________________\n",
      " Layer (type)                Output Shape              Param #   \n",
      "=================================================================\n",
      " dense_6 (Dense)             (None, 23)                552       \n",
      "                                                                 \n",
      " dense_7 (Dense)             (None, 1)                 24        \n",
      "                                                                 \n",
      "=================================================================\n",
      "Total params: 576\n",
      "Trainable params: 576\n",
      "Non-trainable params: 0\n",
      "_________________________________________________________________\n",
      "Epoch 1/10\n",
      "127/127 [==============================] - 0s 1ms/step - loss: 0.0010\n",
      "Epoch 2/10\n",
      "127/127 [==============================] - 0s 1ms/step - loss: 9.1344e-04\n",
      "Epoch 3/10\n",
      "127/127 [==============================] - 0s 1ms/step - loss: 9.1323e-04\n",
      "Epoch 4/10\n",
      "127/127 [==============================] - 0s 1ms/step - loss: 8.5983e-04\n",
      "Epoch 5/10\n",
      "127/127 [==============================] - 0s 1ms/step - loss: 8.2781e-04\n",
      "Epoch 6/10\n",
      "127/127 [==============================] - 0s 1ms/step - loss: 7.5069e-04\n",
      "Epoch 7/10\n",
      "127/127 [==============================] - 0s 1ms/step - loss: 7.4106e-04\n",
      "Epoch 8/10\n",
      "127/127 [==============================] - 0s 1ms/step - loss: 6.8769e-04\n",
      "Epoch 9/10\n",
      "127/127 [==============================] - 0s 1ms/step - loss: 6.9698e-04\n",
      "Epoch 10/10\n",
      "127/127 [==============================] - 0s 1ms/step - loss: 6.5116e-04\n"
     ]
    },
    {
     "data": {
      "text/plain": [
       "<keras.callbacks.History at 0x7fe5014f18a0>"
      ]
     },
     "execution_count": 193,
     "metadata": {},
     "output_type": "execute_result"
    }
   ],
   "source": [
    "model = annModel\n",
    "model.summary()\n",
    "# train LSTM model\n",
    "model.compile(optimizer=\"adam\",loss=\"MSE\")\n",
    "model.fit(X_train, y_train, epochs=10)"
   ]
  },
  {
   "cell_type": "code",
   "execution_count": 206,
   "metadata": {},
   "outputs": [
    {
     "name": "stdout",
     "output_type": "stream",
     "text": [
      "Model: \"sequential_8\"\n",
      "_________________________________________________________________\n",
      " Layer (type)                Output Shape              Param #   \n",
      "=================================================================\n",
      " conv1d_1 (Conv1D)           (None, 22, 64)            192       \n",
      "                                                                 \n",
      " max_pooling1d_1 (MaxPooling  (None, 11, 64)           0         \n",
      " 1D)                                                             \n",
      "                                                                 \n",
      " flatten_1 (Flatten)         (None, 704)               0         \n",
      "                                                                 \n",
      " dense_10 (Dense)            (None, 50)                35250     \n",
      "                                                                 \n",
      " dense_11 (Dense)            (None, 1)                 51        \n",
      "                                                                 \n",
      "=================================================================\n",
      "Total params: 35,493\n",
      "Trainable params: 35,493\n",
      "Non-trainable params: 0\n",
      "_________________________________________________________________\n",
      "Epoch 1/10\n",
      "127/127 [==============================] - 1s 2ms/step - loss: 0.0144\n",
      "Epoch 2/10\n",
      "127/127 [==============================] - 0s 2ms/step - loss: 0.0024\n",
      "Epoch 3/10\n",
      "127/127 [==============================] - 0s 2ms/step - loss: 0.0016\n",
      "Epoch 4/10\n",
      "127/127 [==============================] - 0s 2ms/step - loss: 0.0013\n",
      "Epoch 5/10\n",
      "127/127 [==============================] - 0s 1ms/step - loss: 0.0010\n",
      "Epoch 6/10\n",
      "127/127 [==============================] - 0s 2ms/step - loss: 8.5679e-04\n",
      "Epoch 7/10\n",
      "127/127 [==============================] - 0s 2ms/step - loss: 6.9207e-04\n",
      "Epoch 8/10\n",
      "127/127 [==============================] - 0s 2ms/step - loss: 6.6139e-04\n",
      "Epoch 9/10\n",
      "127/127 [==============================] - 0s 2ms/step - loss: 6.2876e-04\n",
      "Epoch 10/10\n",
      "127/127 [==============================] - 0s 2ms/step - loss: 5.9263e-04\n"
     ]
    },
    {
     "data": {
      "text/plain": [
       "<keras.callbacks.History at 0x7fe50073fc40>"
      ]
     },
     "execution_count": 206,
     "metadata": {},
     "output_type": "execute_result"
    }
   ],
   "source": [
    "def cnnpred_2d(input_shape: tuple):\n",
    "\n",
    "    model = Sequential()\n",
    "    model.add(Conv1D(filters=64, kernel_size=2, activation='relu', input_shape=input_shape))\n",
    "    model.add(MaxPooling1D(pool_size=2))\n",
    "    model.add(Flatten())\n",
    "    model.add(Dense(50, activation='relu'))\n",
    "    model.add(Dense(1))\n",
    "    model.compile(optimizer='adam', loss='mse')\n",
    "    \n",
    "    return model\n",
    "\n",
    "model = cnnpred_2d((23,1))\n",
    "model.summary()\n",
    "# train LSTM model\n",
    "model.compile(optimizer=\"adam\",loss=\"MSE\")\n",
    "model.fit(X_train, y_train, epochs=10)"
   ]
  },
  {
   "cell_type": "code",
   "execution_count": null,
   "metadata": {},
   "outputs": [],
   "source": []
  },
  {
   "cell_type": "code",
   "execution_count": 207,
   "metadata": {},
   "outputs": [
    {
     "name": "stdout",
     "output_type": "stream",
     "text": [
      "R^2 Score of LSTM model =  0.98\n"
     ]
    }
   ],
   "source": [
    "lstm_predictions = model.predict(X_test)\n",
    "\n",
    "lstm_score = r2_score(y_test, lstm_predictions)\n",
    "print(\"R^2 Score of LSTM model = \",round(lstm_score,2))"
   ]
  },
  {
   "cell_type": "code",
   "execution_count": 9,
   "metadata": {},
   "outputs": [
    {
     "name": "stdout",
     "output_type": "stream",
     "text": [
      "RMSE : 2.62\n",
      "MAPE : 6.38\n"
     ]
    }
   ],
   "source": [
    "lstm_predictions = lstm_predictions.reshape((lstm_predictions.shape[0]))\n",
    "print(\"RMSE :\",round(math.sqrt(mean_squared_error(y_test, lstm_predictions))*100,2))\n",
    "print(\"MAPE :\",round(mape(y_test, lstm_predictions),2))"
   ]
  },
  {
   "cell_type": "markdown",
   "metadata": {},
   "source": [
    "### Adversarial Attack (FGSM)"
   ]
  },
  {
   "cell_type": "code",
   "execution_count": 197,
   "metadata": {},
   "outputs": [
    {
     "ename": "ValueError",
     "evalue": "Failed to find data adapter that can handle input: <class 'tensorflow.python.ops.resource_variable_ops.ResourceVariable'>, <class 'NoneType'>",
     "output_type": "error",
     "traceback": [
      "\u001b[0;31m---------------------------------------------------------------------------\u001b[0m",
      "\u001b[0;31mValueError\u001b[0m                                Traceback (most recent call last)",
      "Cell \u001b[0;32mIn [197], line 1\u001b[0m\n\u001b[0;32m----> 1\u001b[0m adversarial \u001b[38;5;241m=\u001b[39m \u001b[43mfgsm_attack\u001b[49m\u001b[43m(\u001b[49m\u001b[43mX_test\u001b[49m\u001b[43m,\u001b[49m\u001b[43m \u001b[49m\u001b[43my_test\u001b[49m\u001b[43m,\u001b[49m\u001b[43m \u001b[49m\u001b[43mmodel\u001b[49m\u001b[43m,\u001b[49m\u001b[43m \u001b[49m\u001b[38;5;241;43m0.01\u001b[39;49m\u001b[43m)\u001b[49m\n",
      "Cell \u001b[0;32mIn [195], line 6\u001b[0m, in \u001b[0;36mfgsm_attack\u001b[0;34m(X_test, y_test, model, epsilon)\u001b[0m\n\u001b[1;32m      4\u001b[0m \u001b[38;5;28;01mwith\u001b[39;00m tf\u001b[38;5;241m.\u001b[39mGradientTape() \u001b[38;5;28;01mas\u001b[39;00m tape:\n\u001b[1;32m      5\u001b[0m     tape\u001b[38;5;241m.\u001b[39mwatch(imgv)\n\u001b[0;32m----> 6\u001b[0m     predictions \u001b[38;5;241m=\u001b[39m \u001b[43mmodel\u001b[49m\u001b[38;5;241;43m.\u001b[39;49m\u001b[43mpredict\u001b[49m\u001b[43m(\u001b[49m\u001b[43mimgv\u001b[49m\u001b[43m)\u001b[49m\n\u001b[1;32m      7\u001b[0m     loss \u001b[38;5;241m=\u001b[39m tf\u001b[38;5;241m.\u001b[39mkeras\u001b[38;5;241m.\u001b[39mlosses\u001b[38;5;241m.\u001b[39mMeanSquaredError()(y_test, predictions)\n\u001b[1;32m      8\u001b[0m     grads \u001b[38;5;241m=\u001b[39m tape\u001b[38;5;241m.\u001b[39mgradient(loss,imgv)\n",
      "File \u001b[0;32m~/python_envs/cmpe/lib/python3.10/site-packages/keras/utils/traceback_utils.py:67\u001b[0m, in \u001b[0;36mfilter_traceback.<locals>.error_handler\u001b[0;34m(*args, **kwargs)\u001b[0m\n\u001b[1;32m     65\u001b[0m \u001b[38;5;28;01mexcept\u001b[39;00m \u001b[38;5;167;01mException\u001b[39;00m \u001b[38;5;28;01mas\u001b[39;00m e:  \u001b[38;5;66;03m# pylint: disable=broad-except\u001b[39;00m\n\u001b[1;32m     66\u001b[0m   filtered_tb \u001b[38;5;241m=\u001b[39m _process_traceback_frames(e\u001b[38;5;241m.\u001b[39m__traceback__)\n\u001b[0;32m---> 67\u001b[0m   \u001b[38;5;28;01mraise\u001b[39;00m e\u001b[38;5;241m.\u001b[39mwith_traceback(filtered_tb) \u001b[38;5;28;01mfrom\u001b[39;00m \u001b[38;5;28mNone\u001b[39m\n\u001b[1;32m     68\u001b[0m \u001b[38;5;28;01mfinally\u001b[39;00m:\n\u001b[1;32m     69\u001b[0m   \u001b[38;5;28;01mdel\u001b[39;00m filtered_tb\n",
      "File \u001b[0;32m~/python_envs/cmpe/lib/python3.10/site-packages/keras/engine/data_adapter.py:984\u001b[0m, in \u001b[0;36mselect_data_adapter\u001b[0;34m(x, y)\u001b[0m\n\u001b[1;32m    981\u001b[0m adapter_cls \u001b[38;5;241m=\u001b[39m [\u001b[38;5;28mcls\u001b[39m \u001b[38;5;28;01mfor\u001b[39;00m \u001b[38;5;28mcls\u001b[39m \u001b[38;5;129;01min\u001b[39;00m ALL_ADAPTER_CLS \u001b[38;5;28;01mif\u001b[39;00m \u001b[38;5;28mcls\u001b[39m\u001b[38;5;241m.\u001b[39mcan_handle(x, y)]\n\u001b[1;32m    982\u001b[0m \u001b[38;5;28;01mif\u001b[39;00m \u001b[38;5;129;01mnot\u001b[39;00m adapter_cls:\n\u001b[1;32m    983\u001b[0m   \u001b[38;5;66;03m# TODO(scottzhu): This should be a less implementation-specific error.\u001b[39;00m\n\u001b[0;32m--> 984\u001b[0m   \u001b[38;5;28;01mraise\u001b[39;00m \u001b[38;5;167;01mValueError\u001b[39;00m(\n\u001b[1;32m    985\u001b[0m       \u001b[38;5;124m\"\u001b[39m\u001b[38;5;124mFailed to find data adapter that can handle \u001b[39m\u001b[38;5;124m\"\u001b[39m\n\u001b[1;32m    986\u001b[0m       \u001b[38;5;124m\"\u001b[39m\u001b[38;5;124minput: \u001b[39m\u001b[38;5;132;01m{}\u001b[39;00m\u001b[38;5;124m, \u001b[39m\u001b[38;5;132;01m{}\u001b[39;00m\u001b[38;5;124m\"\u001b[39m\u001b[38;5;241m.\u001b[39mformat(\n\u001b[1;32m    987\u001b[0m           _type_name(x), _type_name(y)))\n\u001b[1;32m    988\u001b[0m \u001b[38;5;28;01melif\u001b[39;00m \u001b[38;5;28mlen\u001b[39m(adapter_cls) \u001b[38;5;241m>\u001b[39m \u001b[38;5;241m1\u001b[39m:\n\u001b[1;32m    989\u001b[0m   \u001b[38;5;28;01mraise\u001b[39;00m \u001b[38;5;167;01mRuntimeError\u001b[39;00m(\n\u001b[1;32m    990\u001b[0m       \u001b[38;5;124m\"\u001b[39m\u001b[38;5;124mData adapters should be mutually exclusive for \u001b[39m\u001b[38;5;124m\"\u001b[39m\n\u001b[1;32m    991\u001b[0m       \u001b[38;5;124m\"\u001b[39m\u001b[38;5;124mhandling inputs. Found multiple adapters \u001b[39m\u001b[38;5;132;01m{}\u001b[39;00m\u001b[38;5;124m to handle \u001b[39m\u001b[38;5;124m\"\u001b[39m\n\u001b[1;32m    992\u001b[0m       \u001b[38;5;124m\"\u001b[39m\u001b[38;5;124minput: \u001b[39m\u001b[38;5;132;01m{}\u001b[39;00m\u001b[38;5;124m, \u001b[39m\u001b[38;5;132;01m{}\u001b[39;00m\u001b[38;5;124m\"\u001b[39m\u001b[38;5;241m.\u001b[39mformat(\n\u001b[1;32m    993\u001b[0m           adapter_cls, _type_name(x), _type_name(y)))\n",
      "\u001b[0;31mValueError\u001b[0m: Failed to find data adapter that can handle input: <class 'tensorflow.python.ops.resource_variable_ops.ResourceVariable'>, <class 'NoneType'>"
     ]
    }
   ],
   "source": [
    "adversarial = fgsm_attack(X_test, y_test, model, 0.01)"
   ]
  },
  {
   "cell_type": "code",
   "execution_count": 118,
   "metadata": {},
   "outputs": [
    {
     "name": "stdout",
     "output_type": "stream",
     "text": [
      "FGSM Adversarial R^2 :  0.94\n",
      "FGSM Adversarial RMSE :  3.19\n",
      "FGSM Adversarial MAPE :  7.52\n"
     ]
    }
   ],
   "source": [
    "adversarial_prediction = model.predict(adversarial).T[0]\n",
    "adversarial_score_r2 = round(r2_score(y_test, adversarial_prediction),2)\n",
    "adversarial_rmse = round(math.sqrt(mean_squared_error(y_test, adversarial_prediction.reshape(1,-1)[0]))*100,2)\n",
    "adversarial_mape = round(mape(y_test, adversarial_prediction),2)\n",
    "print(\"FGSM Adversarial R^2 : \", adversarial_score_r2)\n",
    "print(\"FGSM Adversarial RMSE : \", adversarial_rmse)\n",
    "print(\"FGSM Adversarial MAPE : \", adversarial_mape)"
   ]
  },
  {
   "cell_type": "markdown",
   "metadata": {},
   "source": [
    "### Results"
   ]
  },
  {
   "cell_type": "code",
   "execution_count": 37,
   "metadata": {},
   "outputs": [
    {
     "data": {
      "image/png": "[encoded data removed]",
      "text/plain": [
       "<Figure size 1600x400 with 1 Axes>"
      ]
     },
     "metadata": {},
     "output_type": "display_data"
    }
   ],
   "source": [
    "plot_predictions(y_test, adversarial_prediction, \"adversarial example\")"
   ]
  },
  {
   "cell_type": "code",
   "execution_count": 44,
   "metadata": {},
   "outputs": [
    {
     "data": {
      "application/vnd.plotly.v1+json": {
       "config": {
        "plotlyServerURL": "https://plot.ly"
       },
       "data": [
        {
         "type": "scatter",
         "y": [
          0.6422365644780935,
          0.7082040461710314,
          0.4808861859252823,
          0.5001861735137146,
          0.7021223780563485,
          0.864900086880973,
          0.7600843986595506,
          0.6561995780067021,
          0.7168300856398163,
          0.685304703984113,
          0.6344172769020727,
          0.5852674692813701,
          0.6681767407223532,
          0.4853543502544372,
          0.5611269703363534,
          0.49807620702494726,
          0.2914856646394439,
          0.33815315874394936,
          0.526374581109594,
          0.6642050390964379,
          0.4893260518803525,
          0.55554176492491,
          0.6254809482437632,
          0.3915849571800918,
          0.4356460220925903,
          0.5731041330520045,
          0.48982251458359183,
          0.5798684373836415,
          0.6073600595755243,
          0.5815439990070744,
          0.4169045550453022,
          0.41628397666625283,
          0.46859873402010666,
          0.5013652724339083,
          0.4638202805014272,
          0.43632865830954437,
          0.4602209259029414,
          0.37402258905299735,
          0.3753878614869057,
          0.4985726697281866,
          0.5517562368127095,
          0.6054983244383766,
          0.6108352984982003,
          0.5034752389226759,
          0.45395308427454373,
          0.6147449422862107,
          0.6668114682884448,
          0.7201812088866822,
          0.8057589673575772,
          0.6108973563361052,
          0.6049398038972321,
          0.37116792850937064,
          0.28981010301601084,
          0.4005212858384013,
          0.38959910636713413,
          0.2771503040834057,
          0.42453766910760826,
          0.3935087501551445,
          0.36769268958669477,
          0.3351123246866079,
          0.20565967481692937,
          0.18077448181705347,
          0.22129824996897107,
          0.3489512225394067,
          0.434963385875636,
          0.45649745562864574,
          0.5421993297753506,
          0.5852054114434652,
          0.4793347399776592,
          0.33393322576641427,
          0.5659054238550328,
          0.7123619213106615,
          0.553742087625667,
          0.4741218815936453,
          0.45718009184560005,
          0.41026436638947483,
          0.47350130321459594,
          0.5348144470646642,
          0.5430681395060196,
          0.4492366885937694,
          0.4193868685614993,
          0.4005833436763062,
          0.3592528236316246,
          0.32363162467419626,
          0.38184187662901814,
          0.39574283231972196,
          0.30724835546729545,
          0.28875511977162716,
          0.34528981010301596,
          0.31215092466178473,
          0.28093583219560625,
          0.228186669976418,
          0.1431674320466675,
          0.31643291547722474,
          0.40281742584088365,
          0.4407347648007943,
          0.37439493608042695,
          0.3142608911505522,
          0.2242770261884076,
          0.26498696785403997,
          0.29303711058706705,
          0.2984361424847958,
          0.3295271192751644,
          0.2703859997517686,
          0.2676554548839518,
          0.26784162839766656,
          0.29415415166935577,
          0.30942037979396797,
          0.2519548218940052,
          0.24233585701874139,
          0.2072111207645525,
          0.20050887427082043,
          0.2412808737743577,
          0.28763807868933844,
          0.3134541392577882,
          0.30997890033511233,
          0.2755368002978775,
          0.21087253320094324,
          0.1997021223780563,
          0.24605932729303703,
          0.2977535062678416,
          0.2896239295022961,
          0.29589177113069376,
          0.27957055976169787,
          0.2093210872533201,
          0.21174134293161218,
          0.2534442100037234,
          0.3158743949360804,
          0.3646518555293533,
          0.3778081171651979,
          0.37935956311282115,
          0.24252203053245625,
          0.19790244507881338,
          0.22669728186669968,
          0.27919821273426826,
          0.29167183815315867,
          0.2778329403003599,
          0.2881965992304828,
          0.21472011915104872,
          0.1790989201936204,
          0.2994911257291796,
          0.3642174506640188,
          0.3476480079434032,
          0.33027181333002353,
          0.3053245624922427,
          0.21583716023333743,
          0.19535807372471137,
          0.25313392081419883,
          0.3094824376318729,
          0.30619337222291176,
          0.3294650614372595,
          0.33641553928261136,
          0.3848827106863596,
          0.3663894749906913,
          0.4928633486409334,
          0.5281122005709321,
          0.5037234702742955,
          0.5133424351495594,
          0.5017996772992429,
          0.3923296512349509,
          0.37898721608539154,
          0.4494849199453891,
          0.42155889288817183,
          0.4548218940052128,
          0.5035993545984857,
          0.4564353977907408,
          0.3294030035993546,
          0.4297505274916221,
          0.5471018989698399,
          0.6545240163832692,
          0.7093210872533201,
          0.6519796450291672,
          0.4779694675437508,
          0.3156261635844607,
          0.2925406478838277,
          0.3330023581978403,
          0.4237309172148441,
          0.5590170038475858,
          0.6188407595879358,
          0.6540275536800296,
          0.5534938562740473,
          0.5405858259898225,
          0.6236192131066153,
          0.6892764056100286,
          0.5564105746555789,
          0.48957428323197216,
          0.44129328534193857,
          0.36024574903810347,
          0.4431550204790865,
          0.5218443589425344,
          0.5723594389971453,
          0.5312150924661784,
          0.5591411195233958,
          0.5471639568077448,
          0.46928137023706096,
          0.5353729676058087,
          0.6701625915353108,
          0.7259525878118406,
          0.6635844607173885,
          0.6406851185304704,
          0.5507633114062306,
          0.4645649745562864,
          0.48423730917214847,
          0.5986099044309295,
          0.6227504033759462,
          0.6173513714782176,
          0.6041951098423731,
          0.5873153779322328,
          0.4937321583716022,
          0.46288941293285346,
          0.4949733151297008,
          0.5223408216457738,
          0.6171651979645029,
          0.6112697033635347,
          0.669045550453022,
          0.6027677795705596,
          0.6199578006702245,
          0.5945140871292044,
          0.6054362666004717,
          0.5970584584833064,
          0.5959414174010177,
          0.5936452773985353,
          0.5066401886558273,
          0.39040585825989815,
          0.4815688221422364,
          0.5336974059823755,
          0.600843986595507,
          0.5841504281990816,
          0.6113317612014396,
          0.43521161722725565,
          0.36378304579868437,
          0.46816432915477224,
          0.5276777957055975,
          0.5493980389723222,
          0.518741467047288,
          0.2370609407968226,
          0.17146580613131435,
          0.24475611269703357,
          0.35807372471143095,
          0.40641678043936935,
          0.3972322204294402,
          0.43334988209010794,
          0.5659674816929378,
          0.5173141367754747,
          0.4654337842869555,
          0.4466923172396674,
          0.44768524264614606,
          0.4334739977659178,
          0.47859004592279997,
          0.5770758346779198,
          0.4336601712796325,
          0.39214347772123614,
          0.41491870423234445,
          0.46822638699267716,
          0.5414546357204914,
          0.4779694675437508,
          0.4569939183318853,
          0.3866823879856025,
          0.5106739481196475,
          0.4403003599354597,
          0.3251210127839146,
          0.27944644408588803,
          0.3103512473625418,
          0.4105125977410947,
          0.304207521409954,
          0.3070621819535807,
          0.4385006826362169,
          0.4481817053493856,
          0.4954077199950354,
          0.48640933349882076,
          0.38326920690083155,
          0.27851557651731407,
          0.3489512225394067,
          0.4375698150676429,
          0.41808365396549585,
          0.40039717016259146,
          0.35242646146208256,
          0.2960158868065036,
          0.18319473749534565,
          0.1610400893632865,
          0.23290306565719243,
          0.24332878242522027,
          0.2508377808117165,
          0.2742956435397791,
          0.25636092838525504,
          0.1900831575027926,
          0.1848702991187786,
          0.22520789375698147,
          0.3339952836043192,
          0.3212113689959042,
          0.30160109221794706,
          0.29905672086384505,
          0.17798187911133168,
          0.16215713044557523,
          0.21099664887675307,
          0.2829837408464688,
          0.28410078192875754,
          0.2671589921807124,
          0.27162715650986713,
          0.2224773488891647,
          0.19026933101650734,
          0.23687476728310786,
          0.3071242397914856,
          0.29725704356460214,
          0.335857018741467,
          0.30613131438500674,
          0.20913491373960524,
          0.15452401638326918,
          0.2285590170038475,
          0.29154772247734884,
          0.3087998014149187,
          0.313702370609408,
          0.34708948740225887,
          0.23687476728310786,
          0.17587191262256419,
          0.2167680278019114,
          0.2821149311157999,
          0.2910512597741094,
          0.29942906789127466,
          0.3077448181705349,
          0.2739853543502544,
          0.3471515452401638,
          0.34355219064167797,
          0.39208141988333123,
          0.31829465061437257,
          0.3721608539158495,
          0.3608042695792478,
          0.24444582350750899,
          0.27559885813578255,
          0.2441355343179843,
          0.27311654461958546,
          0.3027801911381407,
          0.2984982003227007,
          0.31854288196599223,
          0.16867320342559267,
          0.17357577262008184,
          0.25853295271192744,
          0.2673451656944271,
          0.27777088246245496,
          0.30470398411319344,
          0.3696164825617475,
          0.33567084522775226,
          0.29725704356460214,
          0.25778825865706834,
          0.2995531835670845,
          0.3063174878987216,
          0.30371105870671466,
          0.3044557527615738,
          0.23197219808861858,
          0.17227255802407837,
          0.23588184187662897,
          0.27603326300111697,
          0.2715030408340573,
          0.2587191262256423,
          0.29688469653717264,
          0.33250589549460097,
          0.3212113689959042,
          0.41380166315005573,
          0.4936080426957924,
          0.4883331264738736,
          0.35174382524512837,
          0.32921683008563973,
          0.2263249348392702,
          0.3166190889909395,
          0.43874891398783655,
          0.4833684994414794,
          0.3684994414794588,
          0.3536055603822762,
          0.37445699391833187,
          0.2630631748789872,
          0.20050887427082043,
          0.2996772992428943,
          0.46499937942162084,
          0.4712051632121136,
          0.47424599726945516,
          0.45215340697530093,
          0.5480327665384138,
          0.566526002234082,
          0.5045302221670597,
          0.6244259649993794,
          0.6600471639568076,
          0.6010301601092217,
          0.49447685242646144,
          0.3348020354970832,
          0.3586943030904802,
          0.43986595507012527,
          0.47002606429191995,
          0.34628273550949484,
          0.33672582847213595,
          0.3724711431053742,
          0.2618220181208887,
          0.2945885565346903,
          0.46785403996524766,
          0.45544247238426216,
          0.5217202432667246,
          0.45252575400273043,
          0.4564353977907408,
          0.48101030160109215,
          0.4878987216085392,
          0.5704356460220926,
          0.5975549211865457,
          0.6111455876877249,
          0.6967854039965248,
          0.717078316991436,
          0.518741467047288,
          0.3848206528484547,
          0.3703611766166066,
          0.4226138761325554,
          0.5822266352240287,
          0.6061189028174258,
          0.5818542881965992,
          0.48777460593272914,
          0.265793719746804,
          0.34950974308055105,
          0.4428447312895619,
          0.48498200322700746,
          0.5593272930371106,
          0.5474121881593644,
          0.3663894749906913,
          0.3539158495718009,
          0.3536676182201811,
          0.5902320963137643,
          0.552128583840139,
          0.5354350254437136,
          0.6130073228248728,
          0.6306317487898722,
          0.5051508005461088,
          0.40995407719995025,
          0.29477473004840504,
          0.30768276033263,
          0.2996772992428943,
          0.39251582474866575,
          0.4318604939803897,
          0.36912001985850806,
          0.40027305448678163,
          0.3771254809482437,
          0.3948740225890529,
          0.5088742708204045,
          0.5337594638202804,
          0.5155765173141368,
          0.5952587811840634,
          0.46655082536924397,
          0.44470646642670963,
          0.44656820156385757,
          0.4906913243142609,
          0.5005585205411444,
          0.4548839518431177,
          0.3869926771751272,
          0.3479582971329278,
          0.32257664142981257,
          0.2956435397790741,
          0.35621198957428324,
          0.33492615117289304,
          0.3483306441603574,
          0.3447933473997765,
          0.3759463820280501,
          0.3469033138885441,
          0.2459352116172272,
          0.2526995159488643,
          0.26808985974928634,
          0.3869306193372223,
          0.3266724587315377,
          0.41448429936701003,
          0.36229365768896604,
          0.22402879483678784,
          0.3354226138761325,
          0.37749782797567333,
          0.3457242149683505,
          0.3941913863720987,
          0.3732158371602333,
          0.28161846841256044,
          0.33641553928261136,
          0.41423606801539037,
          0.3474618344296885,
          0.3474618344296885,
          0.32220429440238296,
          0.26523519920565963,
          0.21583716023333743,
          0.20417028670721105,
          0.25778825865706834,
          0.29831202680898594,
          0.3407595879359563,
          0.3475238922675934,
          0.3817177609532083,
          0.3268586322452526,
          0.25561623433039593,
          0.23861238674444574,
          0.30296636465185545,
          0.3266104008936328,
          0.2967605808613627,
          0.2827975673327541,
          0.23079309916842494,
          0.1908899093955566,
          0.251272185677051,
          0.28552811220057084,
          0.2885068884200074,
          0.29868437383641555,
          0.2917959538289685,
          0.2500930867568574,
          0.2583467791982127,
          0.2778329403003599,
          0.31184063547226015,
          0.3539158495718009,
          0.4186421745066401,
          0.42447561126970335,
          0.2946506143725952,
          0.3397666625294774,
          0.30904803276653836,
          0.3526126349757974,
          0.384572421496835,
          0.3764428447312895,
          0.3166190889909395,
          0.2114931115799925,
          0.17891274667990564,
          0.26889661164205036,
          0.34950974308055105,
          0.5069504778453519,
          0.565781308179223,
          0.5492118654586075,
          0.474370112945265,
          0.4417276902072732,
          0.5011790989201935,
          0.5661536552066525,
          0.5063298994663025,
          0.4403624177733648,
          0.4576765545488394,
          0.38904058582598977,
          0.33176120143974175,
          0.3390840263125232,
          0.34560009929254065,
          0.33920814198833305,
          0.3340573414422241,
          0.30836539654958417,
          0.2270696288941293,
          0.1972198088618592,
          0.24897604567456866,
          0.2900583343676306,
          0.2821769889537048,
          0.3404492987464316,
          0.3994042447561127,
          0.22893136403127712,
          0.1766166066774233,
          0.24339084026312519,
          0.4021968474618344,
          0.45364279508501915,
          0.4207521409954077,
          0.39003351123246865,
          0.34591038848206523,
          0.2782673451656944,
          0.31196475114807,
          0.36272806255430057,
          0.43725952587811834,
          0.5345041578751396,
          0.6288320714906291,
          0.5359935459848578,
          0.4271440982996152,
          0.49025691944892624,
          0.58110959414174,
          0.6166066774233584,
          0.5791858011666874,
          0.5052128583840138,
          0.3905920317736129,
          0.3487029911877869,
          0.40809234206280254,
          0.4480575896735758,
          0.45296015886806507,
          0.41851805883083026,
          0.36943030904803276,
          0.28130817922303586,
          0.27460593272930367,
          0.34169045550453014,
          0.5291671838153159,
          0.5082536924413553,
          0.5202308551570062,
          0.5438128335608786,
          0.419635099913119,
          0.3031525381655703,
          0.41057465557899964,
          0.4672334615861983,
          0.5268710438128336,
          0.4647511480700012,
          0.5006826362169542,
          0.46655082536924397,
          0.5355591411195234,
          0.5868809730668983,
          0.6432294898845724,
          0.66650117909892,
          0.6306938066277771,
          0.5753382152165817,
          0.4682884448305821,
          0.41553928261139383,
          0.48243763187290545,
          0.536800297877622,
          0.6029539530842746,
          0.5077572297381158,
          0.47362541889040577,
          0.38469653717264485,
          0.3382772744197592,
          0.37687724959662405,
          0.4737495345662156,
          0.5096810227131686,
          0.37054735013032136,
          0.4442100037234703,
          0.4196971577510239,
          0.40381035124736253,
          0.46183442968846966,
          0.5345041578751396,
          0.379483678788631,
          0.3159985106118902,
          0.30718629762939054,
          0.2662281246121385,
          0.32710686359687224,
          0.39108849447685234,
          0.5208514335360556,
          0.5031649497331513,
          0.41913863720987965,
          0.36545860742211733,
          0.43657688966116426,
          0.47921062430184935,
          0.5071366513590666,
          0.5357453146332382,
          0.5180588308303339,
          0.4912498448554051,
          0.6233709817549956,
          0.46996400645401504,
          0.3815936452773985,
          0.33846344793347394,
          0.30718629762939054,
          0.26107732406602946,
          0.3009805138388978,
          0.3480203549708327,
          0.3634727566091597,
          0.333312647387365,
          0.3465930246990194,
          0.3480203549708327,
          0.32822390467916096,
          0.3476480079434032,
          0.270882462455008,
          0.21850564726324928,
          0.2544371354102023,
          0.2601464564974556,
          0.2673451656944271,
          0.2817425840883703,
          0.29192006950477845,
          0.2935335732903065,
          0.24475611269703357,
          0.2761573786769268,
          0.32257664142981257,
          0.46717140374829336,
          0.45904182698274776,
          0.43688717885068884,
          0.3280377311654461,
          0.21261015266228123,
          0.15303462827355097,
          0.2288693061933722,
          0.2829837408464688,
          0.3138264862852178,
          0.2796946754375077,
          0.25716768027801906,
          0.1720243266724587,
          0.16960407099416652,
          0.22824872781432293,
          0.2687104381283356,
          0.2462455008067519,
          0.25114807000124106,
          0.2747300484051135,
          0.30935832195606305,
          0.2541268462206776,
          0.2767779570559761,
          0.28776219436514827,
          0.35732903065657184,
          0.29769144842993667,
          0.27876380786893384,
          0.21056224401141865,
          0.1869182077696413,
          0.25710562244011415,
          0.33927019982623796,
          0.3144470646642671,
          0.2847213603078068,
          0.2899962765297257,
          0.19200695047784533,
          0.20690083157502792,
          0.20448057589673574,
          0.2665384138016631,
          0.26771751272185673,
          0.3042695792478589,
          0.3052004468164329,
          0.19995035372967607,
          0.1858632245252575,
          0.3087377435770138,
          0.3951222539406727,
          0.30482809978900327,
          0.29092714409829956,
          0.30439369492366886,
          0.20106739481196467,
          0.23023457862728058,
          0.2772123619213106,
          0.29663646518555287,
          0.3028422489760456,
          0.3046419262752885,
          0.30656571925034126,
          0.22154648132059074,
          0.1905175623681271,
          0.2377435770137768,
          0.340139009556907,
          0.4034380042199329,
          0.3312026808985975,
          0.3639071614744942,
          0.32965123495097426,
          0.31357825493359803,
          0.4374456993918331,
          0.47070870050887426,
          0.5772620081916345,
          0.6005336974059824,
          0.4587935956311281,
          0.38786148690579614,
          0.3770013652724339,
          0.40647883827727427,
          0.29378180464192627,
          0.3140747176368375,
          0.30724835546729545,
          0.30836539654958417,
          0.26771751272185673,
          0.360680153903438,
          0.4396797815564105,
          0.4162219188283479,
          0.29899466302594013,
          0.2904306813950601,
          0.3422489760456745,
          0.32313516197095693,
          0.31146828844483054,
          0.21360307806876,
          0.238426213230731,
          0.27559885813578255,
          0.2664763559637582,
          0.28515576517314134,
          0.23035869430309042,
          0.19628894129328534,
          0.2605188035248851,
          0.44514087129204405,
          0.44259649993794203,
          0.36372098796077945,
          0.4123122750403375,
          0.27516445327044803,
          0.2118034007695172,
          0.40672706962889416,
          0.5718629762939059,
          0.37799429067891266,
          0.28738984733771866,
          0.31432294898845725,
          0.3269206900831575,
          0.4243514955938935,
          0.5201067394811963,
          0.4720119151048777,
          0.4029415415166935,
          0.39108849447685234,
          0.5144594762318481,
          0.42658557775847095,
          0.3620454263373464,
          0.46679905672086386,
          0.4456993918331885,
          0.32257664142981257,
          0.3778081171651979,
          0.36192131066153654,
          0.2224773488891647,
          0.20342559265235194,
          0.27603326300111697,
          0.37544991932481064,
          0.38438624798312027,
          0.3197840387240908,
          0.37979396797815557,
          0.3305200446816432,
          0.3177981879111331,
          0.3717885068884199,
          0.3368499441479459,
          0.3611145587687724,
          0.4363907161474493,
          0.5810475363038351,
          0.6496214471887799,
          0.6234330395929005,
          0.6063671341690454,
          0.5704356460220926,
          0.5073848827106863,
          0.334119399280129,
          0.28372843490132804,
          0.24370112945264988,
          0.4604691572545613,
          0.41057465557899964,
          0.4139878366637705,
          0.44334119399280125,
          0.36583095444954694,
          0.332381779818791,
          0.406851185304704,
          0.5103016010922178,
          0.49522154648132044,
          0.4772247734888916,
          0.4549460096810226,
          0.3295271192751644,
          0.3268586322452526,
          0.34733771875387853,
          0.4937321583716022,
          0.43936949236688594,
          0.5047163956807744,
          0.5629887054735013,
          0.5192999875884324,
          0.5335732903065656,
          0.5553555914111951,
          0.5098671962268834,
          0.49776591783542246,
          0.5667742335857019,
          0.5729179595382897,
          0.4051756236812709,
          0.3201563857515204,
          0.35174382524512837,
          0.5410822886930619,
          0.5068884200074469,
          0.5814819411691695,
          0.5420131562616358,
          0.5592031773613008,
          0.5466054362666003,
          0.58110959414174,
          0.5413305200446815,
          0.4396797815564105,
          0.3859376939307434,
          0.4192627528856895,
          0.40778205287327773,
          0.3471515452401638,
          0.3802283728434901,
          0.3987836663770634,
          0.48882958917711294,
          0.5415166935583963,
          0.6877249596624052,
          0.5678292168300855,
          0.4713292788879234,
          0.4505399031897729,
          0.4392453766910761,
          0.42658557775847095,
          0.4062926647635595,
          0.3596872284969591,
          0.3472136030780687,
          0.3603698647139133,
          0.37470522526995154,
          0.4189524636961647,
          0.297443217078317,
          0.31295767655454876,
          0.33641553928261136,
          0.33858756360928377,
          0.3514335360556038,
          0.40964378801042567,
          0.4960903562119895,
          0.47070870050887426,
          0.5627404741218814,
          0.4549460096810226,
          0.39896983989077817,
          0.32561747548715403,
          0.42658557775847095,
          0.4142981258532953,
          0.3764428447312895,
          0.38469653717264485,
          0.3991560134044929,
          0.3361673079309916,
          0.2779570559761697,
          0.2852798808489512,
          0.375201687973191,
          0.34131810847710065,
          0.3844483058210252,
          0.4442100037234703,
          0.3379049273923296,
          0.26535931488146947,
          0.2875139630135286,
          0.3326300111704108,
          0.35025443713541016,
          0.3135161970956931,
          0.27386123867444456,
          0.21738860618096056,
          0.1869182077696413,
          0.2736750651607298,
          0.3635968722849695,
          0.36378304579868437,
          0.28416283976666246,
          0.25363038351743816,
          0.21931239915601342,
          0.21416159860990436,
          0.21602333374705218,
          0.2517065905423854,
          0.2715030408340573,
          0.17227255802407837,
          0.2671589921807124,
          0.20739729427826736,
          0.1972198088618592,
          0.26629018245004343,
          0.35912870795581475,
          0.30656571925034126,
          0.3803524885192999,
          0.44718877994290673,
          0.2405361797194986,
          0.21583716023333743,
          0.2519548218940052,
          0.27094452029291294,
          0.2821149311157999,
          0.3586322452525753,
          0.399900707459352,
          0.31364031277150295,
          0.3518679409209383,
          0.2996772992428943,
          0.3332505895494601,
          0.39394315502047905,
          0.26486285217823,
          0.3339952836043192,
          0.23166190889909388,
          0.21341690455504525,
          0.26771751272185673,
          0.29192006950477845,
          0.3007322824872781,
          0.33852550577137885,
          0.3455380414546356,
          0.33287824252203047,
          0.37619461337966975,
          0.37197468040213477,
          0.4226138761325554,
          0.4726945513218318,
          0.4299367010053369,
          0.33101650738488264,
          0.26318729055479706,
          0.2872036738240039,
          0.3731537793223284,
          0.39326051880352486,
          0.5081916346034504,
          0.4962144718877993,
          0.46859873402010666,
          0.3112821149311158,
          0.30433163708576394,
          0.3833933225766414,
          0.46642670969343414,
          0.40958173017252075,
          0.3266104008936328,
          0.3447312895618716,
          0.3088618592528236,
          0.311033883579496,
          0.35844607173886056,
          0.3195358073724711,
          0.24581109594141737,
          0.27590914732530714,
          0.323073104133052,
          0.21546481320590782,
          0.18598734020106733,
          0.1918828348020355,
          0.27839146084150423,
          0.27696413056969094,
          0.21527863969219307,
          0.2448802283728434,
          0.29551942410326415,
          0.3322576641429812,
          0.3366017127963261,
          0.239232965123495,
          0.28981010301601084,
          0.3936949236688593,
          0.4311778577634354,
          0.2935335732903065,
          0.3011046295147076,
          0.35801166687352604,
          0.5078813454139258,
          0.4818791113317612,
          0.439307434528981,
          0.5197343924537668,
          0.40461710314012655,
          0.3958048901576269,
          0.5992925406478838,
          0.4545116048156882,
          0.4018865582723098,
          0.5489015762690826,
          0.4527119275164452,
          0.2960158868065036,
          0.24829340945761447,
          0.34268338091100903,
          0.4494849199453891,
          0.45109842373091713,
          0.3724090852674692,
          0.2625667121757478,
          0.25040337594638196,
          0.2938438624798312,
          0.4605312150924662,
          0.5787513963013527,
          0.6858011666873526,
          0.6105250093086757,
          0.5284845475983616,
          0.5793099168424972,
          0.5596996400645401,
          0.4090852674692814,
          0.2840387240908526,
          0.33604319225518176,
          0.4282611393819039,
          0.461400024823135,
          0.5191758719126226,
          0.7215464813205906,
          0.7220429440238302,
          0.7178850688841999,
          0.6002854660543625,
          0.722911753754499,
          0.6723346158619833
         ]
        },
        {
         "type": "scatter",
         "y": [
          0.6842745542526245,
          0.7357956767082214,
          0.5436674356460571,
          0.5594450235366821,
          0.7211939096450806,
          0.8651865124702454,
          0.7991894483566284,
          0.7052006721496582,
          0.7427517771720886,
          0.734649658203125,
          0.6638193130493164,
          0.6302884817123413,
          0.6930599212646484,
          0.5551421046257019,
          0.5947104096412659,
          0.5282416939735413,
          0.3313039243221283,
          0.3612843453884125,
          0.5645262598991394,
          0.6860154867172241,
          0.551634669303894,
          0.6089311242103577,
          0.6513564586639404,
          0.4434061646461487,
          0.4946862757205963,
          0.5983439087867737,
          0.5509886145591736,
          0.6307575106620789,
          0.6559715270996094,
          0.6211993098258972,
          0.4736585319042206,
          0.46082207560539246,
          0.5035834312438965,
          0.5395123362541199,
          0.5031833648681641,
          0.4859062731266022,
          0.5023253560066223,
          0.4173352122306824,
          0.42676275968551636,
          0.5285042524337769,
          0.6004800796508789,
          0.6394058465957642,
          0.646774411201477,
          0.5590937733650208,
          0.522114098072052,
          0.6370262503623962,
          0.6972956657409668,
          0.7493237853050232,
          0.8182998895645142,
          0.6628211736679077,
          0.6437744498252869,
          0.41277652978897095,
          0.3122232258319855,
          0.42059487104415894,
          0.4455506205558777,
          0.30459049344062805,
          0.4396874010562897,
          0.42537498474121094,
          0.3756553828716278,
          0.33173760771751404,
          0.23253221809864044,
          0.18887324631214142,
          0.2193542867898941,
          0.34836310148239136,
          0.4566623568534851,
          0.5070374608039856,
          0.5837163925170898,
          0.6160149574279785,
          0.5032075047492981,
          0.36574605107307434,
          0.5907513499259949,
          0.7190566062927246,
          0.5940525531768799,
          0.5061641931533813,
          0.492316335439682,
          0.463187575340271,
          0.5067625641822815,
          0.5597630739212036,
          0.5727705955505371,
          0.48182621598243713,
          0.4474382698535919,
          0.4289017617702484,
          0.36157846450805664,
          0.3320990204811096,
          0.3688003420829773,
          0.41980716586112976,
          0.31710755825042725,
          0.30548182129859924,
          0.34421101212501526,
          0.32408830523490906,
          0.28095903992652893,
          0.23502790927886963,
          0.14893999695777893,
          0.3160000443458557,
          0.4377789795398712,
          0.4804069697856903,
          0.41030699014663696,
          0.31268739700317383,
          0.24195727705955505,
          0.27712687849998474,
          0.2991567850112915,
          0.31599923968315125,
          0.3377176821231842,
          0.28691309690475464,
          0.2699277698993683,
          0.27541494369506836,
          0.30537986755371094,
          0.3164633810520172,
          0.27823203802108765,
          0.26267802715301514,
          0.2077350616455078,
          0.1805581897497177,
          0.21897350251674652,
          0.25834324955940247,
          0.29326173663139343,
          0.2836669683456421,
          0.236741840839386,
          0.20084330439567566,
          0.19763199985027313,
          0.2224244624376297,
          0.2626277208328247,
          0.27074000239372253,
          0.26066139340400696,
          0.24513112008571625,
          0.18548032641410828,
          0.18179474771022797,
          0.23167957365512848,
          0.2931133508682251,
          0.3406924903392792,
          0.3483502268791199,
          0.35190024971961975,
          0.2318638414144516,
          0.1868574321269989,
          0.2013845443725586,
          0.23257949948310852,
          0.2659006416797638,
          0.24312737584114075,
          0.2496083676815033,
          0.18461765348911285,
          0.16956360638141632,
          0.2774341106414795,
          0.3289807438850403,
          0.31972736120224,
          0.30402451753616333,
          0.2714753746986389,
          0.19381919503211975,
          0.1832934319972992,
          0.22226129472255707,
          0.26365306973457336,
          0.284278929233551,
          0.29269370436668396,
          0.2872734069824219,
          0.3670528829097748,
          0.346591979265213,
          0.478064626455307,
          0.5185831785202026,
          0.49962636828422546,
          0.5022159814834595,
          0.48558372259140015,
          0.3553677201271057,
          0.3524708151817322,
          0.4434150159358978,
          0.41124850511550903,
          0.4389999210834503,
          0.49131298065185547,
          0.4579481780529022,
          0.32211539149284363,
          0.42812439799308777,
          0.5268669128417969,
          0.6316368579864502,
          0.6838274002075195,
          0.6438645720481873,
          0.49702709913253784,
          0.3431970775127411,
          0.30427613854408264,
          0.3037227988243103,
          0.40781232714653015,
          0.523370623588562,
          0.6041231155395508,
          0.6500725746154785,
          0.5532886385917664,
          0.5369315147399902,
          0.6250587701797485,
          0.6796404123306274,
          0.5479519367218018,
          0.5003318190574646,
          0.44759422540664673,
          0.3562893867492676,
          0.4353342056274414,
          0.5152654647827148,
          0.5655062198638916,
          0.5303820967674255,
          0.5529108643531799,
          0.5402443408966064,
          0.47874218225479126,
          0.5347974300384521,
          0.6623016595840454,
          0.7221425771713257,
          0.6737232208251953,
          0.6400724649429321,
          0.5654147267341614,
          0.502081573009491,
          0.5122042894363403,
          0.6034365296363831,
          0.6328433752059937,
          0.6259050369262695,
          0.6190778017044067,
          0.593966543674469,
          0.5230125188827515,
          0.4909415543079376,
          0.5024328827857971,
          0.5349873304367065,
          0.6377482414245605,
          0.6285113096237183,
          0.6886261701583862,
          0.6150563955307007,
          0.6350622177124023,
          0.6246131658554077,
          0.6103319525718689,
          0.6271587014198303,
          0.6232221126556396,
          0.6225314736366272,
          0.5330855250358582,
          0.4386712312698364,
          0.5049906969070435,
          0.5413283705711365,
          0.623673677444458,
          0.5979161262512207,
          0.6284799575805664,
          0.4860354959964752,
          0.4126938283443451,
          0.4771111309528351,
          0.5384289026260376,
          0.5631802678108215,
          0.5432155132293701,
          0.2553155720233917,
          0.19409318268299103,
          0.2632029354572296,
          0.36611559987068176,
          0.42920616269111633,
          0.4321739375591278,
          0.4600944519042969,
          0.5711215138435364,
          0.5376008749008179,
          0.5053518414497375,
          0.476383775472641,
          0.4734465777873993,
          0.4455506503582001,
          0.503026008605957,
          0.5786997675895691,
          0.4767868220806122,
          0.4436878561973572,
          0.44982925057411194,
          0.46438589692115784,
          0.5611410737037659,
          0.49998778104782104,
          0.4912203848361969,
          0.4273773431777954,
          0.5251195430755615,
          0.47067755460739136,
          0.3244198262691498,
          0.2843870222568512,
          0.28985396027565,
          0.4229464828968048,
          0.3089389204978943,
          0.289265900850296,
          0.4556908905506134,
          0.4472619891166687,
          0.48975709080696106,
          0.5027459263801575,
          0.4279938340187073,
          0.3036382794380188,
          0.3492960035800934,
          0.4498041570186615,
          0.42446380853652954,
          0.3697024881839752,
          0.3355235159397125,
          0.2757256031036377,
          0.18028850853443146,
          0.16080467402935028,
          0.19427289068698883,
          0.21676233410835266,
          0.2193901240825653,
          0.22456231713294983,
          0.20806066691875458,
          0.1557944118976593,
          0.168333500623703,
          0.20507359504699707,
          0.29194116592407227,
          0.2837398946285248,
          0.2664929926395416,
          0.2470499724149704,
          0.14892181754112244,
          0.14594368636608124,
          0.1768544316291809,
          0.23161329329013824,
          0.23734168708324432,
          0.22215083241462708,
          0.23932664096355438,
          0.20567753911018372,
          0.1745971143245697,
          0.2018260806798935,
          0.25363507866859436,
          0.24369071424007416,
          0.29153579473495483,
          0.27785196900367737,
          0.1797075867652893,
          0.13633790612220764,
          0.1892244517803192,
          0.23854105174541473,
          0.2631381154060364,
          0.26474717259407043,
          0.30110716819763184,
          0.20331305265426636,
          0.15948490798473358,
          0.17492364346981049,
          0.2111925333738327,
          0.22103898227214813,
          0.22225965559482574,
          0.24939079582691193,
          0.2352873533964157,
          0.2645703852176666,
          0.2825562655925751,
          0.32357257604599,
          0.28763359785079956,
          0.26928970217704773,
          0.30221840739250183,
          0.18913458287715912,
          0.21618910133838654,
          0.19771483540534973,
          0.2244075983762741,
          0.24211634695529938,
          0.21386240422725677,
          0.25783678889274597,
          0.12291475385427475,
          0.12916786968708038,
          0.19485698640346527,
          0.2296290397644043,
          0.22052013874053955,
          0.24328932166099548,
          0.2853613793849945,
          0.27013999223709106,
          0.23945125937461853,
          0.2031182497739792,
          0.22516465187072754,
          0.23990589380264282,
          0.23729686439037323,
          0.2556856572628021,
          0.22798262536525726,
          0.19082878530025482,
          0.22790531814098358,
          0.28831276297569275,
          0.28004375100135803,
          0.2717464864253998,
          0.32066524028778076,
          0.33267778158187866,
          0.34152156114578247,
          0.44857510924339294,
          0.5462159514427185,
          0.5232697129249573,
          0.373531311750412,
          0.3289475440979004,
          0.2569218575954437,
          0.32426217198371887,
          0.4749218225479126,
          0.5214857459068298,
          0.4106267988681793,
          0.40532925724983215,
          0.409835547208786,
          0.2808363735675812,
          0.21548260748386383,
          0.32008039951324463,
          0.5006981492042542,
          0.5187020897865295,
          0.5215641856193542,
          0.5179716348648071,
          0.5954568386077881,
          0.5981297492980957,
          0.5483563542366028,
          0.6591325402259827,
          0.6995822191238403,
          0.6437677145004272,
          0.5259360074996948,
          0.3459605574607849,
          0.37555038928985596,
          0.4707580506801605,
          0.49438855051994324,
          0.3605375289916992,
          0.35949963331222534,
          0.3728754222393036,
          0.2888723611831665,
          0.31895121932029724,
          0.4896111786365509,
          0.5144298672676086,
          0.5541536211967468,
          0.49756675958633423,
          0.5160316824913025,
          0.5308764576911926,
          0.537703812122345,
          0.6046124696731567,
          0.6410861015319824,
          0.6575959920883179,
          0.7282174825668335,
          0.7388661503791809,
          0.5576791167259216,
          0.4189702570438385,
          0.41378483176231384,
          0.47918644547462463,
          0.6220406293869019,
          0.6482419371604919,
          0.6292604804039001,
          0.510945200920105,
          0.2946092188358307,
          0.3537663519382477,
          0.4879859983921051,
          0.5477897524833679,
          0.6014554500579834,
          0.5776026844978333,
          0.42197945713996887,
          0.35991349816322327,
          0.35068684816360474,
          0.6059289574623108,
          0.5849010348320007,
          0.5765435695648193,
          0.6521990299224854,
          0.656634509563446,
          0.5485884547233582,
          0.43772515654563904,
          0.29131725430488586,
          0.3004947304725647,
          0.3121665120124817,
          0.427076131105423,
          0.4450323283672333,
          0.4123336374759674,
          0.4359637498855591,
          0.4243406057357788,
          0.42805442214012146,
          0.5376552939414978,
          0.5633893609046936,
          0.570613443851471,
          0.610467791557312,
          0.5160341858863831,
          0.48854684829711914,
          0.48192501068115234,
          0.5212216973304749,
          0.5329604744911194,
          0.4864513576030731,
          0.41591677069664,
          0.3734314441680908,
          0.3316190540790558,
          0.31467095017433167,
          0.3439079523086548,
          0.3428049385547638,
          0.3535413146018982,
          0.3583694398403168,
          0.42102888226509094,
          0.350365549325943,
          0.25795263051986694,
          0.2645187973976135,
          0.26583579182624817,
          0.3729546368122101,
          0.35008862614631653,
          0.43970274925231934,
          0.3660145103931427,
          0.2541828751564026,
          0.3349599540233612,
          0.40542054176330566,
          0.36588338017463684,
          0.4220375120639801,
          0.4107619822025299,
          0.30997952818870544,
          0.3500536382198334,
          0.4358583986759186,
          0.3629724681377411,
          0.35469210147857666,
          0.3310844600200653,
          0.2830517292022705,
          0.22187432646751404,
          0.2007620483636856,
          0.23187781870365143,
          0.2775527536869049,
          0.32204270362854004,
          0.30179136991500854,
          0.3535619080066681,
          0.30309489369392395,
          0.24843043088912964,
          0.23669829964637756,
          0.262270987033844,
          0.294351190328598,
          0.2693292200565338,
          0.2668021023273468,
          0.22103586792945862,
          0.18778231739997864,
          0.23267027735710144,
          0.2544742822647095,
          0.2607939541339874,
          0.26167044043540955,
          0.25645968317985535,
          0.24766905605793,
          0.2692126929759979,
          0.2646941542625427,
          0.276866614818573,
          0.3314705193042755,
          0.407331258058548,
          0.4217815101146698,
          0.28074753284454346,
          0.3284883499145508,
          0.29175126552581787,
          0.3189350664615631,
          0.3569544851779938,
          0.34539663791656494,
          0.2959304749965668,
          0.18834811449050903,
          0.17735780775547028,
          0.24008022248744965,
          0.31430545449256897,
          0.48060622811317444,
          0.5603774189949036,
          0.5427827835083008,
          0.49656274914741516,
          0.4679909944534302,
          0.4962434470653534,
          0.5442004799842834,
          0.4944145977497101,
          0.42813023924827576,
          0.43853506445884705,
          0.37553539872169495,
          0.31498172879219055,
          0.30564916133880615,
          0.2980929911136627,
          0.2984418570995331,
          0.2837323248386383,
          0.2609957456588745,
          0.19997954368591309,
          0.19139038026332855,
          0.21031443774700165,
          0.23052571713924408,
          0.24077092111110687,
          0.29893967509269714,
          0.40596112608909607,
          0.2411215901374817,
          0.16383589804172516,
          0.20887432992458344,
          0.3512948155403137,
          0.44888144731521606,
          0.41029712557792664,
          0.3385055363178253,
          0.33892911672592163,
          0.2897458076477051,
          0.29294049739837646,
          0.3300611674785614,
          0.43745583295822144,
          0.5206605792045593,
          0.6137691736221313,
          0.5520893931388855,
          0.4612430930137634,
          0.5058720111846924,
          0.568190336227417,
          0.6194530129432678,
          0.5961631536483765,
          0.5018972754478455,
          0.42602217197418213,
          0.3572031557559967,
          0.3686898648738861,
          0.44865888357162476,
          0.48000583052635193,
          0.44486889243125916,
          0.3486326038837433,
          0.27887171506881714,
          0.2971867620944977,
          0.3266994059085846,
          0.5226723551750183,
          0.5268718004226685,
          0.5284712314605713,
          0.5648958086967468,
          0.47238683700561523,
          0.33711299300193787,
          0.42679330706596375,
          0.4662294089794159,
          0.5489189624786377,
          0.49751853942871094,
          0.5115811228752136,
          0.4912199079990387,
          0.5636643171310425,
          0.6163532733917236,
          0.6613069772720337,
          0.6940035223960876,
          0.6519564986228943,
          0.6022211313247681,
          0.5175078511238098,
          0.4634571671485901,
          0.5053890943527222,
          0.5511243343353271,
          0.6050665378570557,
          0.5290115475654602,
          0.48818984627723694,
          0.43446043133735657,
          0.3610874116420746,
          0.36225566267967224,
          0.4765682518482208,
          0.5232440233230591,
          0.41518792510032654,
          0.47356876730918884,
          0.4659018814563751,
          0.4384913444519043,
          0.46512871980667114,
          0.5480057001113892,
          0.4093261957168579,
          0.31801822781562805,
          0.3028407394886017,
          0.29328271746635437,
          0.34692785143852234,
          0.36122456192970276,
          0.5174853205680847,
          0.512995183467865,
          0.4455114006996155,
          0.34947532415390015,
          0.4413561522960663,
          0.5033175945281982,
          0.5267044901847839,
          0.545186460018158,
          0.529671311378479,
          0.5138776302337646,
          0.6233594417572021,
          0.5079089999198914,
          0.43067002296447754,
          0.33915409445762634,
          0.2964242398738861,
          0.24171267449855804,
          0.2917652428150177,
          0.3342132866382599,
          0.36769476532936096,
          0.3588806986808777,
          0.3563390374183655,
          0.34516629576683044,
          0.32200300693511963,
          0.34063318371772766,
          0.2751571238040924,
          0.23857732117176056,
          0.26725462079048157,
          0.2516081929206848,
          0.23550601303577423,
          0.2478553205728531,
          0.26679354906082153,
          0.2692790925502777,
          0.22831058502197266,
          0.2723155915737152,
          0.29899460077285767,
          0.4606536626815796,
          0.4525521397590637,
          0.4497773349285126,
          0.3199329376220703,
          0.20878854393959045,
          0.1587621569633484,
          0.20051242411136627,
          0.246756449341774,
          0.2796676456928253,
          0.23753389716148376,
          0.21222494542598724,
          0.15316560864448547,
          0.14586342871189117,
          0.20188435912132263,
          0.2281375378370285,
          0.20504231750965118,
          0.215838223695755,
          0.2432388812303543,
          0.2924535572528839,
          0.24746330082416534,
          0.250530868768692,
          0.25437718629837036,
          0.3248937726020813,
          0.25147274136543274,
          0.23308157920837402,
          0.1761018931865692,
          0.16060447692871094,
          0.217143252491951,
          0.2898619771003723,
          0.2666252553462982,
          0.2440081387758255,
          0.242383673787117,
          0.16652154922485352,
          0.1883324533700943,
          0.18823987245559692,
          0.21961379051208496,
          0.21766747534275055,
          0.2529100179672241,
          0.2520853579044342,
          0.1616397500038147,
          0.14784416556358337,
          0.23963476717472076,
          0.3233654797077179,
          0.2592118978500366,
          0.23182277381420135,
          0.2602608799934387,
          0.15492023527622223,
          0.18466630578041077,
          0.23235870897769928,
          0.2512689530849457,
          0.23354823887348175,
          0.24777249991893768,
          0.24266166985034943,
          0.18043865263462067,
          0.15755128860473633,
          0.19021035730838776,
          0.27289533615112305,
          0.30754461884498596,
          0.27542784810066223,
          0.32934272289276123,
          0.2623254358768463,
          0.2776038348674774,
          0.4439030587673187,
          0.43673309683799744,
          0.5591857433319092,
          0.5709978938102722,
          0.472898930311203,
          0.3755244314670563,
          0.4198836386203766,
          0.4248080551624298,
          0.3148709833621979,
          0.3203064501285553,
          0.31582263112068176,
          0.3251233696937561,
          0.29329609870910645,
          0.36235156655311584,
          0.4667823612689972,
          0.4573274552822113,
          0.31303489208221436,
          0.31641703844070435,
          0.3540214002132416,
          0.3354319632053375,
          0.306769996881485,
          0.23496297001838684,
          0.2640507221221924,
          0.2863093912601471,
          0.2825504541397095,
          0.29824385046958923,
          0.23236499726772308,
          0.21603894233703613,
          0.2808929681777954,
          0.48271608352661133,
          0.48066219687461853,
          0.4214804470539093,
          0.4401930570602417,
          0.28443384170532227,
          0.2389702945947647,
          0.45109307765960693,
          0.5851531028747559,
          0.41904503107070923,
          0.30836328864097595,
          0.33937618136405945,
          0.3274860084056854,
          0.4690222442150116,
          0.5417146682739258,
          0.5063120722770691,
          0.4414471685886383,
          0.45172539353370667,
          0.5450489521026611,
          0.4617120921611786,
          0.41141194105148315,
          0.490593284368515,
          0.47017011046409607,
          0.3532291352748871,
          0.4087023138999939,
          0.36067500710487366,
          0.2491321861743927,
          0.2239954173564911,
          0.27933967113494873,
          0.4079606831073761,
          0.41088250279426575,
          0.3377661108970642,
          0.40901559591293335,
          0.333798885345459,
          0.32744482159614563,
          0.36801788210868835,
          0.34357333183288574,
          0.37113288044929504,
          0.4857759475708008,
          0.6146563291549683,
          0.6776315569877625,
          0.6617611050605774,
          0.6352934837341309,
          0.6072412729263306,
          0.5390374064445496,
          0.35594800114631653,
          0.2973949611186981,
          0.2618364095687866,
          0.43510469794273376,
          0.4090799391269684,
          0.41671445965766907,
          0.43091168999671936,
          0.34649109840393066,
          0.3216773569583893,
          0.40835192799568176,
          0.4965836703777313,
          0.4927043318748474,
          0.47082269191741943,
          0.44263944029808044,
          0.3174521327018738,
          0.3107599914073944,
          0.3198474943637848,
          0.4915856420993805,
          0.4543699622154236,
          0.5040390491485596,
          0.5604499578475952,
          0.5147725939750671,
          0.5328779220581055,
          0.5568113923072815,
          0.5158761739730835,
          0.5081976056098938,
          0.5666691660881042,
          0.5691885352134705,
          0.4464985430240631,
          0.33791857957839966,
          0.34299784898757935,
          0.5219805836677551,
          0.5138388276100159,
          0.578819751739502,
          0.5502920150756836,
          0.5519909858703613,
          0.556145429611206,
          0.5853626132011414,
          0.5435795783996582,
          0.440155565738678,
          0.3480603098869324,
          0.4120078682899475,
          0.4195795953273773,
          0.3297226130962372,
          0.33876726031303406,
          0.3614170551300049,
          0.48468396067619324,
          0.5420569777488708,
          0.6722983121871948,
          0.5546916127204895,
          0.4813297688961029,
          0.4471876323223114,
          0.4400104582309723,
          0.4230183959007263,
          0.36549973487854004,
          0.3270866572856903,
          0.32650816440582275,
          0.3393745720386505,
          0.33208468556404114,
          0.4159284830093384,
          0.28051790595054626,
          0.28865545988082886,
          0.3204517066478729,
          0.332477331161499,
          0.33403608202934265,
          0.36851492524147034,
          0.48262014985084534,
          0.4620746374130249,
          0.538796603679657,
          0.44580698013305664,
          0.3741855323314667,
          0.3060586452484131,
          0.4157295525074005,
          0.41566768288612366,
          0.347531259059906,
          0.3457368314266205,
          0.36325666308403015,
          0.3296946883201599,
          0.26575416326522827,
          0.2560949921607971,
          0.32672059535980225,
          0.3170987665653229,
          0.34012171626091003,
          0.43158942461013794,
          0.3210011422634125,
          0.25342026352882385,
          0.2627928853034973,
          0.29501646757125854,
          0.3169146478176117,
          0.28533777594566345,
          0.2494424283504486,
          0.21762119233608246,
          0.18618611991405487,
          0.22961775958538055,
          0.3199938237667084,
          0.3289419114589691,
          0.2614765763282776,
          0.2265641838312149,
          0.18399272859096527,
          0.18521389365196228,
          0.19435754418373108,
          0.22266314923763275,
          0.2317972332239151,
          0.161484956741333,
          0.24518801271915436,
          0.17958252131938934,
          0.1845099925994873,
          0.2314862161874771,
          0.3012819290161133,
          0.30310139060020447,
          0.35559341311454773,
          0.4400324821472168,
          0.24167637526988983,
          0.2120549976825714,
          0.22725608944892883,
          0.2457127720117569,
          0.2644755244255066,
          0.34116330742836,
          0.4142771065235138,
          0.30455654859542847,
          0.3178434669971466,
          0.29589134454727173,
          0.324375182390213,
          0.3540731966495514,
          0.27722835540771484,
          0.2952992618083954,
          0.20192058384418488,
          0.2078348696231842,
          0.22711703181266785,
          0.27707141637802124,
          0.2808781564235687,
          0.3286914825439453,
          0.3457747995853424,
          0.31010544300079346,
          0.37036019563674927,
          0.35919681191444397,
          0.44103288650512695,
          0.5095077753067017,
          0.44898608326911926,
          0.3310576379299164,
          0.24149350821971893,
          0.28591737151145935,
          0.3493663966655731,
          0.4199162423610687,
          0.5241424441337585,
          0.5318306088447571,
          0.4931330680847168,
          0.35564950108528137,
          0.33682307600975037,
          0.44591814279556274,
          0.5139114856719971,
          0.4615575969219208,
          0.3600482642650604,
          0.41075044870376587,
          0.3437187671661377,
          0.3380272090435028,
          0.3747594356536865,
          0.334257036447525,
          0.28409430384635925,
          0.3182995021343231,
          0.3364764153957367,
          0.2516075670719147,
          0.218013733625412,
          0.22365842759609222,
          0.29902708530426025,
          0.2937747538089752,
          0.25503334403038025,
          0.28399911522865295,
          0.3169402778148651,
          0.35095593333244324,
          0.3291624188423157,
          0.2769211232662201,
          0.3338593542575836,
          0.4516746997833252,
          0.4854455292224884,
          0.32070210576057434,
          0.3222713768482208,
          0.42580243945121765,
          0.5604215860366821,
          0.5321546196937561,
          0.5098302960395813,
          0.566785991191864,
          0.4349023401737213,
          0.4751417636871338,
          0.6260795593261719,
          0.5037343502044678,
          0.48399820923805237,
          0.5904887914657593,
          0.4933364689350128,
          0.32250115275382996,
          0.2840706408023834,
          0.40998202562332153,
          0.5016120076179504,
          0.4991021454334259,
          0.41127848625183105,
          0.3016735315322876,
          0.28457605838775635,
          0.3286270201206207,
          0.5198462009429932,
          0.6304501891136169,
          0.720183253288269,
          0.6522893905639648,
          0.595609188079834,
          0.615842878818512,
          0.5814679861068726,
          0.43101975321769714,
          0.3267585337162018,
          0.40544021129608154,
          0.48259237408638,
          0.5215732455253601,
          0.5763009786605835,
          0.7400861978530884,
          0.7405388355255127,
          0.7469773292541504,
          0.6591432094573975,
          0.7472901940345764,
          0.7036341428756714
         ]
        }
       ],
       "layout": {
        "template": {
         "data": {
          "bar": [
           {
            "error_x": {
             "color": "#2a3f5f"
            },
            "error_y": {
             "color": "#2a3f5f"
            },
            "marker": {
             "line": {
              "color": "#E5ECF6",
              "width": 0.5
             },
             "pattern": {
              "fillmode": "overlay",
              "size": 10,
              "solidity": 0.2
             }
            },
            "type": "bar"
           }
          ],
          "barpolar": [
           {
            "marker": {
             "line": {
              "color": "#E5ECF6",
              "width": 0.5
             },
             "pattern": {
              "fillmode": "overlay",
              "size": 10,
              "solidity": 0.2
             }
            },
            "type": "barpolar"
           }
          ],
          "carpet": [
           {
            "aaxis": {
             "endlinecolor": "#2a3f5f",
             "gridcolor": "white",
             "linecolor": "white",
             "minorgridcolor": "white",
             "startlinecolor": "#2a3f5f"
            },
            "baxis": {
             "endlinecolor": "#2a3f5f",
             "gridcolor": "white",
             "linecolor": "white",
             "minorgridcolor": "white",
             "startlinecolor": "#2a3f5f"
            },
            "type": "carpet"
           }
          ],
          "choropleth": [
           {
            "colorbar": {
             "outlinewidth": 0,
             "ticks": ""
            },
            "type": "choropleth"
           }
          ],
          "contour": [
           {
            "colorbar": {
             "outlinewidth": 0,
             "ticks": ""
            },
            "colorscale": [
             [
              0,
              "#0d0887"
             ],
             [
              0.1111111111111111,
              "#46039f"
             ],
             [
              0.2222222222222222,
              "#7201a8"
             ],
             [
              0.3333333333333333,
              "#9c179e"
             ],
             [
              0.4444444444444444,
              "#bd3786"
             ],
             [
              0.5555555555555556,
              "#d8576b"
             ],
             [
              0.6666666666666666,
              "#ed7953"
             ],
             [
              0.7777777777777778,
              "#fb9f3a"
             ],
             [
              0.8888888888888888,
              "#fdca26"
             ],
             [
              1,
              "#f0f921"
             ]
            ],
            "type": "contour"
           }
          ],
          "contourcarpet": [
           {
            "colorbar": {
             "outlinewidth": 0,
             "ticks": ""
            },
            "type": "contourcarpet"
           }
          ],
          "heatmap": [
           {
            "colorbar": {
             "outlinewidth": 0,
             "ticks": ""
            },
            "colorscale": [
             [
              0,
              "#0d0887"
             ],
             [
              0.1111111111111111,
              "#46039f"
             ],
             [
              0.2222222222222222,
              "#7201a8"
             ],
             [
              0.3333333333333333,
              "#9c179e"
             ],
             [
              0.4444444444444444,
              "#bd3786"
             ],
             [
              0.5555555555555556,
              "#d8576b"
             ],
             [
              0.6666666666666666,
              "#ed7953"
             ],
             [
              0.7777777777777778,
              "#fb9f3a"
             ],
             [
              0.8888888888888888,
              "#fdca26"
             ],
             [
              1,
              "#f0f921"
             ]
            ],
            "type": "heatmap"
           }
          ],
          "heatmapgl": [
           {
            "colorbar": {
             "outlinewidth": 0,
             "ticks": ""
            },
            "colorscale": [
             [
              0,
              "#0d0887"
             ],
             [
              0.1111111111111111,
              "#46039f"
             ],
             [
              0.2222222222222222,
              "#7201a8"
             ],
             [
              0.3333333333333333,
              "#9c179e"
             ],
             [
              0.4444444444444444,
              "#bd3786"
             ],
             [
              0.5555555555555556,
              "#d8576b"
             ],
             [
              0.6666666666666666,
              "#ed7953"
             ],
             [
              0.7777777777777778,
              "#fb9f3a"
             ],
             [
              0.8888888888888888,
              "#fdca26"
             ],
             [
              1,
              "#f0f921"
             ]
            ],
            "type": "heatmapgl"
           }
          ],
          "histogram": [
           {
            "marker": {
             "pattern": {
              "fillmode": "overlay",
              "size": 10,
              "solidity": 0.2
             }
            },
            "type": "histogram"
           }
          ],
          "histogram2d": [
           {
            "colorbar": {
             "outlinewidth": 0,
             "ticks": ""
            },
            "colorscale": [
             [
              0,
              "#0d0887"
             ],
             [
              0.1111111111111111,
              "#46039f"
             ],
             [
              0.2222222222222222,
              "#7201a8"
             ],
             [
              0.3333333333333333,
              "#9c179e"
             ],
             [
              0.4444444444444444,
              "#bd3786"
             ],
             [
              0.5555555555555556,
              "#d8576b"
             ],
             [
              0.6666666666666666,
              "#ed7953"
             ],
             [
              0.7777777777777778,
              "#fb9f3a"
             ],
             [
              0.8888888888888888,
              "#fdca26"
             ],
             [
              1,
              "#f0f921"
             ]
            ],
            "type": "histogram2d"
           }
          ],
          "histogram2dcontour": [
           {
            "colorbar": {
             "outlinewidth": 0,
             "ticks": ""
            },
            "colorscale": [
             [
              0,
              "#0d0887"
             ],
             [
              0.1111111111111111,
              "#46039f"
             ],
             [
              0.2222222222222222,
              "#7201a8"
             ],
             [
              0.3333333333333333,
              "#9c179e"
             ],
             [
              0.4444444444444444,
              "#bd3786"
             ],
             [
              0.5555555555555556,
              "#d8576b"
             ],
             [
              0.6666666666666666,
              "#ed7953"
             ],
             [
              0.7777777777777778,
              "#fb9f3a"
             ],
             [
              0.8888888888888888,
              "#fdca26"
             ],
             [
              1,
              "#f0f921"
             ]
            ],
            "type": "histogram2dcontour"
           }
          ],
          "mesh3d": [
           {
            "colorbar": {
             "outlinewidth": 0,
             "ticks": ""
            },
            "type": "mesh3d"
           }
          ],
          "parcoords": [
           {
            "line": {
             "colorbar": {
              "outlinewidth": 0,
              "ticks": ""
             }
            },
            "type": "parcoords"
           }
          ],
          "pie": [
           {
            "automargin": true,
            "type": "pie"
           }
          ],
          "scatter": [
           {
            "fillpattern": {
             "fillmode": "overlay",
             "size": 10,
             "solidity": 0.2
            },
            "type": "scatter"
           }
          ],
          "scatter3d": [
           {
            "line": {
             "colorbar": {
              "outlinewidth": 0,
              "ticks": ""
             }
            },
            "marker": {
             "colorbar": {
              "outlinewidth": 0,
              "ticks": ""
             }
            },
            "type": "scatter3d"
           }
          ],
          "scattercarpet": [
           {
            "marker": {
             "colorbar": {
              "outlinewidth": 0,
              "ticks": ""
             }
            },
            "type": "scattercarpet"
           }
          ],
          "scattergeo": [
           {
            "marker": {
             "colorbar": {
              "outlinewidth": 0,
              "ticks": ""
             }
            },
            "type": "scattergeo"
           }
          ],
          "scattergl": [
           {
            "marker": {
             "colorbar": {
              "outlinewidth": 0,
              "ticks": ""
             }
            },
            "type": "scattergl"
           }
          ],
          "scattermapbox": [
           {
            "marker": {
             "colorbar": {
              "outlinewidth": 0,
              "ticks": ""
             }
            },
            "type": "scattermapbox"
           }
          ],
          "scatterpolar": [
           {
            "marker": {
             "colorbar": {
              "outlinewidth": 0,
              "ticks": ""
             }
            },
            "type": "scatterpolar"
           }
          ],
          "scatterpolargl": [
           {
            "marker": {
             "colorbar": {
              "outlinewidth": 0,
              "ticks": ""
             }
            },
            "type": "scatterpolargl"
           }
          ],
          "scatterternary": [
           {
            "marker": {
             "colorbar": {
              "outlinewidth": 0,
              "ticks": ""
             }
            },
            "type": "scatterternary"
           }
          ],
          "surface": [
           {
            "colorbar": {
             "outlinewidth": 0,
             "ticks": ""
            },
            "colorscale": [
             [
              0,
              "#0d0887"
             ],
             [
              0.1111111111111111,
              "#46039f"
             ],
             [
              0.2222222222222222,
              "#7201a8"
             ],
             [
              0.3333333333333333,
              "#9c179e"
             ],
             [
              0.4444444444444444,
              "#bd3786"
             ],
             [
              0.5555555555555556,
              "#d8576b"
             ],
             [
              0.6666666666666666,
              "#ed7953"
             ],
             [
              0.7777777777777778,
              "#fb9f3a"
             ],
             [
              0.8888888888888888,
              "#fdca26"
             ],
             [
              1,
              "#f0f921"
             ]
            ],
            "type": "surface"
           }
          ],
          "table": [
           {
            "cells": {
             "fill": {
              "color": "#EBF0F8"
             },
             "line": {
              "color": "white"
             }
            },
            "header": {
             "fill": {
              "color": "#C8D4E3"
             },
             "line": {
              "color": "white"
             }
            },
            "type": "table"
           }
          ]
         },
         "layout": {
          "annotationdefaults": {
           "arrowcolor": "#2a3f5f",
           "arrowhead": 0,
           "arrowwidth": 1
          },
          "autotypenumbers": "strict",
          "coloraxis": {
           "colorbar": {
            "outlinewidth": 0,
            "ticks": ""
           }
          },
          "colorscale": {
           "diverging": [
            [
             0,
             "#8e0152"
            ],
            [
             0.1,
             "#c51b7d"
            ],
            [
             0.2,
             "#de77ae"
            ],
            [
             0.3,
             "#f1b6da"
            ],
            [
             0.4,
             "#fde0ef"
            ],
            [
             0.5,
             "#f7f7f7"
            ],
            [
             0.6,
             "#e6f5d0"
            ],
            [
             0.7,
             "#b8e186"
            ],
            [
             0.8,
             "#7fbc41"
            ],
            [
             0.9,
             "#4d9221"
            ],
            [
             1,
             "#276419"
            ]
           ],
           "sequential": [
            [
             0,
             "#0d0887"
            ],
            [
             0.1111111111111111,
             "#46039f"
            ],
            [
             0.2222222222222222,
             "#7201a8"
            ],
            [
             0.3333333333333333,
             "#9c179e"
            ],
            [
             0.4444444444444444,
             "#bd3786"
            ],
            [
             0.5555555555555556,
             "#d8576b"
            ],
            [
             0.6666666666666666,
             "#ed7953"
            ],
            [
             0.7777777777777778,
             "#fb9f3a"
            ],
            [
             0.8888888888888888,
             "#fdca26"
            ],
            [
             1,
             "#f0f921"
            ]
           ],
           "sequentialminus": [
            [
             0,
             "#0d0887"
            ],
            [
             0.1111111111111111,
             "#46039f"
            ],
            [
             0.2222222222222222,
             "#7201a8"
            ],
            [
             0.3333333333333333,
             "#9c179e"
            ],
            [
             0.4444444444444444,
             "#bd3786"
            ],
            [
             0.5555555555555556,
             "#d8576b"
            ],
            [
             0.6666666666666666,
             "#ed7953"
            ],
            [
             0.7777777777777778,
             "#fb9f3a"
            ],
            [
             0.8888888888888888,
             "#fdca26"
            ],
            [
             1,
             "#f0f921"
            ]
           ]
          },
          "colorway": [
           "#636efa",
           "#EF553B",
           "#00cc96",
           "#ab63fa",
           "#FFA15A",
           "#19d3f3",
           "#FF6692",
           "#B6E880",
           "#FF97FF",
           "#FECB52"
          ],
          "font": {
           "color": "#2a3f5f"
          },
          "geo": {
           "bgcolor": "white",
           "lakecolor": "white",
           "landcolor": "#E5ECF6",
           "showlakes": true,
           "showland": true,
           "subunitcolor": "white"
          },
          "hoverlabel": {
           "align": "left"
          },
          "hovermode": "closest",
          "mapbox": {
           "style": "light"
          },
          "paper_bgcolor": "white",
          "plot_bgcolor": "#E5ECF6",
          "polar": {
           "angularaxis": {
            "gridcolor": "white",
            "linecolor": "white",
            "ticks": ""
           },
           "bgcolor": "#E5ECF6",
           "radialaxis": {
            "gridcolor": "white",
            "linecolor": "white",
            "ticks": ""
           }
          },
          "scene": {
           "xaxis": {
            "backgroundcolor": "#E5ECF6",
            "gridcolor": "white",
            "gridwidth": 2,
            "linecolor": "white",
            "showbackground": true,
            "ticks": "",
            "zerolinecolor": "white"
           },
           "yaxis": {
            "backgroundcolor": "#E5ECF6",
            "gridcolor": "white",
            "gridwidth": 2,
            "linecolor": "white",
            "showbackground": true,
            "ticks": "",
            "zerolinecolor": "white"
           },
           "zaxis": {
            "backgroundcolor": "#E5ECF6",
            "gridcolor": "white",
            "gridwidth": 2,
            "linecolor": "white",
            "showbackground": true,
            "ticks": "",
            "zerolinecolor": "white"
           }
          },
          "shapedefaults": {
           "line": {
            "color": "#2a3f5f"
           }
          },
          "ternary": {
           "aaxis": {
            "gridcolor": "white",
            "linecolor": "white",
            "ticks": ""
           },
           "baxis": {
            "gridcolor": "white",
            "linecolor": "white",
            "ticks": ""
           },
           "bgcolor": "#E5ECF6",
           "caxis": {
            "gridcolor": "white",
            "linecolor": "white",
            "ticks": ""
           }
          },
          "title": {
           "x": 0.05
          },
          "xaxis": {
           "automargin": true,
           "gridcolor": "white",
           "linecolor": "white",
           "ticks": "",
           "title": {
            "standoff": 15
           },
           "zerolinecolor": "white",
           "zerolinewidth": 2
          },
          "yaxis": {
           "automargin": true,
           "gridcolor": "white",
           "linecolor": "white",
           "ticks": "",
           "title": {
            "standoff": 15
           },
           "zerolinecolor": "white",
           "zerolinewidth": 2
          }
         }
        }
       }
      },
      "text/html": [
       "<div>                            <div id=\"dbe2ac94-d424-42cc-a077-32eca5011db4\" class=\"plotly-graph-div\" style=\"height:525px; width:100%;\"></div>            <script type=\"text/javascript\">                require([\"plotly\"], function(Plotly) {                    window.PLOTLYENV=window.PLOTLYENV || {};                                    if (document.getElementById(\"dbe2ac94-d424-42cc-a077-32eca5011db4\")) {                    Plotly.newPlot(                        \"dbe2ac94-d424-42cc-a077-32eca5011db4\",                        [{\"y\":[0.6422365644780935,0.7082040461710314,0.4808861859252823,0.5001861735137146,0.7021223780563485,0.864900086880973,0.7600843986595506,0.6561995780067021,0.7168300856398163,0.685304703984113,0.6344172769020727,0.5852674692813701,0.6681767407223532,0.4853543502544372,0.5611269703363534,0.49807620702494726,0.2914856646394439,0.33815315874394936,0.526374581109594,0.6642050390964379,0.4893260518803525,0.55554176492491,0.6254809482437632,0.3915849571800918,0.4356460220925903,0.5731041330520045,0.48982251458359183,0.5798684373836415,0.6073600595755243,0.5815439990070744,0.4169045550453022,0.41628397666625283,0.46859873402010666,0.5013652724339083,0.4638202805014272,0.43632865830954437,0.4602209259029414,0.37402258905299735,0.3753878614869057,0.4985726697281866,0.5517562368127095,0.6054983244383766,0.6108352984982003,0.5034752389226759,0.45395308427454373,0.6147449422862107,0.6668114682884448,0.7201812088866822,0.8057589673575772,0.6108973563361052,0.6049398038972321,0.37116792850937064,0.28981010301601084,0.4005212858384013,0.38959910636713413,0.2771503040834057,0.42453766910760826,0.3935087501551445,0.36769268958669477,0.3351123246866079,0.20565967481692937,0.18077448181705347,0.22129824996897107,0.3489512225394067,0.434963385875636,0.45649745562864574,0.5421993297753506,0.5852054114434652,0.4793347399776592,0.33393322576641427,0.5659054238550328,0.7123619213106615,0.553742087625667,0.4741218815936453,0.45718009184560005,0.41026436638947483,0.47350130321459594,0.5348144470646642,0.5430681395060196,0.4492366885937694,0.4193868685614993,0.4005833436763062,0.3592528236316246,0.32363162467419626,0.38184187662901814,0.39574283231972196,0.30724835546729545,0.28875511977162716,0.34528981010301596,0.31215092466178473,0.28093583219560625,0.228186669976418,0.1431674320466675,0.31643291547722474,0.40281742584088365,0.4407347648007943,0.37439493608042695,0.3142608911505522,0.2242770261884076,0.26498696785403997,0.29303711058706705,0.2984361424847958,0.3295271192751644,0.2703859997517686,0.2676554548839518,0.26784162839766656,0.29415415166935577,0.30942037979396797,0.2519548218940052,0.24233585701874139,0.2072111207645525,0.20050887427082043,0.2412808737743577,0.28763807868933844,0.3134541392577882,0.30997890033511233,0.2755368002978775,0.21087253320094324,0.1997021223780563,0.24605932729303703,0.2977535062678416,0.2896239295022961,0.29589177113069376,0.27957055976169787,0.2093210872533201,0.21174134293161218,0.2534442100037234,0.3158743949360804,0.3646518555293533,0.3778081171651979,0.37935956311282115,0.24252203053245625,0.19790244507881338,0.22669728186669968,0.27919821273426826,0.29167183815315867,0.2778329403003599,0.2881965992304828,0.21472011915104872,0.1790989201936204,0.2994911257291796,0.3642174506640188,0.3476480079434032,0.33027181333002353,0.3053245624922427,0.21583716023333743,0.19535807372471137,0.25313392081419883,0.3094824376318729,0.30619337222291176,0.3294650614372595,0.33641553928261136,0.3848827106863596,0.3663894749906913,0.4928633486409334,0.5281122005709321,0.5037234702742955,0.5133424351495594,0.5017996772992429,0.3923296512349509,0.37898721608539154,0.4494849199453891,0.42155889288817183,0.4548218940052128,0.5035993545984857,0.4564353977907408,0.3294030035993546,0.4297505274916221,0.5471018989698399,0.6545240163832692,0.7093210872533201,0.6519796450291672,0.4779694675437508,0.3156261635844607,0.2925406478838277,0.3330023581978403,0.4237309172148441,0.5590170038475858,0.6188407595879358,0.6540275536800296,0.5534938562740473,0.5405858259898225,0.6236192131066153,0.6892764056100286,0.5564105746555789,0.48957428323197216,0.44129328534193857,0.36024574903810347,0.4431550204790865,0.5218443589425344,0.5723594389971453,0.5312150924661784,0.5591411195233958,0.5471639568077448,0.46928137023706096,0.5353729676058087,0.6701625915353108,0.7259525878118406,0.6635844607173885,0.6406851185304704,0.5507633114062306,0.4645649745562864,0.48423730917214847,0.5986099044309295,0.6227504033759462,0.6173513714782176,0.6041951098423731,0.5873153779322328,0.4937321583716022,0.46288941293285346,0.4949733151297008,0.5223408216457738,0.6171651979645029,0.6112697033635347,0.669045550453022,0.6027677795705596,0.6199578006702245,0.5945140871292044,0.6054362666004717,0.5970584584833064,0.5959414174010177,0.5936452773985353,0.5066401886558273,0.39040585825989815,0.4815688221422364,0.5336974059823755,0.600843986595507,0.5841504281990816,0.6113317612014396,0.43521161722725565,0.36378304579868437,0.46816432915477224,0.5276777957055975,0.5493980389723222,0.518741467047288,0.2370609407968226,0.17146580613131435,0.24475611269703357,0.35807372471143095,0.40641678043936935,0.3972322204294402,0.43334988209010794,0.5659674816929378,0.5173141367754747,0.4654337842869555,0.4466923172396674,0.44768524264614606,0.4334739977659178,0.47859004592279997,0.5770758346779198,0.4336601712796325,0.39214347772123614,0.41491870423234445,0.46822638699267716,0.5414546357204914,0.4779694675437508,0.4569939183318853,0.3866823879856025,0.5106739481196475,0.4403003599354597,0.3251210127839146,0.27944644408588803,0.3103512473625418,0.4105125977410947,0.304207521409954,0.3070621819535807,0.4385006826362169,0.4481817053493856,0.4954077199950354,0.48640933349882076,0.38326920690083155,0.27851557651731407,0.3489512225394067,0.4375698150676429,0.41808365396549585,0.40039717016259146,0.35242646146208256,0.2960158868065036,0.18319473749534565,0.1610400893632865,0.23290306565719243,0.24332878242522027,0.2508377808117165,0.2742956435397791,0.25636092838525504,0.1900831575027926,0.1848702991187786,0.22520789375698147,0.3339952836043192,0.3212113689959042,0.30160109221794706,0.29905672086384505,0.17798187911133168,0.16215713044557523,0.21099664887675307,0.2829837408464688,0.28410078192875754,0.2671589921807124,0.27162715650986713,0.2224773488891647,0.19026933101650734,0.23687476728310786,0.3071242397914856,0.29725704356460214,0.335857018741467,0.30613131438500674,0.20913491373960524,0.15452401638326918,0.2285590170038475,0.29154772247734884,0.3087998014149187,0.313702370609408,0.34708948740225887,0.23687476728310786,0.17587191262256419,0.2167680278019114,0.2821149311157999,0.2910512597741094,0.29942906789127466,0.3077448181705349,0.2739853543502544,0.3471515452401638,0.34355219064167797,0.39208141988333123,0.31829465061437257,0.3721608539158495,0.3608042695792478,0.24444582350750899,0.27559885813578255,0.2441355343179843,0.27311654461958546,0.3027801911381407,0.2984982003227007,0.31854288196599223,0.16867320342559267,0.17357577262008184,0.25853295271192744,0.2673451656944271,0.27777088246245496,0.30470398411319344,0.3696164825617475,0.33567084522775226,0.29725704356460214,0.25778825865706834,0.2995531835670845,0.3063174878987216,0.30371105870671466,0.3044557527615738,0.23197219808861858,0.17227255802407837,0.23588184187662897,0.27603326300111697,0.2715030408340573,0.2587191262256423,0.29688469653717264,0.33250589549460097,0.3212113689959042,0.41380166315005573,0.4936080426957924,0.4883331264738736,0.35174382524512837,0.32921683008563973,0.2263249348392702,0.3166190889909395,0.43874891398783655,0.4833684994414794,0.3684994414794588,0.3536055603822762,0.37445699391833187,0.2630631748789872,0.20050887427082043,0.2996772992428943,0.46499937942162084,0.4712051632121136,0.47424599726945516,0.45215340697530093,0.5480327665384138,0.566526002234082,0.5045302221670597,0.6244259649993794,0.6600471639568076,0.6010301601092217,0.49447685242646144,0.3348020354970832,0.3586943030904802,0.43986595507012527,0.47002606429191995,0.34628273550949484,0.33672582847213595,0.3724711431053742,0.2618220181208887,0.2945885565346903,0.46785403996524766,0.45544247238426216,0.5217202432667246,0.45252575400273043,0.4564353977907408,0.48101030160109215,0.4878987216085392,0.5704356460220926,0.5975549211865457,0.6111455876877249,0.6967854039965248,0.717078316991436,0.518741467047288,0.3848206528484547,0.3703611766166066,0.4226138761325554,0.5822266352240287,0.6061189028174258,0.5818542881965992,0.48777460593272914,0.265793719746804,0.34950974308055105,0.4428447312895619,0.48498200322700746,0.5593272930371106,0.5474121881593644,0.3663894749906913,0.3539158495718009,0.3536676182201811,0.5902320963137643,0.552128583840139,0.5354350254437136,0.6130073228248728,0.6306317487898722,0.5051508005461088,0.40995407719995025,0.29477473004840504,0.30768276033263,0.2996772992428943,0.39251582474866575,0.4318604939803897,0.36912001985850806,0.40027305448678163,0.3771254809482437,0.3948740225890529,0.5088742708204045,0.5337594638202804,0.5155765173141368,0.5952587811840634,0.46655082536924397,0.44470646642670963,0.44656820156385757,0.4906913243142609,0.5005585205411444,0.4548839518431177,0.3869926771751272,0.3479582971329278,0.32257664142981257,0.2956435397790741,0.35621198957428324,0.33492615117289304,0.3483306441603574,0.3447933473997765,0.3759463820280501,0.3469033138885441,0.2459352116172272,0.2526995159488643,0.26808985974928634,0.3869306193372223,0.3266724587315377,0.41448429936701003,0.36229365768896604,0.22402879483678784,0.3354226138761325,0.37749782797567333,0.3457242149683505,0.3941913863720987,0.3732158371602333,0.28161846841256044,0.33641553928261136,0.41423606801539037,0.3474618344296885,0.3474618344296885,0.32220429440238296,0.26523519920565963,0.21583716023333743,0.20417028670721105,0.25778825865706834,0.29831202680898594,0.3407595879359563,0.3475238922675934,0.3817177609532083,0.3268586322452526,0.25561623433039593,0.23861238674444574,0.30296636465185545,0.3266104008936328,0.2967605808613627,0.2827975673327541,0.23079309916842494,0.1908899093955566,0.251272185677051,0.28552811220057084,0.2885068884200074,0.29868437383641555,0.2917959538289685,0.2500930867568574,0.2583467791982127,0.2778329403003599,0.31184063547226015,0.3539158495718009,0.4186421745066401,0.42447561126970335,0.2946506143725952,0.3397666625294774,0.30904803276653836,0.3526126349757974,0.384572421496835,0.3764428447312895,0.3166190889909395,0.2114931115799925,0.17891274667990564,0.26889661164205036,0.34950974308055105,0.5069504778453519,0.565781308179223,0.5492118654586075,0.474370112945265,0.4417276902072732,0.5011790989201935,0.5661536552066525,0.5063298994663025,0.4403624177733648,0.4576765545488394,0.38904058582598977,0.33176120143974175,0.3390840263125232,0.34560009929254065,0.33920814198833305,0.3340573414422241,0.30836539654958417,0.2270696288941293,0.1972198088618592,0.24897604567456866,0.2900583343676306,0.2821769889537048,0.3404492987464316,0.3994042447561127,0.22893136403127712,0.1766166066774233,0.24339084026312519,0.4021968474618344,0.45364279508501915,0.4207521409954077,0.39003351123246865,0.34591038848206523,0.2782673451656944,0.31196475114807,0.36272806255430057,0.43725952587811834,0.5345041578751396,0.6288320714906291,0.5359935459848578,0.4271440982996152,0.49025691944892624,0.58110959414174,0.6166066774233584,0.5791858011666874,0.5052128583840138,0.3905920317736129,0.3487029911877869,0.40809234206280254,0.4480575896735758,0.45296015886806507,0.41851805883083026,0.36943030904803276,0.28130817922303586,0.27460593272930367,0.34169045550453014,0.5291671838153159,0.5082536924413553,0.5202308551570062,0.5438128335608786,0.419635099913119,0.3031525381655703,0.41057465557899964,0.4672334615861983,0.5268710438128336,0.4647511480700012,0.5006826362169542,0.46655082536924397,0.5355591411195234,0.5868809730668983,0.6432294898845724,0.66650117909892,0.6306938066277771,0.5753382152165817,0.4682884448305821,0.41553928261139383,0.48243763187290545,0.536800297877622,0.6029539530842746,0.5077572297381158,0.47362541889040577,0.38469653717264485,0.3382772744197592,0.37687724959662405,0.4737495345662156,0.5096810227131686,0.37054735013032136,0.4442100037234703,0.4196971577510239,0.40381035124736253,0.46183442968846966,0.5345041578751396,0.379483678788631,0.3159985106118902,0.30718629762939054,0.2662281246121385,0.32710686359687224,0.39108849447685234,0.5208514335360556,0.5031649497331513,0.41913863720987965,0.36545860742211733,0.43657688966116426,0.47921062430184935,0.5071366513590666,0.5357453146332382,0.5180588308303339,0.4912498448554051,0.6233709817549956,0.46996400645401504,0.3815936452773985,0.33846344793347394,0.30718629762939054,0.26107732406602946,0.3009805138388978,0.3480203549708327,0.3634727566091597,0.333312647387365,0.3465930246990194,0.3480203549708327,0.32822390467916096,0.3476480079434032,0.270882462455008,0.21850564726324928,0.2544371354102023,0.2601464564974556,0.2673451656944271,0.2817425840883703,0.29192006950477845,0.2935335732903065,0.24475611269703357,0.2761573786769268,0.32257664142981257,0.46717140374829336,0.45904182698274776,0.43688717885068884,0.3280377311654461,0.21261015266228123,0.15303462827355097,0.2288693061933722,0.2829837408464688,0.3138264862852178,0.2796946754375077,0.25716768027801906,0.1720243266724587,0.16960407099416652,0.22824872781432293,0.2687104381283356,0.2462455008067519,0.25114807000124106,0.2747300484051135,0.30935832195606305,0.2541268462206776,0.2767779570559761,0.28776219436514827,0.35732903065657184,0.29769144842993667,0.27876380786893384,0.21056224401141865,0.1869182077696413,0.25710562244011415,0.33927019982623796,0.3144470646642671,0.2847213603078068,0.2899962765297257,0.19200695047784533,0.20690083157502792,0.20448057589673574,0.2665384138016631,0.26771751272185673,0.3042695792478589,0.3052004468164329,0.19995035372967607,0.1858632245252575,0.3087377435770138,0.3951222539406727,0.30482809978900327,0.29092714409829956,0.30439369492366886,0.20106739481196467,0.23023457862728058,0.2772123619213106,0.29663646518555287,0.3028422489760456,0.3046419262752885,0.30656571925034126,0.22154648132059074,0.1905175623681271,0.2377435770137768,0.340139009556907,0.4034380042199329,0.3312026808985975,0.3639071614744942,0.32965123495097426,0.31357825493359803,0.4374456993918331,0.47070870050887426,0.5772620081916345,0.6005336974059824,0.4587935956311281,0.38786148690579614,0.3770013652724339,0.40647883827727427,0.29378180464192627,0.3140747176368375,0.30724835546729545,0.30836539654958417,0.26771751272185673,0.360680153903438,0.4396797815564105,0.4162219188283479,0.29899466302594013,0.2904306813950601,0.3422489760456745,0.32313516197095693,0.31146828844483054,0.21360307806876,0.238426213230731,0.27559885813578255,0.2664763559637582,0.28515576517314134,0.23035869430309042,0.19628894129328534,0.2605188035248851,0.44514087129204405,0.44259649993794203,0.36372098796077945,0.4123122750403375,0.27516445327044803,0.2118034007695172,0.40672706962889416,0.5718629762939059,0.37799429067891266,0.28738984733771866,0.31432294898845725,0.3269206900831575,0.4243514955938935,0.5201067394811963,0.4720119151048777,0.4029415415166935,0.39108849447685234,0.5144594762318481,0.42658557775847095,0.3620454263373464,0.46679905672086386,0.4456993918331885,0.32257664142981257,0.3778081171651979,0.36192131066153654,0.2224773488891647,0.20342559265235194,0.27603326300111697,0.37544991932481064,0.38438624798312027,0.3197840387240908,0.37979396797815557,0.3305200446816432,0.3177981879111331,0.3717885068884199,0.3368499441479459,0.3611145587687724,0.4363907161474493,0.5810475363038351,0.6496214471887799,0.6234330395929005,0.6063671341690454,0.5704356460220926,0.5073848827106863,0.334119399280129,0.28372843490132804,0.24370112945264988,0.4604691572545613,0.41057465557899964,0.4139878366637705,0.44334119399280125,0.36583095444954694,0.332381779818791,0.406851185304704,0.5103016010922178,0.49522154648132044,0.4772247734888916,0.4549460096810226,0.3295271192751644,0.3268586322452526,0.34733771875387853,0.4937321583716022,0.43936949236688594,0.5047163956807744,0.5629887054735013,0.5192999875884324,0.5335732903065656,0.5553555914111951,0.5098671962268834,0.49776591783542246,0.5667742335857019,0.5729179595382897,0.4051756236812709,0.3201563857515204,0.35174382524512837,0.5410822886930619,0.5068884200074469,0.5814819411691695,0.5420131562616358,0.5592031773613008,0.5466054362666003,0.58110959414174,0.5413305200446815,0.4396797815564105,0.3859376939307434,0.4192627528856895,0.40778205287327773,0.3471515452401638,0.3802283728434901,0.3987836663770634,0.48882958917711294,0.5415166935583963,0.6877249596624052,0.5678292168300855,0.4713292788879234,0.4505399031897729,0.4392453766910761,0.42658557775847095,0.4062926647635595,0.3596872284969591,0.3472136030780687,0.3603698647139133,0.37470522526995154,0.4189524636961647,0.297443217078317,0.31295767655454876,0.33641553928261136,0.33858756360928377,0.3514335360556038,0.40964378801042567,0.4960903562119895,0.47070870050887426,0.5627404741218814,0.4549460096810226,0.39896983989077817,0.32561747548715403,0.42658557775847095,0.4142981258532953,0.3764428447312895,0.38469653717264485,0.3991560134044929,0.3361673079309916,0.2779570559761697,0.2852798808489512,0.375201687973191,0.34131810847710065,0.3844483058210252,0.4442100037234703,0.3379049273923296,0.26535931488146947,0.2875139630135286,0.3326300111704108,0.35025443713541016,0.3135161970956931,0.27386123867444456,0.21738860618096056,0.1869182077696413,0.2736750651607298,0.3635968722849695,0.36378304579868437,0.28416283976666246,0.25363038351743816,0.21931239915601342,0.21416159860990436,0.21602333374705218,0.2517065905423854,0.2715030408340573,0.17227255802407837,0.2671589921807124,0.20739729427826736,0.1972198088618592,0.26629018245004343,0.35912870795581475,0.30656571925034126,0.3803524885192999,0.44718877994290673,0.2405361797194986,0.21583716023333743,0.2519548218940052,0.27094452029291294,0.2821149311157999,0.3586322452525753,0.399900707459352,0.31364031277150295,0.3518679409209383,0.2996772992428943,0.3332505895494601,0.39394315502047905,0.26486285217823,0.3339952836043192,0.23166190889909388,0.21341690455504525,0.26771751272185673,0.29192006950477845,0.3007322824872781,0.33852550577137885,0.3455380414546356,0.33287824252203047,0.37619461337966975,0.37197468040213477,0.4226138761325554,0.4726945513218318,0.4299367010053369,0.33101650738488264,0.26318729055479706,0.2872036738240039,0.3731537793223284,0.39326051880352486,0.5081916346034504,0.4962144718877993,0.46859873402010666,0.3112821149311158,0.30433163708576394,0.3833933225766414,0.46642670969343414,0.40958173017252075,0.3266104008936328,0.3447312895618716,0.3088618592528236,0.311033883579496,0.35844607173886056,0.3195358073724711,0.24581109594141737,0.27590914732530714,0.323073104133052,0.21546481320590782,0.18598734020106733,0.1918828348020355,0.27839146084150423,0.27696413056969094,0.21527863969219307,0.2448802283728434,0.29551942410326415,0.3322576641429812,0.3366017127963261,0.239232965123495,0.28981010301601084,0.3936949236688593,0.4311778577634354,0.2935335732903065,0.3011046295147076,0.35801166687352604,0.5078813454139258,0.4818791113317612,0.439307434528981,0.5197343924537668,0.40461710314012655,0.3958048901576269,0.5992925406478838,0.4545116048156882,0.4018865582723098,0.5489015762690826,0.4527119275164452,0.2960158868065036,0.24829340945761447,0.34268338091100903,0.4494849199453891,0.45109842373091713,0.3724090852674692,0.2625667121757478,0.25040337594638196,0.2938438624798312,0.4605312150924662,0.5787513963013527,0.6858011666873526,0.6105250093086757,0.5284845475983616,0.5793099168424972,0.5596996400645401,0.4090852674692814,0.2840387240908526,0.33604319225518176,0.4282611393819039,0.461400024823135,0.5191758719126226,0.7215464813205906,0.7220429440238302,0.7178850688841999,0.6002854660543625,0.722911753754499,0.6723346158619833],\"type\":\"scatter\"},{\"y\":[0.6842745542526245,0.7357956767082214,0.5436674356460571,0.5594450235366821,0.7211939096450806,0.8651865124702454,0.7991894483566284,0.7052006721496582,0.7427517771720886,0.734649658203125,0.6638193130493164,0.6302884817123413,0.6930599212646484,0.5551421046257019,0.5947104096412659,0.5282416939735413,0.3313039243221283,0.3612843453884125,0.5645262598991394,0.6860154867172241,0.551634669303894,0.6089311242103577,0.6513564586639404,0.4434061646461487,0.4946862757205963,0.5983439087867737,0.5509886145591736,0.6307575106620789,0.6559715270996094,0.6211993098258972,0.4736585319042206,0.46082207560539246,0.5035834312438965,0.5395123362541199,0.5031833648681641,0.4859062731266022,0.5023253560066223,0.4173352122306824,0.42676275968551636,0.5285042524337769,0.6004800796508789,0.6394058465957642,0.646774411201477,0.5590937733650208,0.522114098072052,0.6370262503623962,0.6972956657409668,0.7493237853050232,0.8182998895645142,0.6628211736679077,0.6437744498252869,0.41277652978897095,0.3122232258319855,0.42059487104415894,0.4455506205558777,0.30459049344062805,0.4396874010562897,0.42537498474121094,0.3756553828716278,0.33173760771751404,0.23253221809864044,0.18887324631214142,0.2193542867898941,0.34836310148239136,0.4566623568534851,0.5070374608039856,0.5837163925170898,0.6160149574279785,0.5032075047492981,0.36574605107307434,0.5907513499259949,0.7190566062927246,0.5940525531768799,0.5061641931533813,0.492316335439682,0.463187575340271,0.5067625641822815,0.5597630739212036,0.5727705955505371,0.48182621598243713,0.4474382698535919,0.4289017617702484,0.36157846450805664,0.3320990204811096,0.3688003420829773,0.41980716586112976,0.31710755825042725,0.30548182129859924,0.34421101212501526,0.32408830523490906,0.28095903992652893,0.23502790927886963,0.14893999695777893,0.3160000443458557,0.4377789795398712,0.4804069697856903,0.41030699014663696,0.31268739700317383,0.24195727705955505,0.27712687849998474,0.2991567850112915,0.31599923968315125,0.3377176821231842,0.28691309690475464,0.2699277698993683,0.27541494369506836,0.30537986755371094,0.3164633810520172,0.27823203802108765,0.26267802715301514,0.2077350616455078,0.1805581897497177,0.21897350251674652,0.25834324955940247,0.29326173663139343,0.2836669683456421,0.236741840839386,0.20084330439567566,0.19763199985027313,0.2224244624376297,0.2626277208328247,0.27074000239372253,0.26066139340400696,0.24513112008571625,0.18548032641410828,0.18179474771022797,0.23167957365512848,0.2931133508682251,0.3406924903392792,0.3483502268791199,0.35190024971961975,0.2318638414144516,0.1868574321269989,0.2013845443725586,0.23257949948310852,0.2659006416797638,0.24312737584114075,0.2496083676815033,0.18461765348911285,0.16956360638141632,0.2774341106414795,0.3289807438850403,0.31972736120224,0.30402451753616333,0.2714753746986389,0.19381919503211975,0.1832934319972992,0.22226129472255707,0.26365306973457336,0.284278929233551,0.29269370436668396,0.2872734069824219,0.3670528829097748,0.346591979265213,0.478064626455307,0.5185831785202026,0.49962636828422546,0.5022159814834595,0.48558372259140015,0.3553677201271057,0.3524708151817322,0.4434150159358978,0.41124850511550903,0.4389999210834503,0.49131298065185547,0.4579481780529022,0.32211539149284363,0.42812439799308777,0.5268669128417969,0.6316368579864502,0.6838274002075195,0.6438645720481873,0.49702709913253784,0.3431970775127411,0.30427613854408264,0.3037227988243103,0.40781232714653015,0.523370623588562,0.6041231155395508,0.6500725746154785,0.5532886385917664,0.5369315147399902,0.6250587701797485,0.6796404123306274,0.5479519367218018,0.5003318190574646,0.44759422540664673,0.3562893867492676,0.4353342056274414,0.5152654647827148,0.5655062198638916,0.5303820967674255,0.5529108643531799,0.5402443408966064,0.47874218225479126,0.5347974300384521,0.6623016595840454,0.7221425771713257,0.6737232208251953,0.6400724649429321,0.5654147267341614,0.502081573009491,0.5122042894363403,0.6034365296363831,0.6328433752059937,0.6259050369262695,0.6190778017044067,0.593966543674469,0.5230125188827515,0.4909415543079376,0.5024328827857971,0.5349873304367065,0.6377482414245605,0.6285113096237183,0.6886261701583862,0.6150563955307007,0.6350622177124023,0.6246131658554077,0.6103319525718689,0.6271587014198303,0.6232221126556396,0.6225314736366272,0.5330855250358582,0.4386712312698364,0.5049906969070435,0.5413283705711365,0.623673677444458,0.5979161262512207,0.6284799575805664,0.4860354959964752,0.4126938283443451,0.4771111309528351,0.5384289026260376,0.5631802678108215,0.5432155132293701,0.2553155720233917,0.19409318268299103,0.2632029354572296,0.36611559987068176,0.42920616269111633,0.4321739375591278,0.4600944519042969,0.5711215138435364,0.5376008749008179,0.5053518414497375,0.476383775472641,0.4734465777873993,0.4455506503582001,0.503026008605957,0.5786997675895691,0.4767868220806122,0.4436878561973572,0.44982925057411194,0.46438589692115784,0.5611410737037659,0.49998778104782104,0.4912203848361969,0.4273773431777954,0.5251195430755615,0.47067755460739136,0.3244198262691498,0.2843870222568512,0.28985396027565,0.4229464828968048,0.3089389204978943,0.289265900850296,0.4556908905506134,0.4472619891166687,0.48975709080696106,0.5027459263801575,0.4279938340187073,0.3036382794380188,0.3492960035800934,0.4498041570186615,0.42446380853652954,0.3697024881839752,0.3355235159397125,0.2757256031036377,0.18028850853443146,0.16080467402935028,0.19427289068698883,0.21676233410835266,0.2193901240825653,0.22456231713294983,0.20806066691875458,0.1557944118976593,0.168333500623703,0.20507359504699707,0.29194116592407227,0.2837398946285248,0.2664929926395416,0.2470499724149704,0.14892181754112244,0.14594368636608124,0.1768544316291809,0.23161329329013824,0.23734168708324432,0.22215083241462708,0.23932664096355438,0.20567753911018372,0.1745971143245697,0.2018260806798935,0.25363507866859436,0.24369071424007416,0.29153579473495483,0.27785196900367737,0.1797075867652893,0.13633790612220764,0.1892244517803192,0.23854105174541473,0.2631381154060364,0.26474717259407043,0.30110716819763184,0.20331305265426636,0.15948490798473358,0.17492364346981049,0.2111925333738327,0.22103898227214813,0.22225965559482574,0.24939079582691193,0.2352873533964157,0.2645703852176666,0.2825562655925751,0.32357257604599,0.28763359785079956,0.26928970217704773,0.30221840739250183,0.18913458287715912,0.21618910133838654,0.19771483540534973,0.2244075983762741,0.24211634695529938,0.21386240422725677,0.25783678889274597,0.12291475385427475,0.12916786968708038,0.19485698640346527,0.2296290397644043,0.22052013874053955,0.24328932166099548,0.2853613793849945,0.27013999223709106,0.23945125937461853,0.2031182497739792,0.22516465187072754,0.23990589380264282,0.23729686439037323,0.2556856572628021,0.22798262536525726,0.19082878530025482,0.22790531814098358,0.28831276297569275,0.28004375100135803,0.2717464864253998,0.32066524028778076,0.33267778158187866,0.34152156114578247,0.44857510924339294,0.5462159514427185,0.5232697129249573,0.373531311750412,0.3289475440979004,0.2569218575954437,0.32426217198371887,0.4749218225479126,0.5214857459068298,0.4106267988681793,0.40532925724983215,0.409835547208786,0.2808363735675812,0.21548260748386383,0.32008039951324463,0.5006981492042542,0.5187020897865295,0.5215641856193542,0.5179716348648071,0.5954568386077881,0.5981297492980957,0.5483563542366028,0.6591325402259827,0.6995822191238403,0.6437677145004272,0.5259360074996948,0.3459605574607849,0.37555038928985596,0.4707580506801605,0.49438855051994324,0.3605375289916992,0.35949963331222534,0.3728754222393036,0.2888723611831665,0.31895121932029724,0.4896111786365509,0.5144298672676086,0.5541536211967468,0.49756675958633423,0.5160316824913025,0.5308764576911926,0.537703812122345,0.6046124696731567,0.6410861015319824,0.6575959920883179,0.7282174825668335,0.7388661503791809,0.5576791167259216,0.4189702570438385,0.41378483176231384,0.47918644547462463,0.6220406293869019,0.6482419371604919,0.6292604804039001,0.510945200920105,0.2946092188358307,0.3537663519382477,0.4879859983921051,0.5477897524833679,0.6014554500579834,0.5776026844978333,0.42197945713996887,0.35991349816322327,0.35068684816360474,0.6059289574623108,0.5849010348320007,0.5765435695648193,0.6521990299224854,0.656634509563446,0.5485884547233582,0.43772515654563904,0.29131725430488586,0.3004947304725647,0.3121665120124817,0.427076131105423,0.4450323283672333,0.4123336374759674,0.4359637498855591,0.4243406057357788,0.42805442214012146,0.5376552939414978,0.5633893609046936,0.570613443851471,0.610467791557312,0.5160341858863831,0.48854684829711914,0.48192501068115234,0.5212216973304749,0.5329604744911194,0.4864513576030731,0.41591677069664,0.3734314441680908,0.3316190540790558,0.31467095017433167,0.3439079523086548,0.3428049385547638,0.3535413146018982,0.3583694398403168,0.42102888226509094,0.350365549325943,0.25795263051986694,0.2645187973976135,0.26583579182624817,0.3729546368122101,0.35008862614631653,0.43970274925231934,0.3660145103931427,0.2541828751564026,0.3349599540233612,0.40542054176330566,0.36588338017463684,0.4220375120639801,0.4107619822025299,0.30997952818870544,0.3500536382198334,0.4358583986759186,0.3629724681377411,0.35469210147857666,0.3310844600200653,0.2830517292022705,0.22187432646751404,0.2007620483636856,0.23187781870365143,0.2775527536869049,0.32204270362854004,0.30179136991500854,0.3535619080066681,0.30309489369392395,0.24843043088912964,0.23669829964637756,0.262270987033844,0.294351190328598,0.2693292200565338,0.2668021023273468,0.22103586792945862,0.18778231739997864,0.23267027735710144,0.2544742822647095,0.2607939541339874,0.26167044043540955,0.25645968317985535,0.24766905605793,0.2692126929759979,0.2646941542625427,0.276866614818573,0.3314705193042755,0.407331258058548,0.4217815101146698,0.28074753284454346,0.3284883499145508,0.29175126552581787,0.3189350664615631,0.3569544851779938,0.34539663791656494,0.2959304749965668,0.18834811449050903,0.17735780775547028,0.24008022248744965,0.31430545449256897,0.48060622811317444,0.5603774189949036,0.5427827835083008,0.49656274914741516,0.4679909944534302,0.4962434470653534,0.5442004799842834,0.4944145977497101,0.42813023924827576,0.43853506445884705,0.37553539872169495,0.31498172879219055,0.30564916133880615,0.2980929911136627,0.2984418570995331,0.2837323248386383,0.2609957456588745,0.19997954368591309,0.19139038026332855,0.21031443774700165,0.23052571713924408,0.24077092111110687,0.29893967509269714,0.40596112608909607,0.2411215901374817,0.16383589804172516,0.20887432992458344,0.3512948155403137,0.44888144731521606,0.41029712557792664,0.3385055363178253,0.33892911672592163,0.2897458076477051,0.29294049739837646,0.3300611674785614,0.43745583295822144,0.5206605792045593,0.6137691736221313,0.5520893931388855,0.4612430930137634,0.5058720111846924,0.568190336227417,0.6194530129432678,0.5961631536483765,0.5018972754478455,0.42602217197418213,0.3572031557559967,0.3686898648738861,0.44865888357162476,0.48000583052635193,0.44486889243125916,0.3486326038837433,0.27887171506881714,0.2971867620944977,0.3266994059085846,0.5226723551750183,0.5268718004226685,0.5284712314605713,0.5648958086967468,0.47238683700561523,0.33711299300193787,0.42679330706596375,0.4662294089794159,0.5489189624786377,0.49751853942871094,0.5115811228752136,0.4912199079990387,0.5636643171310425,0.6163532733917236,0.6613069772720337,0.6940035223960876,0.6519564986228943,0.6022211313247681,0.5175078511238098,0.4634571671485901,0.5053890943527222,0.5511243343353271,0.6050665378570557,0.5290115475654602,0.48818984627723694,0.43446043133735657,0.3610874116420746,0.36225566267967224,0.4765682518482208,0.5232440233230591,0.41518792510032654,0.47356876730918884,0.4659018814563751,0.4384913444519043,0.46512871980667114,0.5480057001113892,0.4093261957168579,0.31801822781562805,0.3028407394886017,0.29328271746635437,0.34692785143852234,0.36122456192970276,0.5174853205680847,0.512995183467865,0.4455114006996155,0.34947532415390015,0.4413561522960663,0.5033175945281982,0.5267044901847839,0.545186460018158,0.529671311378479,0.5138776302337646,0.6233594417572021,0.5079089999198914,0.43067002296447754,0.33915409445762634,0.2964242398738861,0.24171267449855804,0.2917652428150177,0.3342132866382599,0.36769476532936096,0.3588806986808777,0.3563390374183655,0.34516629576683044,0.32200300693511963,0.34063318371772766,0.2751571238040924,0.23857732117176056,0.26725462079048157,0.2516081929206848,0.23550601303577423,0.2478553205728531,0.26679354906082153,0.2692790925502777,0.22831058502197266,0.2723155915737152,0.29899460077285767,0.4606536626815796,0.4525521397590637,0.4497773349285126,0.3199329376220703,0.20878854393959045,0.1587621569633484,0.20051242411136627,0.246756449341774,0.2796676456928253,0.23753389716148376,0.21222494542598724,0.15316560864448547,0.14586342871189117,0.20188435912132263,0.2281375378370285,0.20504231750965118,0.215838223695755,0.2432388812303543,0.2924535572528839,0.24746330082416534,0.250530868768692,0.25437718629837036,0.3248937726020813,0.25147274136543274,0.23308157920837402,0.1761018931865692,0.16060447692871094,0.217143252491951,0.2898619771003723,0.2666252553462982,0.2440081387758255,0.242383673787117,0.16652154922485352,0.1883324533700943,0.18823987245559692,0.21961379051208496,0.21766747534275055,0.2529100179672241,0.2520853579044342,0.1616397500038147,0.14784416556358337,0.23963476717472076,0.3233654797077179,0.2592118978500366,0.23182277381420135,0.2602608799934387,0.15492023527622223,0.18466630578041077,0.23235870897769928,0.2512689530849457,0.23354823887348175,0.24777249991893768,0.24266166985034943,0.18043865263462067,0.15755128860473633,0.19021035730838776,0.27289533615112305,0.30754461884498596,0.27542784810066223,0.32934272289276123,0.2623254358768463,0.2776038348674774,0.4439030587673187,0.43673309683799744,0.5591857433319092,0.5709978938102722,0.472898930311203,0.3755244314670563,0.4198836386203766,0.4248080551624298,0.3148709833621979,0.3203064501285553,0.31582263112068176,0.3251233696937561,0.29329609870910645,0.36235156655311584,0.4667823612689972,0.4573274552822113,0.31303489208221436,0.31641703844070435,0.3540214002132416,0.3354319632053375,0.306769996881485,0.23496297001838684,0.2640507221221924,0.2863093912601471,0.2825504541397095,0.29824385046958923,0.23236499726772308,0.21603894233703613,0.2808929681777954,0.48271608352661133,0.48066219687461853,0.4214804470539093,0.4401930570602417,0.28443384170532227,0.2389702945947647,0.45109307765960693,0.5851531028747559,0.41904503107070923,0.30836328864097595,0.33937618136405945,0.3274860084056854,0.4690222442150116,0.5417146682739258,0.5063120722770691,0.4414471685886383,0.45172539353370667,0.5450489521026611,0.4617120921611786,0.41141194105148315,0.490593284368515,0.47017011046409607,0.3532291352748871,0.4087023138999939,0.36067500710487366,0.2491321861743927,0.2239954173564911,0.27933967113494873,0.4079606831073761,0.41088250279426575,0.3377661108970642,0.40901559591293335,0.333798885345459,0.32744482159614563,0.36801788210868835,0.34357333183288574,0.37113288044929504,0.4857759475708008,0.6146563291549683,0.6776315569877625,0.6617611050605774,0.6352934837341309,0.6072412729263306,0.5390374064445496,0.35594800114631653,0.2973949611186981,0.2618364095687866,0.43510469794273376,0.4090799391269684,0.41671445965766907,0.43091168999671936,0.34649109840393066,0.3216773569583893,0.40835192799568176,0.4965836703777313,0.4927043318748474,0.47082269191741943,0.44263944029808044,0.3174521327018738,0.3107599914073944,0.3198474943637848,0.4915856420993805,0.4543699622154236,0.5040390491485596,0.5604499578475952,0.5147725939750671,0.5328779220581055,0.5568113923072815,0.5158761739730835,0.5081976056098938,0.5666691660881042,0.5691885352134705,0.4464985430240631,0.33791857957839966,0.34299784898757935,0.5219805836677551,0.5138388276100159,0.578819751739502,0.5502920150756836,0.5519909858703613,0.556145429611206,0.5853626132011414,0.5435795783996582,0.440155565738678,0.3480603098869324,0.4120078682899475,0.4195795953273773,0.3297226130962372,0.33876726031303406,0.3614170551300049,0.48468396067619324,0.5420569777488708,0.6722983121871948,0.5546916127204895,0.4813297688961029,0.4471876323223114,0.4400104582309723,0.4230183959007263,0.36549973487854004,0.3270866572856903,0.32650816440582275,0.3393745720386505,0.33208468556404114,0.4159284830093384,0.28051790595054626,0.28865545988082886,0.3204517066478729,0.332477331161499,0.33403608202934265,0.36851492524147034,0.48262014985084534,0.4620746374130249,0.538796603679657,0.44580698013305664,0.3741855323314667,0.3060586452484131,0.4157295525074005,0.41566768288612366,0.347531259059906,0.3457368314266205,0.36325666308403015,0.3296946883201599,0.26575416326522827,0.2560949921607971,0.32672059535980225,0.3170987665653229,0.34012171626091003,0.43158942461013794,0.3210011422634125,0.25342026352882385,0.2627928853034973,0.29501646757125854,0.3169146478176117,0.28533777594566345,0.2494424283504486,0.21762119233608246,0.18618611991405487,0.22961775958538055,0.3199938237667084,0.3289419114589691,0.2614765763282776,0.2265641838312149,0.18399272859096527,0.18521389365196228,0.19435754418373108,0.22266314923763275,0.2317972332239151,0.161484956741333,0.24518801271915436,0.17958252131938934,0.1845099925994873,0.2314862161874771,0.3012819290161133,0.30310139060020447,0.35559341311454773,0.4400324821472168,0.24167637526988983,0.2120549976825714,0.22725608944892883,0.2457127720117569,0.2644755244255066,0.34116330742836,0.4142771065235138,0.30455654859542847,0.3178434669971466,0.29589134454727173,0.324375182390213,0.3540731966495514,0.27722835540771484,0.2952992618083954,0.20192058384418488,0.2078348696231842,0.22711703181266785,0.27707141637802124,0.2808781564235687,0.3286914825439453,0.3457747995853424,0.31010544300079346,0.37036019563674927,0.35919681191444397,0.44103288650512695,0.5095077753067017,0.44898608326911926,0.3310576379299164,0.24149350821971893,0.28591737151145935,0.3493663966655731,0.4199162423610687,0.5241424441337585,0.5318306088447571,0.4931330680847168,0.35564950108528137,0.33682307600975037,0.44591814279556274,0.5139114856719971,0.4615575969219208,0.3600482642650604,0.41075044870376587,0.3437187671661377,0.3380272090435028,0.3747594356536865,0.334257036447525,0.28409430384635925,0.3182995021343231,0.3364764153957367,0.2516075670719147,0.218013733625412,0.22365842759609222,0.29902708530426025,0.2937747538089752,0.25503334403038025,0.28399911522865295,0.3169402778148651,0.35095593333244324,0.3291624188423157,0.2769211232662201,0.3338593542575836,0.4516746997833252,0.4854455292224884,0.32070210576057434,0.3222713768482208,0.42580243945121765,0.5604215860366821,0.5321546196937561,0.5098302960395813,0.566785991191864,0.4349023401737213,0.4751417636871338,0.6260795593261719,0.5037343502044678,0.48399820923805237,0.5904887914657593,0.4933364689350128,0.32250115275382996,0.2840706408023834,0.40998202562332153,0.5016120076179504,0.4991021454334259,0.41127848625183105,0.3016735315322876,0.28457605838775635,0.3286270201206207,0.5198462009429932,0.6304501891136169,0.720183253288269,0.6522893905639648,0.595609188079834,0.615842878818512,0.5814679861068726,0.43101975321769714,0.3267585337162018,0.40544021129608154,0.48259237408638,0.5215732455253601,0.5763009786605835,0.7400861978530884,0.7405388355255127,0.7469773292541504,0.6591432094573975,0.7472901940345764,0.7036341428756714],\"type\":\"scatter\"}],                        {\"template\":{\"data\":{\"histogram2dcontour\":[{\"type\":\"histogram2dcontour\",\"colorbar\":{\"outlinewidth\":0,\"ticks\":\"\"},\"colorscale\":[[0.0,\"#0d0887\"],[0.1111111111111111,\"#46039f\"],[0.2222222222222222,\"#7201a8\"],[0.3333333333333333,\"#9c179e\"],[0.4444444444444444,\"#bd3786\"],[0.5555555555555556,\"#d8576b\"],[0.6666666666666666,\"#ed7953\"],[0.7777777777777778,\"#fb9f3a\"],[0.8888888888888888,\"#fdca26\"],[1.0,\"#f0f921\"]]}],\"choropleth\":[{\"type\":\"choropleth\",\"colorbar\":{\"outlinewidth\":0,\"ticks\":\"\"}}],\"histogram2d\":[{\"type\":\"histogram2d\",\"colorbar\":{\"outlinewidth\":0,\"ticks\":\"\"},\"colorscale\":[[0.0,\"#0d0887\"],[0.1111111111111111,\"#46039f\"],[0.2222222222222222,\"#7201a8\"],[0.3333333333333333,\"#9c179e\"],[0.4444444444444444,\"#bd3786\"],[0.5555555555555556,\"#d8576b\"],[0.6666666666666666,\"#ed7953\"],[0.7777777777777778,\"#fb9f3a\"],[0.8888888888888888,\"#fdca26\"],[1.0,\"#f0f921\"]]}],\"heatmap\":[{\"type\":\"heatmap\",\"colorbar\":{\"outlinewidth\":0,\"ticks\":\"\"},\"colorscale\":[[0.0,\"#0d0887\"],[0.1111111111111111,\"#46039f\"],[0.2222222222222222,\"#7201a8\"],[0.3333333333333333,\"#9c179e\"],[0.4444444444444444,\"#bd3786\"],[0.5555555555555556,\"#d8576b\"],[0.6666666666666666,\"#ed7953\"],[0.7777777777777778,\"#fb9f3a\"],[0.8888888888888888,\"#fdca26\"],[1.0,\"#f0f921\"]]}],\"heatmapgl\":[{\"type\":\"heatmapgl\",\"colorbar\":{\"outlinewidth\":0,\"ticks\":\"\"},\"colorscale\":[[0.0,\"#0d0887\"],[0.1111111111111111,\"#46039f\"],[0.2222222222222222,\"#7201a8\"],[0.3333333333333333,\"#9c179e\"],[0.4444444444444444,\"#bd3786\"],[0.5555555555555556,\"#d8576b\"],[0.6666666666666666,\"#ed7953\"],[0.7777777777777778,\"#fb9f3a\"],[0.8888888888888888,\"#fdca26\"],[1.0,\"#f0f921\"]]}],\"contourcarpet\":[{\"type\":\"contourcarpet\",\"colorbar\":{\"outlinewidth\":0,\"ticks\":\"\"}}],\"contour\":[{\"type\":\"contour\",\"colorbar\":{\"outlinewidth\":0,\"ticks\":\"\"},\"colorscale\":[[0.0,\"#0d0887\"],[0.1111111111111111,\"#46039f\"],[0.2222222222222222,\"#7201a8\"],[0.3333333333333333,\"#9c179e\"],[0.4444444444444444,\"#bd3786\"],[0.5555555555555556,\"#d8576b\"],[0.6666666666666666,\"#ed7953\"],[0.7777777777777778,\"#fb9f3a\"],[0.8888888888888888,\"#fdca26\"],[1.0,\"#f0f921\"]]}],\"surface\":[{\"type\":\"surface\",\"colorbar\":{\"outlinewidth\":0,\"ticks\":\"\"},\"colorscale\":[[0.0,\"#0d0887\"],[0.1111111111111111,\"#46039f\"],[0.2222222222222222,\"#7201a8\"],[0.3333333333333333,\"#9c179e\"],[0.4444444444444444,\"#bd3786\"],[0.5555555555555556,\"#d8576b\"],[0.6666666666666666,\"#ed7953\"],[0.7777777777777778,\"#fb9f3a\"],[0.8888888888888888,\"#fdca26\"],[1.0,\"#f0f921\"]]}],\"mesh3d\":[{\"type\":\"mesh3d\",\"colorbar\":{\"outlinewidth\":0,\"ticks\":\"\"}}],\"scatter\":[{\"fillpattern\":{\"fillmode\":\"overlay\",\"size\":10,\"solidity\":0.2},\"type\":\"scatter\"}],\"parcoords\":[{\"type\":\"parcoords\",\"line\":{\"colorbar\":{\"outlinewidth\":0,\"ticks\":\"\"}}}],\"scatterpolargl\":[{\"type\":\"scatterpolargl\",\"marker\":{\"colorbar\":{\"outlinewidth\":0,\"ticks\":\"\"}}}],\"bar\":[{\"error_x\":{\"color\":\"#2a3f5f\"},\"error_y\":{\"color\":\"#2a3f5f\"},\"marker\":{\"line\":{\"color\":\"#E5ECF6\",\"width\":0.5},\"pattern\":{\"fillmode\":\"overlay\",\"size\":10,\"solidity\":0.2}},\"type\":\"bar\"}],\"scattergeo\":[{\"type\":\"scattergeo\",\"marker\":{\"colorbar\":{\"outlinewidth\":0,\"ticks\":\"\"}}}],\"scatterpolar\":[{\"type\":\"scatterpolar\",\"marker\":{\"colorbar\":{\"outlinewidth\":0,\"ticks\":\"\"}}}],\"histogram\":[{\"marker\":{\"pattern\":{\"fillmode\":\"overlay\",\"size\":10,\"solidity\":0.2}},\"type\":\"histogram\"}],\"scattergl\":[{\"type\":\"scattergl\",\"marker\":{\"colorbar\":{\"outlinewidth\":0,\"ticks\":\"\"}}}],\"scatter3d\":[{\"type\":\"scatter3d\",\"line\":{\"colorbar\":{\"outlinewidth\":0,\"ticks\":\"\"}},\"marker\":{\"colorbar\":{\"outlinewidth\":0,\"ticks\":\"\"}}}],\"scattermapbox\":[{\"type\":\"scattermapbox\",\"marker\":{\"colorbar\":{\"outlinewidth\":0,\"ticks\":\"\"}}}],\"scatterternary\":[{\"type\":\"scatterternary\",\"marker\":{\"colorbar\":{\"outlinewidth\":0,\"ticks\":\"\"}}}],\"scattercarpet\":[{\"type\":\"scattercarpet\",\"marker\":{\"colorbar\":{\"outlinewidth\":0,\"ticks\":\"\"}}}],\"carpet\":[{\"aaxis\":{\"endlinecolor\":\"#2a3f5f\",\"gridcolor\":\"white\",\"linecolor\":\"white\",\"minorgridcolor\":\"white\",\"startlinecolor\":\"#2a3f5f\"},\"baxis\":{\"endlinecolor\":\"#2a3f5f\",\"gridcolor\":\"white\",\"linecolor\":\"white\",\"minorgridcolor\":\"white\",\"startlinecolor\":\"#2a3f5f\"},\"type\":\"carpet\"}],\"table\":[{\"cells\":{\"fill\":{\"color\":\"#EBF0F8\"},\"line\":{\"color\":\"white\"}},\"header\":{\"fill\":{\"color\":\"#C8D4E3\"},\"line\":{\"color\":\"white\"}},\"type\":\"table\"}],\"barpolar\":[{\"marker\":{\"line\":{\"color\":\"#E5ECF6\",\"width\":0.5},\"pattern\":{\"fillmode\":\"overlay\",\"size\":10,\"solidity\":0.2}},\"type\":\"barpolar\"}],\"pie\":[{\"automargin\":true,\"type\":\"pie\"}]},\"layout\":{\"autotypenumbers\":\"strict\",\"colorway\":[\"#636efa\",\"#EF553B\",\"#00cc96\",\"#ab63fa\",\"#FFA15A\",\"#19d3f3\",\"#FF6692\",\"#B6E880\",\"#FF97FF\",\"#FECB52\"],\"font\":{\"color\":\"#2a3f5f\"},\"hovermode\":\"closest\",\"hoverlabel\":{\"align\":\"left\"},\"paper_bgcolor\":\"white\",\"plot_bgcolor\":\"#E5ECF6\",\"polar\":{\"bgcolor\":\"#E5ECF6\",\"angularaxis\":{\"gridcolor\":\"white\",\"linecolor\":\"white\",\"ticks\":\"\"},\"radialaxis\":{\"gridcolor\":\"white\",\"linecolor\":\"white\",\"ticks\":\"\"}},\"ternary\":{\"bgcolor\":\"#E5ECF6\",\"aaxis\":{\"gridcolor\":\"white\",\"linecolor\":\"white\",\"ticks\":\"\"},\"baxis\":{\"gridcolor\":\"white\",\"linecolor\":\"white\",\"ticks\":\"\"},\"caxis\":{\"gridcolor\":\"white\",\"linecolor\":\"white\",\"ticks\":\"\"}},\"coloraxis\":{\"colorbar\":{\"outlinewidth\":0,\"ticks\":\"\"}},\"colorscale\":{\"sequential\":[[0.0,\"#0d0887\"],[0.1111111111111111,\"#46039f\"],[0.2222222222222222,\"#7201a8\"],[0.3333333333333333,\"#9c179e\"],[0.4444444444444444,\"#bd3786\"],[0.5555555555555556,\"#d8576b\"],[0.6666666666666666,\"#ed7953\"],[0.7777777777777778,\"#fb9f3a\"],[0.8888888888888888,\"#fdca26\"],[1.0,\"#f0f921\"]],\"sequentialminus\":[[0.0,\"#0d0887\"],[0.1111111111111111,\"#46039f\"],[0.2222222222222222,\"#7201a8\"],[0.3333333333333333,\"#9c179e\"],[0.4444444444444444,\"#bd3786\"],[0.5555555555555556,\"#d8576b\"],[0.6666666666666666,\"#ed7953\"],[0.7777777777777778,\"#fb9f3a\"],[0.8888888888888888,\"#fdca26\"],[1.0,\"#f0f921\"]],\"diverging\":[[0,\"#8e0152\"],[0.1,\"#c51b7d\"],[0.2,\"#de77ae\"],[0.3,\"#f1b6da\"],[0.4,\"#fde0ef\"],[0.5,\"#f7f7f7\"],[0.6,\"#e6f5d0\"],[0.7,\"#b8e186\"],[0.8,\"#7fbc41\"],[0.9,\"#4d9221\"],[1,\"#276419\"]]},\"xaxis\":{\"gridcolor\":\"white\",\"linecolor\":\"white\",\"ticks\":\"\",\"title\":{\"standoff\":15},\"zerolinecolor\":\"white\",\"automargin\":true,\"zerolinewidth\":2},\"yaxis\":{\"gridcolor\":\"white\",\"linecolor\":\"white\",\"ticks\":\"\",\"title\":{\"standoff\":15},\"zerolinecolor\":\"white\",\"automargin\":true,\"zerolinewidth\":2},\"scene\":{\"xaxis\":{\"backgroundcolor\":\"#E5ECF6\",\"gridcolor\":\"white\",\"linecolor\":\"white\",\"showbackground\":true,\"ticks\":\"\",\"zerolinecolor\":\"white\",\"gridwidth\":2},\"yaxis\":{\"backgroundcolor\":\"#E5ECF6\",\"gridcolor\":\"white\",\"linecolor\":\"white\",\"showbackground\":true,\"ticks\":\"\",\"zerolinecolor\":\"white\",\"gridwidth\":2},\"zaxis\":{\"backgroundcolor\":\"#E5ECF6\",\"gridcolor\":\"white\",\"linecolor\":\"white\",\"showbackground\":true,\"ticks\":\"\",\"zerolinecolor\":\"white\",\"gridwidth\":2}},\"shapedefaults\":{\"line\":{\"color\":\"#2a3f5f\"}},\"annotationdefaults\":{\"arrowcolor\":\"#2a3f5f\",\"arrowhead\":0,\"arrowwidth\":1},\"geo\":{\"bgcolor\":\"white\",\"landcolor\":\"#E5ECF6\",\"subunitcolor\":\"white\",\"showland\":true,\"showlakes\":true,\"lakecolor\":\"white\"},\"title\":{\"x\":0.05},\"mapbox\":{\"style\":\"light\"}}}},                        {\"responsive\": true}                    ).then(function(){\n",
       "                            \n",
       "var gd = document.getElementById('dbe2ac94-d424-42cc-a077-32eca5011db4');\n",
       "var x = new MutationObserver(function (mutations, observer) {{\n",
       "        var display = window.getComputedStyle(gd).display;\n",
       "        if (!display || display === 'none') {{\n",
       "            console.log([gd, 'removed!']);\n",
       "            Plotly.purge(gd);\n",
       "            observer.disconnect();\n",
       "        }}\n",
       "}});\n",
       "\n",
       "// Listen for the removal of the full notebook cells\n",
       "var notebookContainer = gd.closest('#notebook-container');\n",
       "if (notebookContainer) {{\n",
       "    x.observe(notebookContainer, {childList: true});\n",
       "}}\n",
       "\n",
       "// Listen for the clearing of the current output cell\n",
       "var outputEl = gd.closest('.output');\n",
       "if (outputEl) {{\n",
       "    x.observe(outputEl, {childList: true});\n",
       "}}\n",
       "\n",
       "                        })                };                });            </script>        </div>"
      ]
     },
     "metadata": {},
     "output_type": "display_data"
    }
   ],
   "source": [
    "fig = go.Figure(go.Scatter(y=y_test))\n",
    "fig.add_trace(go.Scatter(y=adversarial_prediction))\n",
    "fig"
   ]
  },
  {
   "cell_type": "markdown",
   "metadata": {},
   "source": [
    "### Adversarial Attack (PGD)"
   ]
  },
  {
   "cell_type": "code",
   "execution_count": 185,
   "metadata": {},
   "outputs": [
    {
     "name": "stderr",
     "output_type": "stream",
     "text": [
      "No artists with labels found to put in legend.  Note that artists whose label start with an underscore are ignored when legend() is called with no argument.\n"
     ]
    },
    {
     "name": "stdout",
     "output_type": "stream",
     "text": [
      "FGSM Adversarial R^2 :  -0.27\n",
      "FGSM Adversarial RMSE :  14.37\n",
      "FGSM Adversarial MAPE :  39.2\n"
     ]
    },
    {
     "data": {
      "image/png": "[encoded data removed]",
      "text/plain": [
       "<Figure size 640x480 with 1 Axes>"
      ]
     },
     "metadata": {},
     "output_type": "display_data"
    },
    {
     "name": "stdout",
     "output_type": "stream",
     "text": [
      "PGD Adversarial R^2 :  -3.95\n",
      "PGD Adversarial RMSE :  28.37\n",
      "PGD Adversarial MAPE :  78.8\n"
     ]
    }
   ],
   "source": [
    "adversarial = fgsm_attack_new(X_test, y_test, model, 0.1)\n",
    "\n",
    "adversarial_prediction = model.predict(adversarial).T[0]\n",
    "adversarial_score_r2 = round(r2_score(y_test, adversarial_prediction),2)\n",
    "adversarial_rmse = round(math.sqrt(mean_squared_error(y_test, adversarial_prediction.reshape(1,-1)[0]))*100,2)\n",
    "adversarial_mape = round(mape(y_test, adversarial_prediction),2)\n",
    "print(\"FGSM Adversarial R^2 : \", adversarial_score_r2)\n",
    "print(\"FGSM Adversarial RMSE : \", adversarial_rmse)\n",
    "print(\"FGSM Adversarial MAPE : \", adversarial_mape)\n",
    "\n",
    "#############\n",
    "#############\n",
    "adversarial = pgd_attack(X_test, y_test, model, 10, 0.1, 0.2)\n",
    "\n",
    "adversarial_prediction = model.predict(adversarial).T[0]\n",
    "adversarial_score_r2 = round(r2_score(y_test, adversarial_prediction),2)\n",
    "adversarial_rmse = round(math.sqrt(mean_squared_error(y_test, adversarial_prediction.reshape(1,-1)[0]))*100,2)\n",
    "adversarial_mape = round(mape(y_test, adversarial_prediction),2)\n",
    "print(\"PGD Adversarial R^2 : \", adversarial_score_r2)\n",
    "print(\"PGD Adversarial RMSE : \", adversarial_rmse)\n",
    "print(\"PGD Adversarial MAPE : \", adversarial_mape)"
   ]
  },
  {
   "cell_type": "code",
   "execution_count": 146,
   "metadata": {},
   "outputs": [
    {
     "data": {
      "application/vnd.plotly.v1+json": {
       "config": {
        "plotlyServerURL": "https://plot.ly"
       },
       "data": [
        {
         "type": "scatter",
         "y": [
          0.5663211941719055,
          0.5264800786972046,
          0.6738054156303406,
          0.667599618434906,
          0.6661102175712585,
          0.577777087688446,
          0.6004902720451355,
          0.6565905213356018,
          0.728453516960144,
          0.7584894895553589,
          0.7520354986190796,
          0.7184001207351685,
          0.6722911596298218,
          0.7374146580696106,
          0.7018555402755737,
          0.681562602519989,
          0.6689028143882751,
          0.5434591174125671,
          0.543831467628479,
          0.563814103603363,
          0.6102954149246216,
          0.7305262684822083,
          0.7201005220413208
         ]
        },
        {
         "type": "scatter",
         "y": [
          0.5163212113689958,
          0.47648007943403237,
          0.62380538662033,
          0.6175996028298373,
          0.6161102147201191,
          0.6277770882462453,
          0.650490256919449,
          0.7065905423855031,
          0.7784535186794092,
          0.808489512225394,
          0.8020354970832816,
          0.7684001489388109,
          0.7222911753754498,
          0.6874146704728806,
          0.6518555293533573,
          0.6315626163584459,
          0.6189028174258407,
          0.5934591038848206,
          0.5938314509122501,
          0.6138140747176367,
          0.6602953953084273,
          0.6805262504654338,
          0.6701005336974059
         ]
        }
       ],
       "layout": {
        "template": {
         "data": {
          "bar": [
           {
            "error_x": {
             "color": "#2a3f5f"
            },
            "error_y": {
             "color": "#2a3f5f"
            },
            "marker": {
             "line": {
              "color": "#E5ECF6",
              "width": 0.5
             },
             "pattern": {
              "fillmode": "overlay",
              "size": 10,
              "solidity": 0.2
             }
            },
            "type": "bar"
           }
          ],
          "barpolar": [
           {
            "marker": {
             "line": {
              "color": "#E5ECF6",
              "width": 0.5
             },
             "pattern": {
              "fillmode": "overlay",
              "size": 10,
              "solidity": 0.2
             }
            },
            "type": "barpolar"
           }
          ],
          "carpet": [
           {
            "aaxis": {
             "endlinecolor": "#2a3f5f",
             "gridcolor": "white",
             "linecolor": "white",
             "minorgridcolor": "white",
             "startlinecolor": "#2a3f5f"
            },
            "baxis": {
             "endlinecolor": "#2a3f5f",
             "gridcolor": "white",
             "linecolor": "white",
             "minorgridcolor": "white",
             "startlinecolor": "#2a3f5f"
            },
            "type": "carpet"
           }
          ],
          "choropleth": [
           {
            "colorbar": {
             "outlinewidth": 0,
             "ticks": ""
            },
            "type": "choropleth"
           }
          ],
          "contour": [
           {
            "colorbar": {
             "outlinewidth": 0,
             "ticks": ""
            },
            "colorscale": [
             [
              0,
              "#0d0887"
             ],
             [
              0.1111111111111111,
              "#46039f"
             ],
             [
              0.2222222222222222,
              "#7201a8"
             ],
             [
              0.3333333333333333,
              "#9c179e"
             ],
             [
              0.4444444444444444,
              "#bd3786"
             ],
             [
              0.5555555555555556,
              "#d8576b"
             ],
             [
              0.6666666666666666,
              "#ed7953"
             ],
             [
              0.7777777777777778,
              "#fb9f3a"
             ],
             [
              0.8888888888888888,
              "#fdca26"
             ],
             [
              1,
              "#f0f921"
             ]
            ],
            "type": "contour"
           }
          ],
          "contourcarpet": [
           {
            "colorbar": {
             "outlinewidth": 0,
             "ticks": ""
            },
            "type": "contourcarpet"
           }
          ],
          "heatmap": [
           {
            "colorbar": {
             "outlinewidth": 0,
             "ticks": ""
            },
            "colorscale": [
             [
              0,
              "#0d0887"
             ],
             [
              0.1111111111111111,
              "#46039f"
             ],
             [
              0.2222222222222222,
              "#7201a8"
             ],
             [
              0.3333333333333333,
              "#9c179e"
             ],
             [
              0.4444444444444444,
              "#bd3786"
             ],
             [
              0.5555555555555556,
              "#d8576b"
             ],
             [
              0.6666666666666666,
              "#ed7953"
             ],
             [
              0.7777777777777778,
              "#fb9f3a"
             ],
             [
              0.8888888888888888,
              "#fdca26"
             ],
             [
              1,
              "#f0f921"
             ]
            ],
            "type": "heatmap"
           }
          ],
          "heatmapgl": [
           {
            "colorbar": {
             "outlinewidth": 0,
             "ticks": ""
            },
            "colorscale": [
             [
              0,
              "#0d0887"
             ],
             [
              0.1111111111111111,
              "#46039f"
             ],
             [
              0.2222222222222222,
              "#7201a8"
             ],
             [
              0.3333333333333333,
              "#9c179e"
             ],
             [
              0.4444444444444444,
              "#bd3786"
             ],
             [
              0.5555555555555556,
              "#d8576b"
             ],
             [
              0.6666666666666666,
              "#ed7953"
             ],
             [
              0.7777777777777778,
              "#fb9f3a"
             ],
             [
              0.8888888888888888,
              "#fdca26"
             ],
             [
              1,
              "#f0f921"
             ]
            ],
            "type": "heatmapgl"
           }
          ],
          "histogram": [
           {
            "marker": {
             "pattern": {
              "fillmode": "overlay",
              "size": 10,
              "solidity": 0.2
             }
            },
            "type": "histogram"
           }
          ],
          "histogram2d": [
           {
            "colorbar": {
             "outlinewidth": 0,
             "ticks": ""
            },
            "colorscale": [
             [
              0,
              "#0d0887"
             ],
             [
              0.1111111111111111,
              "#46039f"
             ],
             [
              0.2222222222222222,
              "#7201a8"
             ],
             [
              0.3333333333333333,
              "#9c179e"
             ],
             [
              0.4444444444444444,
              "#bd3786"
             ],
             [
              0.5555555555555556,
              "#d8576b"
             ],
             [
              0.6666666666666666,
              "#ed7953"
             ],
             [
              0.7777777777777778,
              "#fb9f3a"
             ],
             [
              0.8888888888888888,
              "#fdca26"
             ],
             [
              1,
              "#f0f921"
             ]
            ],
            "type": "histogram2d"
           }
          ],
          "histogram2dcontour": [
           {
            "colorbar": {
             "outlinewidth": 0,
             "ticks": ""
            },
            "colorscale": [
             [
              0,
              "#0d0887"
             ],
             [
              0.1111111111111111,
              "#46039f"
             ],
             [
              0.2222222222222222,
              "#7201a8"
             ],
             [
              0.3333333333333333,
              "#9c179e"
             ],
             [
              0.4444444444444444,
              "#bd3786"
             ],
             [
              0.5555555555555556,
              "#d8576b"
             ],
             [
              0.6666666666666666,
              "#ed7953"
             ],
             [
              0.7777777777777778,
              "#fb9f3a"
             ],
             [
              0.8888888888888888,
              "#fdca26"
             ],
             [
              1,
              "#f0f921"
             ]
            ],
            "type": "histogram2dcontour"
           }
          ],
          "mesh3d": [
           {
            "colorbar": {
             "outlinewidth": 0,
             "ticks": ""
            },
            "type": "mesh3d"
           }
          ],
          "parcoords": [
           {
            "line": {
             "colorbar": {
              "outlinewidth": 0,
              "ticks": ""
             }
            },
            "type": "parcoords"
           }
          ],
          "pie": [
           {
            "automargin": true,
            "type": "pie"
           }
          ],
          "scatter": [
           {
            "fillpattern": {
             "fillmode": "overlay",
             "size": 10,
             "solidity": 0.2
            },
            "type": "scatter"
           }
          ],
          "scatter3d": [
           {
            "line": {
             "colorbar": {
              "outlinewidth": 0,
              "ticks": ""
             }
            },
            "marker": {
             "colorbar": {
              "outlinewidth": 0,
              "ticks": ""
             }
            },
            "type": "scatter3d"
           }
          ],
          "scattercarpet": [
           {
            "marker": {
             "colorbar": {
              "outlinewidth": 0,
              "ticks": ""
             }
            },
            "type": "scattercarpet"
           }
          ],
          "scattergeo": [
           {
            "marker": {
             "colorbar": {
              "outlinewidth": 0,
              "ticks": ""
             }
            },
            "type": "scattergeo"
           }
          ],
          "scattergl": [
           {
            "marker": {
             "colorbar": {
              "outlinewidth": 0,
              "ticks": ""
             }
            },
            "type": "scattergl"
           }
          ],
          "scattermapbox": [
           {
            "marker": {
             "colorbar": {
              "outlinewidth": 0,
              "ticks": ""
             }
            },
            "type": "scattermapbox"
           }
          ],
          "scatterpolar": [
           {
            "marker": {
             "colorbar": {
              "outlinewidth": 0,
              "ticks": ""
             }
            },
            "type": "scatterpolar"
           }
          ],
          "scatterpolargl": [
           {
            "marker": {
             "colorbar": {
              "outlinewidth": 0,
              "ticks": ""
             }
            },
            "type": "scatterpolargl"
           }
          ],
          "scatterternary": [
           {
            "marker": {
             "colorbar": {
              "outlinewidth": 0,
              "ticks": ""
             }
            },
            "type": "scatterternary"
           }
          ],
          "surface": [
           {
            "colorbar": {
             "outlinewidth": 0,
             "ticks": ""
            },
            "colorscale": [
             [
              0,
              "#0d0887"
             ],
             [
              0.1111111111111111,
              "#46039f"
             ],
             [
              0.2222222222222222,
              "#7201a8"
             ],
             [
              0.3333333333333333,
              "#9c179e"
             ],
             [
              0.4444444444444444,
              "#bd3786"
             ],
             [
              0.5555555555555556,
              "#d8576b"
             ],
             [
              0.6666666666666666,
              "#ed7953"
             ],
             [
              0.7777777777777778,
              "#fb9f3a"
             ],
             [
              0.8888888888888888,
              "#fdca26"
             ],
             [
              1,
              "#f0f921"
             ]
            ],
            "type": "surface"
           }
          ],
          "table": [
           {
            "cells": {
             "fill": {
              "color": "#EBF0F8"
             },
             "line": {
              "color": "white"
             }
            },
            "header": {
             "fill": {
              "color": "#C8D4E3"
             },
             "line": {
              "color": "white"
             }
            },
            "type": "table"
           }
          ]
         },
         "layout": {
          "annotationdefaults": {
           "arrowcolor": "#2a3f5f",
           "arrowhead": 0,
           "arrowwidth": 1
          },
          "autotypenumbers": "strict",
          "coloraxis": {
           "colorbar": {
            "outlinewidth": 0,
            "ticks": ""
           }
          },
          "colorscale": {
           "diverging": [
            [
             0,
             "#8e0152"
            ],
            [
             0.1,
             "#c51b7d"
            ],
            [
             0.2,
             "#de77ae"
            ],
            [
             0.3,
             "#f1b6da"
            ],
            [
             0.4,
             "#fde0ef"
            ],
            [
             0.5,
             "#f7f7f7"
            ],
            [
             0.6,
             "#e6f5d0"
            ],
            [
             0.7,
             "#b8e186"
            ],
            [
             0.8,
             "#7fbc41"
            ],
            [
             0.9,
             "#4d9221"
            ],
            [
             1,
             "#276419"
            ]
           ],
           "sequential": [
            [
             0,
             "#0d0887"
            ],
            [
             0.1111111111111111,
             "#46039f"
            ],
            [
             0.2222222222222222,
             "#7201a8"
            ],
            [
             0.3333333333333333,
             "#9c179e"
            ],
            [
             0.4444444444444444,
             "#bd3786"
            ],
            [
             0.5555555555555556,
             "#d8576b"
            ],
            [
             0.6666666666666666,
             "#ed7953"
            ],
            [
             0.7777777777777778,
             "#fb9f3a"
            ],
            [
             0.8888888888888888,
             "#fdca26"
            ],
            [
             1,
             "#f0f921"
            ]
           ],
           "sequentialminus": [
            [
             0,
             "#0d0887"
            ],
            [
             0.1111111111111111,
             "#46039f"
            ],
            [
             0.2222222222222222,
             "#7201a8"
            ],
            [
             0.3333333333333333,
             "#9c179e"
            ],
            [
             0.4444444444444444,
             "#bd3786"
            ],
            [
             0.5555555555555556,
             "#d8576b"
            ],
            [
             0.6666666666666666,
             "#ed7953"
            ],
            [
             0.7777777777777778,
             "#fb9f3a"
            ],
            [
             0.8888888888888888,
             "#fdca26"
            ],
            [
             1,
             "#f0f921"
            ]
           ]
          },
          "colorway": [
           "#636efa",
           "#EF553B",
           "#00cc96",
           "#ab63fa",
           "#FFA15A",
           "#19d3f3",
           "#FF6692",
           "#B6E880",
           "#FF97FF",
           "#FECB52"
          ],
          "font": {
           "color": "#2a3f5f"
          },
          "geo": {
           "bgcolor": "white",
           "lakecolor": "white",
           "landcolor": "#E5ECF6",
           "showlakes": true,
           "showland": true,
           "subunitcolor": "white"
          },
          "hoverlabel": {
           "align": "left"
          },
          "hovermode": "closest",
          "mapbox": {
           "style": "light"
          },
          "paper_bgcolor": "white",
          "plot_bgcolor": "#E5ECF6",
          "polar": {
           "angularaxis": {
            "gridcolor": "white",
            "linecolor": "white",
            "ticks": ""
           },
           "bgcolor": "#E5ECF6",
           "radialaxis": {
            "gridcolor": "white",
            "linecolor": "white",
            "ticks": ""
           }
          },
          "scene": {
           "xaxis": {
            "backgroundcolor": "#E5ECF6",
            "gridcolor": "white",
            "gridwidth": 2,
            "linecolor": "white",
            "showbackground": true,
            "ticks": "",
            "zerolinecolor": "white"
           },
           "yaxis": {
            "backgroundcolor": "#E5ECF6",
            "gridcolor": "white",
            "gridwidth": 2,
            "linecolor": "white",
            "showbackground": true,
            "ticks": "",
            "zerolinecolor": "white"
           },
           "zaxis": {
            "backgroundcolor": "#E5ECF6",
            "gridcolor": "white",
            "gridwidth": 2,
            "linecolor": "white",
            "showbackground": true,
            "ticks": "",
            "zerolinecolor": "white"
           }
          },
          "shapedefaults": {
           "line": {
            "color": "#2a3f5f"
           }
          },
          "ternary": {
           "aaxis": {
            "gridcolor": "white",
            "linecolor": "white",
            "ticks": ""
           },
           "baxis": {
            "gridcolor": "white",
            "linecolor": "white",
            "ticks": ""
           },
           "bgcolor": "#E5ECF6",
           "caxis": {
            "gridcolor": "white",
            "linecolor": "white",
            "ticks": ""
           }
          },
          "title": {
           "x": 0.05
          },
          "xaxis": {
           "automargin": true,
           "gridcolor": "white",
           "linecolor": "white",
           "ticks": "",
           "title": {
            "standoff": 15
           },
           "zerolinecolor": "white",
           "zerolinewidth": 2
          },
          "yaxis": {
           "automargin": true,
           "gridcolor": "white",
           "linecolor": "white",
           "ticks": "",
           "title": {
            "standoff": 15
           },
           "zerolinecolor": "white",
           "zerolinewidth": 2
          }
         }
        }
       }
      },
      "text/html": [
       "<div>                            <div id=\"74abe1a9-dfbe-4f72-88cb-34d494f647c3\" class=\"plotly-graph-div\" style=\"height:525px; width:100%;\"></div>            <script type=\"text/javascript\">                require([\"plotly\"], function(Plotly) {                    window.PLOTLYENV=window.PLOTLYENV || {};                                    if (document.getElementById(\"74abe1a9-dfbe-4f72-88cb-34d494f647c3\")) {                    Plotly.newPlot(                        \"74abe1a9-dfbe-4f72-88cb-34d494f647c3\",                        [{\"y\":[0.5663211941719055,0.5264800786972046,0.6738054156303406,0.667599618434906,0.6661102175712585,0.577777087688446,0.6004902720451355,0.6565905213356018,0.728453516960144,0.7584894895553589,0.7520354986190796,0.7184001207351685,0.6722911596298218,0.7374146580696106,0.7018555402755737,0.681562602519989,0.6689028143882751,0.5434591174125671,0.543831467628479,0.563814103603363,0.6102954149246216,0.7305262684822083,0.7201005220413208],\"type\":\"scatter\"},{\"y\":[0.5163212113689958,0.47648007943403237,0.62380538662033,0.6175996028298373,0.6161102147201191,0.6277770882462453,0.650490256919449,0.7065905423855031,0.7784535186794092,0.808489512225394,0.8020354970832816,0.7684001489388109,0.7222911753754498,0.6874146704728806,0.6518555293533573,0.6315626163584459,0.6189028174258407,0.5934591038848206,0.5938314509122501,0.6138140747176367,0.6602953953084273,0.6805262504654338,0.6701005336974059],\"type\":\"scatter\"}],                        {\"template\":{\"data\":{\"histogram2dcontour\":[{\"type\":\"histogram2dcontour\",\"colorbar\":{\"outlinewidth\":0,\"ticks\":\"\"},\"colorscale\":[[0.0,\"#0d0887\"],[0.1111111111111111,\"#46039f\"],[0.2222222222222222,\"#7201a8\"],[0.3333333333333333,\"#9c179e\"],[0.4444444444444444,\"#bd3786\"],[0.5555555555555556,\"#d8576b\"],[0.6666666666666666,\"#ed7953\"],[0.7777777777777778,\"#fb9f3a\"],[0.8888888888888888,\"#fdca26\"],[1.0,\"#f0f921\"]]}],\"choropleth\":[{\"type\":\"choropleth\",\"colorbar\":{\"outlinewidth\":0,\"ticks\":\"\"}}],\"histogram2d\":[{\"type\":\"histogram2d\",\"colorbar\":{\"outlinewidth\":0,\"ticks\":\"\"},\"colorscale\":[[0.0,\"#0d0887\"],[0.1111111111111111,\"#46039f\"],[0.2222222222222222,\"#7201a8\"],[0.3333333333333333,\"#9c179e\"],[0.4444444444444444,\"#bd3786\"],[0.5555555555555556,\"#d8576b\"],[0.6666666666666666,\"#ed7953\"],[0.7777777777777778,\"#fb9f3a\"],[0.8888888888888888,\"#fdca26\"],[1.0,\"#f0f921\"]]}],\"heatmap\":[{\"type\":\"heatmap\",\"colorbar\":{\"outlinewidth\":0,\"ticks\":\"\"},\"colorscale\":[[0.0,\"#0d0887\"],[0.1111111111111111,\"#46039f\"],[0.2222222222222222,\"#7201a8\"],[0.3333333333333333,\"#9c179e\"],[0.4444444444444444,\"#bd3786\"],[0.5555555555555556,\"#d8576b\"],[0.6666666666666666,\"#ed7953\"],[0.7777777777777778,\"#fb9f3a\"],[0.8888888888888888,\"#fdca26\"],[1.0,\"#f0f921\"]]}],\"heatmapgl\":[{\"type\":\"heatmapgl\",\"colorbar\":{\"outlinewidth\":0,\"ticks\":\"\"},\"colorscale\":[[0.0,\"#0d0887\"],[0.1111111111111111,\"#46039f\"],[0.2222222222222222,\"#7201a8\"],[0.3333333333333333,\"#9c179e\"],[0.4444444444444444,\"#bd3786\"],[0.5555555555555556,\"#d8576b\"],[0.6666666666666666,\"#ed7953\"],[0.7777777777777778,\"#fb9f3a\"],[0.8888888888888888,\"#fdca26\"],[1.0,\"#f0f921\"]]}],\"contourcarpet\":[{\"type\":\"contourcarpet\",\"colorbar\":{\"outlinewidth\":0,\"ticks\":\"\"}}],\"contour\":[{\"type\":\"contour\",\"colorbar\":{\"outlinewidth\":0,\"ticks\":\"\"},\"colorscale\":[[0.0,\"#0d0887\"],[0.1111111111111111,\"#46039f\"],[0.2222222222222222,\"#7201a8\"],[0.3333333333333333,\"#9c179e\"],[0.4444444444444444,\"#bd3786\"],[0.5555555555555556,\"#d8576b\"],[0.6666666666666666,\"#ed7953\"],[0.7777777777777778,\"#fb9f3a\"],[0.8888888888888888,\"#fdca26\"],[1.0,\"#f0f921\"]]}],\"surface\":[{\"type\":\"surface\",\"colorbar\":{\"outlinewidth\":0,\"ticks\":\"\"},\"colorscale\":[[0.0,\"#0d0887\"],[0.1111111111111111,\"#46039f\"],[0.2222222222222222,\"#7201a8\"],[0.3333333333333333,\"#9c179e\"],[0.4444444444444444,\"#bd3786\"],[0.5555555555555556,\"#d8576b\"],[0.6666666666666666,\"#ed7953\"],[0.7777777777777778,\"#fb9f3a\"],[0.8888888888888888,\"#fdca26\"],[1.0,\"#f0f921\"]]}],\"mesh3d\":[{\"type\":\"mesh3d\",\"colorbar\":{\"outlinewidth\":0,\"ticks\":\"\"}}],\"scatter\":[{\"fillpattern\":{\"fillmode\":\"overlay\",\"size\":10,\"solidity\":0.2},\"type\":\"scatter\"}],\"parcoords\":[{\"type\":\"parcoords\",\"line\":{\"colorbar\":{\"outlinewidth\":0,\"ticks\":\"\"}}}],\"scatterpolargl\":[{\"type\":\"scatterpolargl\",\"marker\":{\"colorbar\":{\"outlinewidth\":0,\"ticks\":\"\"}}}],\"bar\":[{\"error_x\":{\"color\":\"#2a3f5f\"},\"error_y\":{\"color\":\"#2a3f5f\"},\"marker\":{\"line\":{\"color\":\"#E5ECF6\",\"width\":0.5},\"pattern\":{\"fillmode\":\"overlay\",\"size\":10,\"solidity\":0.2}},\"type\":\"bar\"}],\"scattergeo\":[{\"type\":\"scattergeo\",\"marker\":{\"colorbar\":{\"outlinewidth\":0,\"ticks\":\"\"}}}],\"scatterpolar\":[{\"type\":\"scatterpolar\",\"marker\":{\"colorbar\":{\"outlinewidth\":0,\"ticks\":\"\"}}}],\"histogram\":[{\"marker\":{\"pattern\":{\"fillmode\":\"overlay\",\"size\":10,\"solidity\":0.2}},\"type\":\"histogram\"}],\"scattergl\":[{\"type\":\"scattergl\",\"marker\":{\"colorbar\":{\"outlinewidth\":0,\"ticks\":\"\"}}}],\"scatter3d\":[{\"type\":\"scatter3d\",\"line\":{\"colorbar\":{\"outlinewidth\":0,\"ticks\":\"\"}},\"marker\":{\"colorbar\":{\"outlinewidth\":0,\"ticks\":\"\"}}}],\"scattermapbox\":[{\"type\":\"scattermapbox\",\"marker\":{\"colorbar\":{\"outlinewidth\":0,\"ticks\":\"\"}}}],\"scatterternary\":[{\"type\":\"scatterternary\",\"marker\":{\"colorbar\":{\"outlinewidth\":0,\"ticks\":\"\"}}}],\"scattercarpet\":[{\"type\":\"scattercarpet\",\"marker\":{\"colorbar\":{\"outlinewidth\":0,\"ticks\":\"\"}}}],\"carpet\":[{\"aaxis\":{\"endlinecolor\":\"#2a3f5f\",\"gridcolor\":\"white\",\"linecolor\":\"white\",\"minorgridcolor\":\"white\",\"startlinecolor\":\"#2a3f5f\"},\"baxis\":{\"endlinecolor\":\"#2a3f5f\",\"gridcolor\":\"white\",\"linecolor\":\"white\",\"minorgridcolor\":\"white\",\"startlinecolor\":\"#2a3f5f\"},\"type\":\"carpet\"}],\"table\":[{\"cells\":{\"fill\":{\"color\":\"#EBF0F8\"},\"line\":{\"color\":\"white\"}},\"header\":{\"fill\":{\"color\":\"#C8D4E3\"},\"line\":{\"color\":\"white\"}},\"type\":\"table\"}],\"barpolar\":[{\"marker\":{\"line\":{\"color\":\"#E5ECF6\",\"width\":0.5},\"pattern\":{\"fillmode\":\"overlay\",\"size\":10,\"solidity\":0.2}},\"type\":\"barpolar\"}],\"pie\":[{\"automargin\":true,\"type\":\"pie\"}]},\"layout\":{\"autotypenumbers\":\"strict\",\"colorway\":[\"#636efa\",\"#EF553B\",\"#00cc96\",\"#ab63fa\",\"#FFA15A\",\"#19d3f3\",\"#FF6692\",\"#B6E880\",\"#FF97FF\",\"#FECB52\"],\"font\":{\"color\":\"#2a3f5f\"},\"hovermode\":\"closest\",\"hoverlabel\":{\"align\":\"left\"},\"paper_bgcolor\":\"white\",\"plot_bgcolor\":\"#E5ECF6\",\"polar\":{\"bgcolor\":\"#E5ECF6\",\"angularaxis\":{\"gridcolor\":\"white\",\"linecolor\":\"white\",\"ticks\":\"\"},\"radialaxis\":{\"gridcolor\":\"white\",\"linecolor\":\"white\",\"ticks\":\"\"}},\"ternary\":{\"bgcolor\":\"#E5ECF6\",\"aaxis\":{\"gridcolor\":\"white\",\"linecolor\":\"white\",\"ticks\":\"\"},\"baxis\":{\"gridcolor\":\"white\",\"linecolor\":\"white\",\"ticks\":\"\"},\"caxis\":{\"gridcolor\":\"white\",\"linecolor\":\"white\",\"ticks\":\"\"}},\"coloraxis\":{\"colorbar\":{\"outlinewidth\":0,\"ticks\":\"\"}},\"colorscale\":{\"sequential\":[[0.0,\"#0d0887\"],[0.1111111111111111,\"#46039f\"],[0.2222222222222222,\"#7201a8\"],[0.3333333333333333,\"#9c179e\"],[0.4444444444444444,\"#bd3786\"],[0.5555555555555556,\"#d8576b\"],[0.6666666666666666,\"#ed7953\"],[0.7777777777777778,\"#fb9f3a\"],[0.8888888888888888,\"#fdca26\"],[1.0,\"#f0f921\"]],\"sequentialminus\":[[0.0,\"#0d0887\"],[0.1111111111111111,\"#46039f\"],[0.2222222222222222,\"#7201a8\"],[0.3333333333333333,\"#9c179e\"],[0.4444444444444444,\"#bd3786\"],[0.5555555555555556,\"#d8576b\"],[0.6666666666666666,\"#ed7953\"],[0.7777777777777778,\"#fb9f3a\"],[0.8888888888888888,\"#fdca26\"],[1.0,\"#f0f921\"]],\"diverging\":[[0,\"#8e0152\"],[0.1,\"#c51b7d\"],[0.2,\"#de77ae\"],[0.3,\"#f1b6da\"],[0.4,\"#fde0ef\"],[0.5,\"#f7f7f7\"],[0.6,\"#e6f5d0\"],[0.7,\"#b8e186\"],[0.8,\"#7fbc41\"],[0.9,\"#4d9221\"],[1,\"#276419\"]]},\"xaxis\":{\"gridcolor\":\"white\",\"linecolor\":\"white\",\"ticks\":\"\",\"title\":{\"standoff\":15},\"zerolinecolor\":\"white\",\"automargin\":true,\"zerolinewidth\":2},\"yaxis\":{\"gridcolor\":\"white\",\"linecolor\":\"white\",\"ticks\":\"\",\"title\":{\"standoff\":15},\"zerolinecolor\":\"white\",\"automargin\":true,\"zerolinewidth\":2},\"scene\":{\"xaxis\":{\"backgroundcolor\":\"#E5ECF6\",\"gridcolor\":\"white\",\"linecolor\":\"white\",\"showbackground\":true,\"ticks\":\"\",\"zerolinecolor\":\"white\",\"gridwidth\":2},\"yaxis\":{\"backgroundcolor\":\"#E5ECF6\",\"gridcolor\":\"white\",\"linecolor\":\"white\",\"showbackground\":true,\"ticks\":\"\",\"zerolinecolor\":\"white\",\"gridwidth\":2},\"zaxis\":{\"backgroundcolor\":\"#E5ECF6\",\"gridcolor\":\"white\",\"linecolor\":\"white\",\"showbackground\":true,\"ticks\":\"\",\"zerolinecolor\":\"white\",\"gridwidth\":2}},\"shapedefaults\":{\"line\":{\"color\":\"#2a3f5f\"}},\"annotationdefaults\":{\"arrowcolor\":\"#2a3f5f\",\"arrowhead\":0,\"arrowwidth\":1},\"geo\":{\"bgcolor\":\"white\",\"landcolor\":\"#E5ECF6\",\"subunitcolor\":\"white\",\"showland\":true,\"showlakes\":true,\"lakecolor\":\"white\"},\"title\":{\"x\":0.05},\"mapbox\":{\"style\":\"light\"}}}},                        {\"responsive\": true}                    ).then(function(){\n",
       "                            \n",
       "var gd = document.getElementById('74abe1a9-dfbe-4f72-88cb-34d494f647c3');\n",
       "var x = new MutationObserver(function (mutations, observer) {{\n",
       "        var display = window.getComputedStyle(gd).display;\n",
       "        if (!display || display === 'none') {{\n",
       "            console.log([gd, 'removed!']);\n",
       "            Plotly.purge(gd);\n",
       "            observer.disconnect();\n",
       "        }}\n",
       "}});\n",
       "\n",
       "// Listen for the removal of the full notebook cells\n",
       "var notebookContainer = gd.closest('#notebook-container');\n",
       "if (notebookContainer) {{\n",
       "    x.observe(notebookContainer, {childList: true});\n",
       "}}\n",
       "\n",
       "// Listen for the clearing of the current output cell\n",
       "var outputEl = gd.closest('.output');\n",
       "if (outputEl) {{\n",
       "    x.observe(outputEl, {childList: true});\n",
       "}}\n",
       "\n",
       "                        })                };                });            </script>        </div>"
      ]
     },
     "metadata": {},
     "output_type": "display_data"
    }
   ],
   "source": [
    "fig = go.Figure(go.Scatter(y=adversarial.numpy()[0].T[0]))\n",
    "fig.add_trace(go.Scatter(y=X_test[0].T[0]))\n",
    "fig"
   ]
  },
  {
   "cell_type": "code",
   "execution_count": 76,
   "metadata": {},
   "outputs": [],
   "source": [
    "from absl import app, flags\n",
    "FLAGS = flags.FLAGS\n",
    "\n",
    "from cleverhans.tf2.attacks.projected_gradient_descent import projected_gradient_descent\n",
    "from cleverhans.tf2.attacks.fast_gradient_method import fast_gradient_method"
   ]
  },
  {
   "cell_type": "code",
   "execution_count": 109,
   "metadata": {},
   "outputs": [
    {
     "name": "stdout",
     "output_type": "stream",
     "text": [
      "FGSM Adversarial R^2 :  0.96\n",
      "FGSM Adversarial RMSE :  2.62\n",
      "FGSM Adversarial MAPE :  6.38\n",
      "WARNING:tensorflow:Model was constructed with shape (None, 23, 1) for input KerasTensor(type_spec=TensorSpec(shape=(None, 23, 1), dtype=tf.float32, name='lstm_1_input'), name='lstm_1_input', description=\"created by layer 'lstm_1_input'\"), but it was called on an input with incompatible shape (23, 1, 1).\n",
      "WARNING:tensorflow:Model was constructed with shape (None, 23, 1) for input KerasTensor(type_spec=TensorSpec(shape=(None, 23, 1), dtype=tf.float32, name='lstm_1_input'), name='lstm_1_input', description=\"created by layer 'lstm_1_input'\"), but it was called on an input with incompatible shape (None, 1, 1).\n"
     ]
    },
    {
     "ename": "ValueError",
     "evalue": "Found input variables with inconsistent numbers of samples: [1000, 23]",
     "output_type": "error",
     "traceback": [
      "\u001b[0;31m---------------------------------------------------------------------------\u001b[0m",
      "\u001b[0;31mValueError\u001b[0m                                Traceback (most recent call last)",
      "Cell \u001b[0;32mIn [109], line 21\u001b[0m\n\u001b[1;32m     18\u001b[0m x_pgd \u001b[38;5;241m=\u001b[39m projected_gradient_descent(model, X_test[\u001b[38;5;241m0\u001b[39m], alpha, epsilon, \u001b[38;5;241m100\u001b[39m, np\u001b[38;5;241m.\u001b[39minf)\n\u001b[1;32m     19\u001b[0m y_pred_pgd \u001b[38;5;241m=\u001b[39m model\u001b[38;5;241m.\u001b[39mpredict(x_pgd)\u001b[38;5;241m.\u001b[39mT[\u001b[38;5;241m0\u001b[39m]\n\u001b[0;32m---> 21\u001b[0m adversarial_score_r2 \u001b[38;5;241m=\u001b[39m \u001b[38;5;28mround\u001b[39m(\u001b[43mr2_score\u001b[49m\u001b[43m(\u001b[49m\u001b[43my_test\u001b[49m\u001b[43m,\u001b[49m\u001b[43m \u001b[49m\u001b[43my_pred_pgd\u001b[49m\u001b[43m)\u001b[49m,\u001b[38;5;241m2\u001b[39m)\n\u001b[1;32m     22\u001b[0m adversarial_rmse \u001b[38;5;241m=\u001b[39m \u001b[38;5;28mround\u001b[39m(math\u001b[38;5;241m.\u001b[39msqrt(mean_squared_error(y_test, y_pred_pgd\u001b[38;5;241m.\u001b[39mreshape(\u001b[38;5;241m1\u001b[39m,\u001b[38;5;241m-\u001b[39m\u001b[38;5;241m1\u001b[39m)[\u001b[38;5;241m0\u001b[39m]))\u001b[38;5;241m*\u001b[39m\u001b[38;5;241m100\u001b[39m,\u001b[38;5;241m2\u001b[39m)\n\u001b[1;32m     23\u001b[0m adversarial_mape \u001b[38;5;241m=\u001b[39m \u001b[38;5;28mround\u001b[39m(mape(y_test, y_pred_pgd),\u001b[38;5;241m2\u001b[39m)\n",
      "File \u001b[0;32m~/python_envs/cmpe/lib/python3.10/site-packages/sklearn/metrics/_regression.py:911\u001b[0m, in \u001b[0;36mr2_score\u001b[0;34m(y_true, y_pred, sample_weight, multioutput, force_finite)\u001b[0m\n\u001b[1;32m    784\u001b[0m \u001b[38;5;28;01mdef\u001b[39;00m \u001b[38;5;21mr2_score\u001b[39m(\n\u001b[1;32m    785\u001b[0m     y_true,\n\u001b[1;32m    786\u001b[0m     y_pred,\n\u001b[0;32m   (...)\u001b[0m\n\u001b[1;32m    790\u001b[0m     force_finite\u001b[38;5;241m=\u001b[39m\u001b[38;5;28;01mTrue\u001b[39;00m,\n\u001b[1;32m    791\u001b[0m ):\n\u001b[1;32m    792\u001b[0m     \u001b[38;5;124;03m\"\"\":math:`R^2` (coefficient of determination) regression score function.\u001b[39;00m\n\u001b[1;32m    793\u001b[0m \n\u001b[1;32m    794\u001b[0m \u001b[38;5;124;03m    Best possible score is 1.0 and it can be negative (because the\u001b[39;00m\n\u001b[0;32m   (...)\u001b[0m\n\u001b[1;32m    909\u001b[0m \u001b[38;5;124;03m    -inf\u001b[39;00m\n\u001b[1;32m    910\u001b[0m \u001b[38;5;124;03m    \"\"\"\u001b[39;00m\n\u001b[0;32m--> 911\u001b[0m     y_type, y_true, y_pred, multioutput \u001b[38;5;241m=\u001b[39m \u001b[43m_check_reg_targets\u001b[49m\u001b[43m(\u001b[49m\n\u001b[1;32m    912\u001b[0m \u001b[43m        \u001b[49m\u001b[43my_true\u001b[49m\u001b[43m,\u001b[49m\u001b[43m \u001b[49m\u001b[43my_pred\u001b[49m\u001b[43m,\u001b[49m\u001b[43m \u001b[49m\u001b[43mmultioutput\u001b[49m\n\u001b[1;32m    913\u001b[0m \u001b[43m    \u001b[49m\u001b[43m)\u001b[49m\n\u001b[1;32m    914\u001b[0m     check_consistent_length(y_true, y_pred, sample_weight)\n\u001b[1;32m    916\u001b[0m     \u001b[38;5;28;01mif\u001b[39;00m _num_samples(y_pred) \u001b[38;5;241m<\u001b[39m \u001b[38;5;241m2\u001b[39m:\n",
      "File \u001b[0;32m~/python_envs/cmpe/lib/python3.10/site-packages/sklearn/metrics/_regression.py:100\u001b[0m, in \u001b[0;36m_check_reg_targets\u001b[0;34m(y_true, y_pred, multioutput, dtype)\u001b[0m\n\u001b[1;32m     66\u001b[0m \u001b[38;5;28;01mdef\u001b[39;00m \u001b[38;5;21m_check_reg_targets\u001b[39m(y_true, y_pred, multioutput, dtype\u001b[38;5;241m=\u001b[39m\u001b[38;5;124m\"\u001b[39m\u001b[38;5;124mnumeric\u001b[39m\u001b[38;5;124m\"\u001b[39m):\n\u001b[1;32m     67\u001b[0m     \u001b[38;5;124;03m\"\"\"Check that y_true and y_pred belong to the same regression task.\u001b[39;00m\n\u001b[1;32m     68\u001b[0m \n\u001b[1;32m     69\u001b[0m \u001b[38;5;124;03m    Parameters\u001b[39;00m\n\u001b[0;32m   (...)\u001b[0m\n\u001b[1;32m     98\u001b[0m \u001b[38;5;124;03m        correct keyword.\u001b[39;00m\n\u001b[1;32m     99\u001b[0m \u001b[38;5;124;03m    \"\"\"\u001b[39;00m\n\u001b[0;32m--> 100\u001b[0m     \u001b[43mcheck_consistent_length\u001b[49m\u001b[43m(\u001b[49m\u001b[43my_true\u001b[49m\u001b[43m,\u001b[49m\u001b[43m \u001b[49m\u001b[43my_pred\u001b[49m\u001b[43m)\u001b[49m\n\u001b[1;32m    101\u001b[0m     y_true \u001b[38;5;241m=\u001b[39m check_array(y_true, ensure_2d\u001b[38;5;241m=\u001b[39m\u001b[38;5;28;01mFalse\u001b[39;00m, dtype\u001b[38;5;241m=\u001b[39mdtype)\n\u001b[1;32m    102\u001b[0m     y_pred \u001b[38;5;241m=\u001b[39m check_array(y_pred, ensure_2d\u001b[38;5;241m=\u001b[39m\u001b[38;5;28;01mFalse\u001b[39;00m, dtype\u001b[38;5;241m=\u001b[39mdtype)\n",
      "File \u001b[0;32m~/python_envs/cmpe/lib/python3.10/site-packages/sklearn/utils/validation.py:387\u001b[0m, in \u001b[0;36mcheck_consistent_length\u001b[0;34m(*arrays)\u001b[0m\n\u001b[1;32m    385\u001b[0m uniques \u001b[38;5;241m=\u001b[39m np\u001b[38;5;241m.\u001b[39munique(lengths)\n\u001b[1;32m    386\u001b[0m \u001b[38;5;28;01mif\u001b[39;00m \u001b[38;5;28mlen\u001b[39m(uniques) \u001b[38;5;241m>\u001b[39m \u001b[38;5;241m1\u001b[39m:\n\u001b[0;32m--> 387\u001b[0m     \u001b[38;5;28;01mraise\u001b[39;00m \u001b[38;5;167;01mValueError\u001b[39;00m(\n\u001b[1;32m    388\u001b[0m         \u001b[38;5;124m\"\u001b[39m\u001b[38;5;124mFound input variables with inconsistent numbers of samples: \u001b[39m\u001b[38;5;132;01m%r\u001b[39;00m\u001b[38;5;124m\"\u001b[39m\n\u001b[1;32m    389\u001b[0m         \u001b[38;5;241m%\u001b[39m [\u001b[38;5;28mint\u001b[39m(l) \u001b[38;5;28;01mfor\u001b[39;00m l \u001b[38;5;129;01min\u001b[39;00m lengths]\n\u001b[1;32m    390\u001b[0m     )\n",
      "\u001b[0;31mValueError\u001b[0m: Found input variables with inconsistent numbers of samples: [1000, 23]"
     ]
    }
   ],
   "source": [
    "alpha = 0.1\n",
    "epsilon = 0.1\n",
    "x_pgd = fast_gradient_method(model, X_test, epsilon, np.inf)\n",
    "y_pred_pgd = model.predict(x_pgd).T[0]\n",
    "\n",
    "adversarial_score_r2 = round(r2_score(y_test, y_pred_pgd),2)\n",
    "adversarial_rmse = round(math.sqrt(mean_squared_error(y_test, y_pred_pgd.reshape(1,-1)[0]))*100,2)\n",
    "adversarial_mape = round(mape(y_test, y_pred_pgd),2)\n",
    "print(\"FGSM Adversarial R^2 : \", adversarial_score_r2)\n",
    "print(\"FGSM Adversarial RMSE : \", adversarial_rmse)\n",
    "print(\"FGSM Adversarial MAPE : \", adversarial_mape)\n",
    "\n",
    "#############\n",
    "#############\n",
    "\n",
    "alpha = 0.1\n",
    "epsilon = 0.1\n",
    "x_pgd = projected_gradient_descent(model, X_test[0], alpha, epsilon, 100, np.inf)\n",
    "y_pred_pgd = model.predict(x_pgd).T[0]\n",
    "\n",
    "adversarial_score_r2 = round(r2_score(y_test, y_pred_pgd),2)\n",
    "adversarial_rmse = round(math.sqrt(mean_squared_error(y_test, y_pred_pgd.reshape(1,-1)[0]))*100,2)\n",
    "adversarial_mape = round(mape(y_test, y_pred_pgd),2)\n",
    "print(\"PGD Adversarial R^2 : \", adversarial_score_r2)\n",
    "print(\"PGD Adversarial RMSE : \", adversarial_rmse)\n",
    "print(\"PGD Adversarial MAPE : \", adversarial_mape)"
   ]
  },
  {
   "cell_type": "code",
   "execution_count": 115,
   "metadata": {},
   "outputs": [
    {
     "data": {
      "application/vnd.plotly.v1+json": {
       "config": {
        "plotlyServerURL": "https://plot.ly"
       },
       "data": [
        {
         "type": "scatter",
         "y": [
          0.5163211822509766,
          0.47648006677627563,
          0.6238054037094116,
          0.617599606513977,
          0.6161102056503296,
          0.627777099609375,
          0.6504902839660645,
          0.7065905332565308,
          0.778453528881073,
          0.8084895014762878,
          0.8020355105400085,
          0.7684001326560974,
          0.7222911715507507,
          0.6874146461486816,
          0.6518555283546448,
          0.6315625905990601,
          0.6189028024673462,
          0.5934591293334961,
          0.593831479549408,
          0.6138140559196472,
          0.6602953672409058,
          0.6805262565612793,
          0.6701005101203918
         ]
        },
        {
         "type": "scatter",
         "y": [
          0.5163212113689958,
          0.47648007943403237,
          0.62380538662033,
          0.6175996028298373,
          0.6161102147201191,
          0.6277770882462453,
          0.650490256919449,
          0.7065905423855031,
          0.7784535186794092,
          0.808489512225394,
          0.8020354970832816,
          0.7684001489388109,
          0.7222911753754498,
          0.6874146704728806,
          0.6518555293533573,
          0.6315626163584459,
          0.6189028174258407,
          0.5934591038848206,
          0.5938314509122501,
          0.6138140747176367,
          0.6602953953084273,
          0.6805262504654338,
          0.6701005336974059
         ]
        }
       ],
       "layout": {
        "template": {
         "data": {
          "bar": [
           {
            "error_x": {
             "color": "#2a3f5f"
            },
            "error_y": {
             "color": "#2a3f5f"
            },
            "marker": {
             "line": {
              "color": "#E5ECF6",
              "width": 0.5
             },
             "pattern": {
              "fillmode": "overlay",
              "size": 10,
              "solidity": 0.2
             }
            },
            "type": "bar"
           }
          ],
          "barpolar": [
           {
            "marker": {
             "line": {
              "color": "#E5ECF6",
              "width": 0.5
             },
             "pattern": {
              "fillmode": "overlay",
              "size": 10,
              "solidity": 0.2
             }
            },
            "type": "barpolar"
           }
          ],
          "carpet": [
           {
            "aaxis": {
             "endlinecolor": "#2a3f5f",
             "gridcolor": "white",
             "linecolor": "white",
             "minorgridcolor": "white",
             "startlinecolor": "#2a3f5f"
            },
            "baxis": {
             "endlinecolor": "#2a3f5f",
             "gridcolor": "white",
             "linecolor": "white",
             "minorgridcolor": "white",
             "startlinecolor": "#2a3f5f"
            },
            "type": "carpet"
           }
          ],
          "choropleth": [
           {
            "colorbar": {
             "outlinewidth": 0,
             "ticks": ""
            },
            "type": "choropleth"
           }
          ],
          "contour": [
           {
            "colorbar": {
             "outlinewidth": 0,
             "ticks": ""
            },
            "colorscale": [
             [
              0,
              "#0d0887"
             ],
             [
              0.1111111111111111,
              "#46039f"
             ],
             [
              0.2222222222222222,
              "#7201a8"
             ],
             [
              0.3333333333333333,
              "#9c179e"
             ],
             [
              0.4444444444444444,
              "#bd3786"
             ],
             [
              0.5555555555555556,
              "#d8576b"
             ],
             [
              0.6666666666666666,
              "#ed7953"
             ],
             [
              0.7777777777777778,
              "#fb9f3a"
             ],
             [
              0.8888888888888888,
              "#fdca26"
             ],
             [
              1,
              "#f0f921"
             ]
            ],
            "type": "contour"
           }
          ],
          "contourcarpet": [
           {
            "colorbar": {
             "outlinewidth": 0,
             "ticks": ""
            },
            "type": "contourcarpet"
           }
          ],
          "heatmap": [
           {
            "colorbar": {
             "outlinewidth": 0,
             "ticks": ""
            },
            "colorscale": [
             [
              0,
              "#0d0887"
             ],
             [
              0.1111111111111111,
              "#46039f"
             ],
             [
              0.2222222222222222,
              "#7201a8"
             ],
             [
              0.3333333333333333,
              "#9c179e"
             ],
             [
              0.4444444444444444,
              "#bd3786"
             ],
             [
              0.5555555555555556,
              "#d8576b"
             ],
             [
              0.6666666666666666,
              "#ed7953"
             ],
             [
              0.7777777777777778,
              "#fb9f3a"
             ],
             [
              0.8888888888888888,
              "#fdca26"
             ],
             [
              1,
              "#f0f921"
             ]
            ],
            "type": "heatmap"
           }
          ],
          "heatmapgl": [
           {
            "colorbar": {
             "outlinewidth": 0,
             "ticks": ""
            },
            "colorscale": [
             [
              0,
              "#0d0887"
             ],
             [
              0.1111111111111111,
              "#46039f"
             ],
             [
              0.2222222222222222,
              "#7201a8"
             ],
             [
              0.3333333333333333,
              "#9c179e"
             ],
             [
              0.4444444444444444,
              "#bd3786"
             ],
             [
              0.5555555555555556,
              "#d8576b"
             ],
             [
              0.6666666666666666,
              "#ed7953"
             ],
             [
              0.7777777777777778,
              "#fb9f3a"
             ],
             [
              0.8888888888888888,
              "#fdca26"
             ],
             [
              1,
              "#f0f921"
             ]
            ],
            "type": "heatmapgl"
           }
          ],
          "histogram": [
           {
            "marker": {
             "pattern": {
              "fillmode": "overlay",
              "size": 10,
              "solidity": 0.2
             }
            },
            "type": "histogram"
           }
          ],
          "histogram2d": [
           {
            "colorbar": {
             "outlinewidth": 0,
             "ticks": ""
            },
            "colorscale": [
             [
              0,
              "#0d0887"
             ],
             [
              0.1111111111111111,
              "#46039f"
             ],
             [
              0.2222222222222222,
              "#7201a8"
             ],
             [
              0.3333333333333333,
              "#9c179e"
             ],
             [
              0.4444444444444444,
              "#bd3786"
             ],
             [
              0.5555555555555556,
              "#d8576b"
             ],
             [
              0.6666666666666666,
              "#ed7953"
             ],
             [
              0.7777777777777778,
              "#fb9f3a"
             ],
             [
              0.8888888888888888,
              "#fdca26"
             ],
             [
              1,
              "#f0f921"
             ]
            ],
            "type": "histogram2d"
           }
          ],
          "histogram2dcontour": [
           {
            "colorbar": {
             "outlinewidth": 0,
             "ticks": ""
            },
            "colorscale": [
             [
              0,
              "#0d0887"
             ],
             [
              0.1111111111111111,
              "#46039f"
             ],
             [
              0.2222222222222222,
              "#7201a8"
             ],
             [
              0.3333333333333333,
              "#9c179e"
             ],
             [
              0.4444444444444444,
              "#bd3786"
             ],
             [
              0.5555555555555556,
              "#d8576b"
             ],
             [
              0.6666666666666666,
              "#ed7953"
             ],
             [
              0.7777777777777778,
              "#fb9f3a"
             ],
             [
              0.8888888888888888,
              "#fdca26"
             ],
             [
              1,
              "#f0f921"
             ]
            ],
            "type": "histogram2dcontour"
           }
          ],
          "mesh3d": [
           {
            "colorbar": {
             "outlinewidth": 0,
             "ticks": ""
            },
            "type": "mesh3d"
           }
          ],
          "parcoords": [
           {
            "line": {
             "colorbar": {
              "outlinewidth": 0,
              "ticks": ""
             }
            },
            "type": "parcoords"
           }
          ],
          "pie": [
           {
            "automargin": true,
            "type": "pie"
           }
          ],
          "scatter": [
           {
            "fillpattern": {
             "fillmode": "overlay",
             "size": 10,
             "solidity": 0.2
            },
            "type": "scatter"
           }
          ],
          "scatter3d": [
           {
            "line": {
             "colorbar": {
              "outlinewidth": 0,
              "ticks": ""
             }
            },
            "marker": {
             "colorbar": {
              "outlinewidth": 0,
              "ticks": ""
             }
            },
            "type": "scatter3d"
           }
          ],
          "scattercarpet": [
           {
            "marker": {
             "colorbar": {
              "outlinewidth": 0,
              "ticks": ""
             }
            },
            "type": "scattercarpet"
           }
          ],
          "scattergeo": [
           {
            "marker": {
             "colorbar": {
              "outlinewidth": 0,
              "ticks": ""
             }
            },
            "type": "scattergeo"
           }
          ],
          "scattergl": [
           {
            "marker": {
             "colorbar": {
              "outlinewidth": 0,
              "ticks": ""
             }
            },
            "type": "scattergl"
           }
          ],
          "scattermapbox": [
           {
            "marker": {
             "colorbar": {
              "outlinewidth": 0,
              "ticks": ""
             }
            },
            "type": "scattermapbox"
           }
          ],
          "scatterpolar": [
           {
            "marker": {
             "colorbar": {
              "outlinewidth": 0,
              "ticks": ""
             }
            },
            "type": "scatterpolar"
           }
          ],
          "scatterpolargl": [
           {
            "marker": {
             "colorbar": {
              "outlinewidth": 0,
              "ticks": ""
             }
            },
            "type": "scatterpolargl"
           }
          ],
          "scatterternary": [
           {
            "marker": {
             "colorbar": {
              "outlinewidth": 0,
              "ticks": ""
             }
            },
            "type": "scatterternary"
           }
          ],
          "surface": [
           {
            "colorbar": {
             "outlinewidth": 0,
             "ticks": ""
            },
            "colorscale": [
             [
              0,
              "#0d0887"
             ],
             [
              0.1111111111111111,
              "#46039f"
             ],
             [
              0.2222222222222222,
              "#7201a8"
             ],
             [
              0.3333333333333333,
              "#9c179e"
             ],
             [
              0.4444444444444444,
              "#bd3786"
             ],
             [
              0.5555555555555556,
              "#d8576b"
             ],
             [
              0.6666666666666666,
              "#ed7953"
             ],
             [
              0.7777777777777778,
              "#fb9f3a"
             ],
             [
              0.8888888888888888,
              "#fdca26"
             ],
             [
              1,
              "#f0f921"
             ]
            ],
            "type": "surface"
           }
          ],
          "table": [
           {
            "cells": {
             "fill": {
              "color": "#EBF0F8"
             },
             "line": {
              "color": "white"
             }
            },
            "header": {
             "fill": {
              "color": "#C8D4E3"
             },
             "line": {
              "color": "white"
             }
            },
            "type": "table"
           }
          ]
         },
         "layout": {
          "annotationdefaults": {
           "arrowcolor": "#2a3f5f",
           "arrowhead": 0,
           "arrowwidth": 1
          },
          "autotypenumbers": "strict",
          "coloraxis": {
           "colorbar": {
            "outlinewidth": 0,
            "ticks": ""
           }
          },
          "colorscale": {
           "diverging": [
            [
             0,
             "#8e0152"
            ],
            [
             0.1,
             "#c51b7d"
            ],
            [
             0.2,
             "#de77ae"
            ],
            [
             0.3,
             "#f1b6da"
            ],
            [
             0.4,
             "#fde0ef"
            ],
            [
             0.5,
             "#f7f7f7"
            ],
            [
             0.6,
             "#e6f5d0"
            ],
            [
             0.7,
             "#b8e186"
            ],
            [
             0.8,
             "#7fbc41"
            ],
            [
             0.9,
             "#4d9221"
            ],
            [
             1,
             "#276419"
            ]
           ],
           "sequential": [
            [
             0,
             "#0d0887"
            ],
            [
             0.1111111111111111,
             "#46039f"
            ],
            [
             0.2222222222222222,
             "#7201a8"
            ],
            [
             0.3333333333333333,
             "#9c179e"
            ],
            [
             0.4444444444444444,
             "#bd3786"
            ],
            [
             0.5555555555555556,
             "#d8576b"
            ],
            [
             0.6666666666666666,
             "#ed7953"
            ],
            [
             0.7777777777777778,
             "#fb9f3a"
            ],
            [
             0.8888888888888888,
             "#fdca26"
            ],
            [
             1,
             "#f0f921"
            ]
           ],
           "sequentialminus": [
            [
             0,
             "#0d0887"
            ],
            [
             0.1111111111111111,
             "#46039f"
            ],
            [
             0.2222222222222222,
             "#7201a8"
            ],
            [
             0.3333333333333333,
             "#9c179e"
            ],
            [
             0.4444444444444444,
             "#bd3786"
            ],
            [
             0.5555555555555556,
             "#d8576b"
            ],
            [
             0.6666666666666666,
             "#ed7953"
            ],
            [
             0.7777777777777778,
             "#fb9f3a"
            ],
            [
             0.8888888888888888,
             "#fdca26"
            ],
            [
             1,
             "#f0f921"
            ]
           ]
          },
          "colorway": [
           "#636efa",
           "#EF553B",
           "#00cc96",
           "#ab63fa",
           "#FFA15A",
           "#19d3f3",
           "#FF6692",
           "#B6E880",
           "#FF97FF",
           "#FECB52"
          ],
          "font": {
           "color": "#2a3f5f"
          },
          "geo": {
           "bgcolor": "white",
           "lakecolor": "white",
           "landcolor": "#E5ECF6",
           "showlakes": true,
           "showland": true,
           "subunitcolor": "white"
          },
          "hoverlabel": {
           "align": "left"
          },
          "hovermode": "closest",
          "mapbox": {
           "style": "light"
          },
          "paper_bgcolor": "white",
          "plot_bgcolor": "#E5ECF6",
          "polar": {
           "angularaxis": {
            "gridcolor": "white",
            "linecolor": "white",
            "ticks": ""
           },
           "bgcolor": "#E5ECF6",
           "radialaxis": {
            "gridcolor": "white",
            "linecolor": "white",
            "ticks": ""
           }
          },
          "scene": {
           "xaxis": {
            "backgroundcolor": "#E5ECF6",
            "gridcolor": "white",
            "gridwidth": 2,
            "linecolor": "white",
            "showbackground": true,
            "ticks": "",
            "zerolinecolor": "white"
           },
           "yaxis": {
            "backgroundcolor": "#E5ECF6",
            "gridcolor": "white",
            "gridwidth": 2,
            "linecolor": "white",
            "showbackground": true,
            "ticks": "",
            "zerolinecolor": "white"
           },
           "zaxis": {
            "backgroundcolor": "#E5ECF6",
            "gridcolor": "white",
            "gridwidth": 2,
            "linecolor": "white",
            "showbackground": true,
            "ticks": "",
            "zerolinecolor": "white"
           }
          },
          "shapedefaults": {
           "line": {
            "color": "#2a3f5f"
           }
          },
          "ternary": {
           "aaxis": {
            "gridcolor": "white",
            "linecolor": "white",
            "ticks": ""
           },
           "baxis": {
            "gridcolor": "white",
            "linecolor": "white",
            "ticks": ""
           },
           "bgcolor": "#E5ECF6",
           "caxis": {
            "gridcolor": "white",
            "linecolor": "white",
            "ticks": ""
           }
          },
          "title": {
           "x": 0.05
          },
          "xaxis": {
           "automargin": true,
           "gridcolor": "white",
           "linecolor": "white",
           "ticks": "",
           "title": {
            "standoff": 15
           },
           "zerolinecolor": "white",
           "zerolinewidth": 2
          },
          "yaxis": {
           "automargin": true,
           "gridcolor": "white",
           "linecolor": "white",
           "ticks": "",
           "title": {
            "standoff": 15
           },
           "zerolinecolor": "white",
           "zerolinewidth": 2
          }
         }
        }
       }
      },
      "text/html": [
       "<div>                            <div id=\"9640d340-022a-4e63-ab18-0745d8c80c0f\" class=\"plotly-graph-div\" style=\"height:525px; width:100%;\"></div>            <script type=\"text/javascript\">                require([\"plotly\"], function(Plotly) {                    window.PLOTLYENV=window.PLOTLYENV || {};                                    if (document.getElementById(\"9640d340-022a-4e63-ab18-0745d8c80c0f\")) {                    Plotly.newPlot(                        \"9640d340-022a-4e63-ab18-0745d8c80c0f\",                        [{\"y\":[0.5163211822509766,0.47648006677627563,0.6238054037094116,0.617599606513977,0.6161102056503296,0.627777099609375,0.6504902839660645,0.7065905332565308,0.778453528881073,0.8084895014762878,0.8020355105400085,0.7684001326560974,0.7222911715507507,0.6874146461486816,0.6518555283546448,0.6315625905990601,0.6189028024673462,0.5934591293334961,0.593831479549408,0.6138140559196472,0.6602953672409058,0.6805262565612793,0.6701005101203918],\"type\":\"scatter\"},{\"y\":[0.5163212113689958,0.47648007943403237,0.62380538662033,0.6175996028298373,0.6161102147201191,0.6277770882462453,0.650490256919449,0.7065905423855031,0.7784535186794092,0.808489512225394,0.8020354970832816,0.7684001489388109,0.7222911753754498,0.6874146704728806,0.6518555293533573,0.6315626163584459,0.6189028174258407,0.5934591038848206,0.5938314509122501,0.6138140747176367,0.6602953953084273,0.6805262504654338,0.6701005336974059],\"type\":\"scatter\"}],                        {\"template\":{\"data\":{\"histogram2dcontour\":[{\"type\":\"histogram2dcontour\",\"colorbar\":{\"outlinewidth\":0,\"ticks\":\"\"},\"colorscale\":[[0.0,\"#0d0887\"],[0.1111111111111111,\"#46039f\"],[0.2222222222222222,\"#7201a8\"],[0.3333333333333333,\"#9c179e\"],[0.4444444444444444,\"#bd3786\"],[0.5555555555555556,\"#d8576b\"],[0.6666666666666666,\"#ed7953\"],[0.7777777777777778,\"#fb9f3a\"],[0.8888888888888888,\"#fdca26\"],[1.0,\"#f0f921\"]]}],\"choropleth\":[{\"type\":\"choropleth\",\"colorbar\":{\"outlinewidth\":0,\"ticks\":\"\"}}],\"histogram2d\":[{\"type\":\"histogram2d\",\"colorbar\":{\"outlinewidth\":0,\"ticks\":\"\"},\"colorscale\":[[0.0,\"#0d0887\"],[0.1111111111111111,\"#46039f\"],[0.2222222222222222,\"#7201a8\"],[0.3333333333333333,\"#9c179e\"],[0.4444444444444444,\"#bd3786\"],[0.5555555555555556,\"#d8576b\"],[0.6666666666666666,\"#ed7953\"],[0.7777777777777778,\"#fb9f3a\"],[0.8888888888888888,\"#fdca26\"],[1.0,\"#f0f921\"]]}],\"heatmap\":[{\"type\":\"heatmap\",\"colorbar\":{\"outlinewidth\":0,\"ticks\":\"\"},\"colorscale\":[[0.0,\"#0d0887\"],[0.1111111111111111,\"#46039f\"],[0.2222222222222222,\"#7201a8\"],[0.3333333333333333,\"#9c179e\"],[0.4444444444444444,\"#bd3786\"],[0.5555555555555556,\"#d8576b\"],[0.6666666666666666,\"#ed7953\"],[0.7777777777777778,\"#fb9f3a\"],[0.8888888888888888,\"#fdca26\"],[1.0,\"#f0f921\"]]}],\"heatmapgl\":[{\"type\":\"heatmapgl\",\"colorbar\":{\"outlinewidth\":0,\"ticks\":\"\"},\"colorscale\":[[0.0,\"#0d0887\"],[0.1111111111111111,\"#46039f\"],[0.2222222222222222,\"#7201a8\"],[0.3333333333333333,\"#9c179e\"],[0.4444444444444444,\"#bd3786\"],[0.5555555555555556,\"#d8576b\"],[0.6666666666666666,\"#ed7953\"],[0.7777777777777778,\"#fb9f3a\"],[0.8888888888888888,\"#fdca26\"],[1.0,\"#f0f921\"]]}],\"contourcarpet\":[{\"type\":\"contourcarpet\",\"colorbar\":{\"outlinewidth\":0,\"ticks\":\"\"}}],\"contour\":[{\"type\":\"contour\",\"colorbar\":{\"outlinewidth\":0,\"ticks\":\"\"},\"colorscale\":[[0.0,\"#0d0887\"],[0.1111111111111111,\"#46039f\"],[0.2222222222222222,\"#7201a8\"],[0.3333333333333333,\"#9c179e\"],[0.4444444444444444,\"#bd3786\"],[0.5555555555555556,\"#d8576b\"],[0.6666666666666666,\"#ed7953\"],[0.7777777777777778,\"#fb9f3a\"],[0.8888888888888888,\"#fdca26\"],[1.0,\"#f0f921\"]]}],\"surface\":[{\"type\":\"surface\",\"colorbar\":{\"outlinewidth\":0,\"ticks\":\"\"},\"colorscale\":[[0.0,\"#0d0887\"],[0.1111111111111111,\"#46039f\"],[0.2222222222222222,\"#7201a8\"],[0.3333333333333333,\"#9c179e\"],[0.4444444444444444,\"#bd3786\"],[0.5555555555555556,\"#d8576b\"],[0.6666666666666666,\"#ed7953\"],[0.7777777777777778,\"#fb9f3a\"],[0.8888888888888888,\"#fdca26\"],[1.0,\"#f0f921\"]]}],\"mesh3d\":[{\"type\":\"mesh3d\",\"colorbar\":{\"outlinewidth\":0,\"ticks\":\"\"}}],\"scatter\":[{\"fillpattern\":{\"fillmode\":\"overlay\",\"size\":10,\"solidity\":0.2},\"type\":\"scatter\"}],\"parcoords\":[{\"type\":\"parcoords\",\"line\":{\"colorbar\":{\"outlinewidth\":0,\"ticks\":\"\"}}}],\"scatterpolargl\":[{\"type\":\"scatterpolargl\",\"marker\":{\"colorbar\":{\"outlinewidth\":0,\"ticks\":\"\"}}}],\"bar\":[{\"error_x\":{\"color\":\"#2a3f5f\"},\"error_y\":{\"color\":\"#2a3f5f\"},\"marker\":{\"line\":{\"color\":\"#E5ECF6\",\"width\":0.5},\"pattern\":{\"fillmode\":\"overlay\",\"size\":10,\"solidity\":0.2}},\"type\":\"bar\"}],\"scattergeo\":[{\"type\":\"scattergeo\",\"marker\":{\"colorbar\":{\"outlinewidth\":0,\"ticks\":\"\"}}}],\"scatterpolar\":[{\"type\":\"scatterpolar\",\"marker\":{\"colorbar\":{\"outlinewidth\":0,\"ticks\":\"\"}}}],\"histogram\":[{\"marker\":{\"pattern\":{\"fillmode\":\"overlay\",\"size\":10,\"solidity\":0.2}},\"type\":\"histogram\"}],\"scattergl\":[{\"type\":\"scattergl\",\"marker\":{\"colorbar\":{\"outlinewidth\":0,\"ticks\":\"\"}}}],\"scatter3d\":[{\"type\":\"scatter3d\",\"line\":{\"colorbar\":{\"outlinewidth\":0,\"ticks\":\"\"}},\"marker\":{\"colorbar\":{\"outlinewidth\":0,\"ticks\":\"\"}}}],\"scattermapbox\":[{\"type\":\"scattermapbox\",\"marker\":{\"colorbar\":{\"outlinewidth\":0,\"ticks\":\"\"}}}],\"scatterternary\":[{\"type\":\"scatterternary\",\"marker\":{\"colorbar\":{\"outlinewidth\":0,\"ticks\":\"\"}}}],\"scattercarpet\":[{\"type\":\"scattercarpet\",\"marker\":{\"colorbar\":{\"outlinewidth\":0,\"ticks\":\"\"}}}],\"carpet\":[{\"aaxis\":{\"endlinecolor\":\"#2a3f5f\",\"gridcolor\":\"white\",\"linecolor\":\"white\",\"minorgridcolor\":\"white\",\"startlinecolor\":\"#2a3f5f\"},\"baxis\":{\"endlinecolor\":\"#2a3f5f\",\"gridcolor\":\"white\",\"linecolor\":\"white\",\"minorgridcolor\":\"white\",\"startlinecolor\":\"#2a3f5f\"},\"type\":\"carpet\"}],\"table\":[{\"cells\":{\"fill\":{\"color\":\"#EBF0F8\"},\"line\":{\"color\":\"white\"}},\"header\":{\"fill\":{\"color\":\"#C8D4E3\"},\"line\":{\"color\":\"white\"}},\"type\":\"table\"}],\"barpolar\":[{\"marker\":{\"line\":{\"color\":\"#E5ECF6\",\"width\":0.5},\"pattern\":{\"fillmode\":\"overlay\",\"size\":10,\"solidity\":0.2}},\"type\":\"barpolar\"}],\"pie\":[{\"automargin\":true,\"type\":\"pie\"}]},\"layout\":{\"autotypenumbers\":\"strict\",\"colorway\":[\"#636efa\",\"#EF553B\",\"#00cc96\",\"#ab63fa\",\"#FFA15A\",\"#19d3f3\",\"#FF6692\",\"#B6E880\",\"#FF97FF\",\"#FECB52\"],\"font\":{\"color\":\"#2a3f5f\"},\"hovermode\":\"closest\",\"hoverlabel\":{\"align\":\"left\"},\"paper_bgcolor\":\"white\",\"plot_bgcolor\":\"#E5ECF6\",\"polar\":{\"bgcolor\":\"#E5ECF6\",\"angularaxis\":{\"gridcolor\":\"white\",\"linecolor\":\"white\",\"ticks\":\"\"},\"radialaxis\":{\"gridcolor\":\"white\",\"linecolor\":\"white\",\"ticks\":\"\"}},\"ternary\":{\"bgcolor\":\"#E5ECF6\",\"aaxis\":{\"gridcolor\":\"white\",\"linecolor\":\"white\",\"ticks\":\"\"},\"baxis\":{\"gridcolor\":\"white\",\"linecolor\":\"white\",\"ticks\":\"\"},\"caxis\":{\"gridcolor\":\"white\",\"linecolor\":\"white\",\"ticks\":\"\"}},\"coloraxis\":{\"colorbar\":{\"outlinewidth\":0,\"ticks\":\"\"}},\"colorscale\":{\"sequential\":[[0.0,\"#0d0887\"],[0.1111111111111111,\"#46039f\"],[0.2222222222222222,\"#7201a8\"],[0.3333333333333333,\"#9c179e\"],[0.4444444444444444,\"#bd3786\"],[0.5555555555555556,\"#d8576b\"],[0.6666666666666666,\"#ed7953\"],[0.7777777777777778,\"#fb9f3a\"],[0.8888888888888888,\"#fdca26\"],[1.0,\"#f0f921\"]],\"sequentialminus\":[[0.0,\"#0d0887\"],[0.1111111111111111,\"#46039f\"],[0.2222222222222222,\"#7201a8\"],[0.3333333333333333,\"#9c179e\"],[0.4444444444444444,\"#bd3786\"],[0.5555555555555556,\"#d8576b\"],[0.6666666666666666,\"#ed7953\"],[0.7777777777777778,\"#fb9f3a\"],[0.8888888888888888,\"#fdca26\"],[1.0,\"#f0f921\"]],\"diverging\":[[0,\"#8e0152\"],[0.1,\"#c51b7d\"],[0.2,\"#de77ae\"],[0.3,\"#f1b6da\"],[0.4,\"#fde0ef\"],[0.5,\"#f7f7f7\"],[0.6,\"#e6f5d0\"],[0.7,\"#b8e186\"],[0.8,\"#7fbc41\"],[0.9,\"#4d9221\"],[1,\"#276419\"]]},\"xaxis\":{\"gridcolor\":\"white\",\"linecolor\":\"white\",\"ticks\":\"\",\"title\":{\"standoff\":15},\"zerolinecolor\":\"white\",\"automargin\":true,\"zerolinewidth\":2},\"yaxis\":{\"gridcolor\":\"white\",\"linecolor\":\"white\",\"ticks\":\"\",\"title\":{\"standoff\":15},\"zerolinecolor\":\"white\",\"automargin\":true,\"zerolinewidth\":2},\"scene\":{\"xaxis\":{\"backgroundcolor\":\"#E5ECF6\",\"gridcolor\":\"white\",\"linecolor\":\"white\",\"showbackground\":true,\"ticks\":\"\",\"zerolinecolor\":\"white\",\"gridwidth\":2},\"yaxis\":{\"backgroundcolor\":\"#E5ECF6\",\"gridcolor\":\"white\",\"linecolor\":\"white\",\"showbackground\":true,\"ticks\":\"\",\"zerolinecolor\":\"white\",\"gridwidth\":2},\"zaxis\":{\"backgroundcolor\":\"#E5ECF6\",\"gridcolor\":\"white\",\"linecolor\":\"white\",\"showbackground\":true,\"ticks\":\"\",\"zerolinecolor\":\"white\",\"gridwidth\":2}},\"shapedefaults\":{\"line\":{\"color\":\"#2a3f5f\"}},\"annotationdefaults\":{\"arrowcolor\":\"#2a3f5f\",\"arrowhead\":0,\"arrowwidth\":1},\"geo\":{\"bgcolor\":\"white\",\"landcolor\":\"#E5ECF6\",\"subunitcolor\":\"white\",\"showland\":true,\"showlakes\":true,\"lakecolor\":\"white\"},\"title\":{\"x\":0.05},\"mapbox\":{\"style\":\"light\"}}}},                        {\"responsive\": true}                    ).then(function(){\n",
       "                            \n",
       "var gd = document.getElementById('9640d340-022a-4e63-ab18-0745d8c80c0f');\n",
       "var x = new MutationObserver(function (mutations, observer) {{\n",
       "        var display = window.getComputedStyle(gd).display;\n",
       "        if (!display || display === 'none') {{\n",
       "            console.log([gd, 'removed!']);\n",
       "            Plotly.purge(gd);\n",
       "            observer.disconnect();\n",
       "        }}\n",
       "}});\n",
       "\n",
       "// Listen for the removal of the full notebook cells\n",
       "var notebookContainer = gd.closest('#notebook-container');\n",
       "if (notebookContainer) {{\n",
       "    x.observe(notebookContainer, {childList: true});\n",
       "}}\n",
       "\n",
       "// Listen for the clearing of the current output cell\n",
       "var outputEl = gd.closest('.output');\n",
       "if (outputEl) {{\n",
       "    x.observe(outputEl, {childList: true});\n",
       "}}\n",
       "\n",
       "                        })                };                });            </script>        </div>"
      ]
     },
     "metadata": {},
     "output_type": "display_data"
    }
   ],
   "source": [
    "alpha = 1\n",
    "epsilon = 1\n",
    "x_pgd = projected_gradient_descent(model, X_test[0], alpha, epsilon, 10, np.inf)\n",
    "fig = go.Figure(go.Scatter(y=x_pgd.numpy().T[0]))\n",
    "fig.add_trace(go.Scatter(y= X_test[0].T[0]))\n",
    "fig"
   ]
  },
  {
   "cell_type": "code",
   "execution_count": 106,
   "metadata": {},
   "outputs": [
    {
     "data": {
      "application/vnd.plotly.v1+json": {
       "config": {
        "plotlyServerURL": "https://plot.ly"
       },
       "data": [
        {
         "type": "scatter",
         "y": [
          0.5163211822509766,
          0.47648006677627563,
          0.6238054037094116,
          0.617599606513977,
          0.6161102056503296,
          0.627777099609375,
          0.6504902839660645,
          0.7065905332565308,
          0.778453528881073,
          0.8084895014762878,
          0.8020355105400085,
          0.7684001326560974,
          0.7222911715507507,
          0.6874146461486816,
          0.6518555283546448,
          0.6315625905990601,
          0.6189028024673462,
          0.5934591293334961,
          0.593831479549408,
          0.6138140559196472,
          0.6602953672409058,
          0.6805262565612793,
          0.6701005101203918
         ]
        },
        {
         "type": "scatter",
         "y": [
          0.5163212113689958,
          0.47648007943403237,
          0.62380538662033,
          0.6175996028298373,
          0.6161102147201191,
          0.6277770882462453,
          0.650490256919449,
          0.7065905423855031,
          0.7784535186794092,
          0.808489512225394,
          0.8020354970832816,
          0.7684001489388109,
          0.7222911753754498,
          0.6874146704728806,
          0.6518555293533573,
          0.6315626163584459,
          0.6189028174258407,
          0.5934591038848206,
          0.5938314509122501,
          0.6138140747176367,
          0.6602953953084273,
          0.6805262504654338,
          0.6701005336974059
         ]
        }
       ],
       "layout": {
        "template": {
         "data": {
          "bar": [
           {
            "error_x": {
             "color": "#2a3f5f"
            },
            "error_y": {
             "color": "#2a3f5f"
            },
            "marker": {
             "line": {
              "color": "#E5ECF6",
              "width": 0.5
             },
             "pattern": {
              "fillmode": "overlay",
              "size": 10,
              "solidity": 0.2
             }
            },
            "type": "bar"
           }
          ],
          "barpolar": [
           {
            "marker": {
             "line": {
              "color": "#E5ECF6",
              "width": 0.5
             },
             "pattern": {
              "fillmode": "overlay",
              "size": 10,
              "solidity": 0.2
             }
            },
            "type": "barpolar"
           }
          ],
          "carpet": [
           {
            "aaxis": {
             "endlinecolor": "#2a3f5f",
             "gridcolor": "white",
             "linecolor": "white",
             "minorgridcolor": "white",
             "startlinecolor": "#2a3f5f"
            },
            "baxis": {
             "endlinecolor": "#2a3f5f",
             "gridcolor": "white",
             "linecolor": "white",
             "minorgridcolor": "white",
             "startlinecolor": "#2a3f5f"
            },
            "type": "carpet"
           }
          ],
          "choropleth": [
           {
            "colorbar": {
             "outlinewidth": 0,
             "ticks": ""
            },
            "type": "choropleth"
           }
          ],
          "contour": [
           {
            "colorbar": {
             "outlinewidth": 0,
             "ticks": ""
            },
            "colorscale": [
             [
              0,
              "#0d0887"
             ],
             [
              0.1111111111111111,
              "#46039f"
             ],
             [
              0.2222222222222222,
              "#7201a8"
             ],
             [
              0.3333333333333333,
              "#9c179e"
             ],
             [
              0.4444444444444444,
              "#bd3786"
             ],
             [
              0.5555555555555556,
              "#d8576b"
             ],
             [
              0.6666666666666666,
              "#ed7953"
             ],
             [
              0.7777777777777778,
              "#fb9f3a"
             ],
             [
              0.8888888888888888,
              "#fdca26"
             ],
             [
              1,
              "#f0f921"
             ]
            ],
            "type": "contour"
           }
          ],
          "contourcarpet": [
           {
            "colorbar": {
             "outlinewidth": 0,
             "ticks": ""
            },
            "type": "contourcarpet"
           }
          ],
          "heatmap": [
           {
            "colorbar": {
             "outlinewidth": 0,
             "ticks": ""
            },
            "colorscale": [
             [
              0,
              "#0d0887"
             ],
             [
              0.1111111111111111,
              "#46039f"
             ],
             [
              0.2222222222222222,
              "#7201a8"
             ],
             [
              0.3333333333333333,
              "#9c179e"
             ],
             [
              0.4444444444444444,
              "#bd3786"
             ],
             [
              0.5555555555555556,
              "#d8576b"
             ],
             [
              0.6666666666666666,
              "#ed7953"
             ],
             [
              0.7777777777777778,
              "#fb9f3a"
             ],
             [
              0.8888888888888888,
              "#fdca26"
             ],
             [
              1,
              "#f0f921"
             ]
            ],
            "type": "heatmap"
           }
          ],
          "heatmapgl": [
           {
            "colorbar": {
             "outlinewidth": 0,
             "ticks": ""
            },
            "colorscale": [
             [
              0,
              "#0d0887"
             ],
             [
              0.1111111111111111,
              "#46039f"
             ],
             [
              0.2222222222222222,
              "#7201a8"
             ],
             [
              0.3333333333333333,
              "#9c179e"
             ],
             [
              0.4444444444444444,
              "#bd3786"
             ],
             [
              0.5555555555555556,
              "#d8576b"
             ],
             [
              0.6666666666666666,
              "#ed7953"
             ],
             [
              0.7777777777777778,
              "#fb9f3a"
             ],
             [
              0.8888888888888888,
              "#fdca26"
             ],
             [
              1,
              "#f0f921"
             ]
            ],
            "type": "heatmapgl"
           }
          ],
          "histogram": [
           {
            "marker": {
             "pattern": {
              "fillmode": "overlay",
              "size": 10,
              "solidity": 0.2
             }
            },
            "type": "histogram"
           }
          ],
          "histogram2d": [
           {
            "colorbar": {
             "outlinewidth": 0,
             "ticks": ""
            },
            "colorscale": [
             [
              0,
              "#0d0887"
             ],
             [
              0.1111111111111111,
              "#46039f"
             ],
             [
              0.2222222222222222,
              "#7201a8"
             ],
             [
              0.3333333333333333,
              "#9c179e"
             ],
             [
              0.4444444444444444,
              "#bd3786"
             ],
             [
              0.5555555555555556,
              "#d8576b"
             ],
             [
              0.6666666666666666,
              "#ed7953"
             ],
             [
              0.7777777777777778,
              "#fb9f3a"
             ],
             [
              0.8888888888888888,
              "#fdca26"
             ],
             [
              1,
              "#f0f921"
             ]
            ],
            "type": "histogram2d"
           }
          ],
          "histogram2dcontour": [
           {
            "colorbar": {
             "outlinewidth": 0,
             "ticks": ""
            },
            "colorscale": [
             [
              0,
              "#0d0887"
             ],
             [
              0.1111111111111111,
              "#46039f"
             ],
             [
              0.2222222222222222,
              "#7201a8"
             ],
             [
              0.3333333333333333,
              "#9c179e"
             ],
             [
              0.4444444444444444,
              "#bd3786"
             ],
             [
              0.5555555555555556,
              "#d8576b"
             ],
             [
              0.6666666666666666,
              "#ed7953"
             ],
             [
              0.7777777777777778,
              "#fb9f3a"
             ],
             [
              0.8888888888888888,
              "#fdca26"
             ],
             [
              1,
              "#f0f921"
             ]
            ],
            "type": "histogram2dcontour"
           }
          ],
          "mesh3d": [
           {
            "colorbar": {
             "outlinewidth": 0,
             "ticks": ""
            },
            "type": "mesh3d"
           }
          ],
          "parcoords": [
           {
            "line": {
             "colorbar": {
              "outlinewidth": 0,
              "ticks": ""
             }
            },
            "type": "parcoords"
           }
          ],
          "pie": [
           {
            "automargin": true,
            "type": "pie"
           }
          ],
          "scatter": [
           {
            "fillpattern": {
             "fillmode": "overlay",
             "size": 10,
             "solidity": 0.2
            },
            "type": "scatter"
           }
          ],
          "scatter3d": [
           {
            "line": {
             "colorbar": {
              "outlinewidth": 0,
              "ticks": ""
             }
            },
            "marker": {
             "colorbar": {
              "outlinewidth": 0,
              "ticks": ""
             }
            },
            "type": "scatter3d"
           }
          ],
          "scattercarpet": [
           {
            "marker": {
             "colorbar": {
              "outlinewidth": 0,
              "ticks": ""
             }
            },
            "type": "scattercarpet"
           }
          ],
          "scattergeo": [
           {
            "marker": {
             "colorbar": {
              "outlinewidth": 0,
              "ticks": ""
             }
            },
            "type": "scattergeo"
           }
          ],
          "scattergl": [
           {
            "marker": {
             "colorbar": {
              "outlinewidth": 0,
              "ticks": ""
             }
            },
            "type": "scattergl"
           }
          ],
          "scattermapbox": [
           {
            "marker": {
             "colorbar": {
              "outlinewidth": 0,
              "ticks": ""
             }
            },
            "type": "scattermapbox"
           }
          ],
          "scatterpolar": [
           {
            "marker": {
             "colorbar": {
              "outlinewidth": 0,
              "ticks": ""
             }
            },
            "type": "scatterpolar"
           }
          ],
          "scatterpolargl": [
           {
            "marker": {
             "colorbar": {
              "outlinewidth": 0,
              "ticks": ""
             }
            },
            "type": "scatterpolargl"
           }
          ],
          "scatterternary": [
           {
            "marker": {
             "colorbar": {
              "outlinewidth": 0,
              "ticks": ""
             }
            },
            "type": "scatterternary"
           }
          ],
          "surface": [
           {
            "colorbar": {
             "outlinewidth": 0,
             "ticks": ""
            },
            "colorscale": [
             [
              0,
              "#0d0887"
             ],
             [
              0.1111111111111111,
              "#46039f"
             ],
             [
              0.2222222222222222,
              "#7201a8"
             ],
             [
              0.3333333333333333,
              "#9c179e"
             ],
             [
              0.4444444444444444,
              "#bd3786"
             ],
             [
              0.5555555555555556,
              "#d8576b"
             ],
             [
              0.6666666666666666,
              "#ed7953"
             ],
             [
              0.7777777777777778,
              "#fb9f3a"
             ],
             [
              0.8888888888888888,
              "#fdca26"
             ],
             [
              1,
              "#f0f921"
             ]
            ],
            "type": "surface"
           }
          ],
          "table": [
           {
            "cells": {
             "fill": {
              "color": "#EBF0F8"
             },
             "line": {
              "color": "white"
             }
            },
            "header": {
             "fill": {
              "color": "#C8D4E3"
             },
             "line": {
              "color": "white"
             }
            },
            "type": "table"
           }
          ]
         },
         "layout": {
          "annotationdefaults": {
           "arrowcolor": "#2a3f5f",
           "arrowhead": 0,
           "arrowwidth": 1
          },
          "autotypenumbers": "strict",
          "coloraxis": {
           "colorbar": {
            "outlinewidth": 0,
            "ticks": ""
           }
          },
          "colorscale": {
           "diverging": [
            [
             0,
             "#8e0152"
            ],
            [
             0.1,
             "#c51b7d"
            ],
            [
             0.2,
             "#de77ae"
            ],
            [
             0.3,
             "#f1b6da"
            ],
            [
             0.4,
             "#fde0ef"
            ],
            [
             0.5,
             "#f7f7f7"
            ],
            [
             0.6,
             "#e6f5d0"
            ],
            [
             0.7,
             "#b8e186"
            ],
            [
             0.8,
             "#7fbc41"
            ],
            [
             0.9,
             "#4d9221"
            ],
            [
             1,
             "#276419"
            ]
           ],
           "sequential": [
            [
             0,
             "#0d0887"
            ],
            [
             0.1111111111111111,
             "#46039f"
            ],
            [
             0.2222222222222222,
             "#7201a8"
            ],
            [
             0.3333333333333333,
             "#9c179e"
            ],
            [
             0.4444444444444444,
             "#bd3786"
            ],
            [
             0.5555555555555556,
             "#d8576b"
            ],
            [
             0.6666666666666666,
             "#ed7953"
            ],
            [
             0.7777777777777778,
             "#fb9f3a"
            ],
            [
             0.8888888888888888,
             "#fdca26"
            ],
            [
             1,
             "#f0f921"
            ]
           ],
           "sequentialminus": [
            [
             0,
             "#0d0887"
            ],
            [
             0.1111111111111111,
             "#46039f"
            ],
            [
             0.2222222222222222,
             "#7201a8"
            ],
            [
             0.3333333333333333,
             "#9c179e"
            ],
            [
             0.4444444444444444,
             "#bd3786"
            ],
            [
             0.5555555555555556,
             "#d8576b"
            ],
            [
             0.6666666666666666,
             "#ed7953"
            ],
            [
             0.7777777777777778,
             "#fb9f3a"
            ],
            [
             0.8888888888888888,
             "#fdca26"
            ],
            [
             1,
             "#f0f921"
            ]
           ]
          },
          "colorway": [
           "#636efa",
           "#EF553B",
           "#00cc96",
           "#ab63fa",
           "#FFA15A",
           "#19d3f3",
           "#FF6692",
           "#B6E880",
           "#FF97FF",
           "#FECB52"
          ],
          "font": {
           "color": "#2a3f5f"
          },
          "geo": {
           "bgcolor": "white",
           "lakecolor": "white",
           "landcolor": "#E5ECF6",
           "showlakes": true,
           "showland": true,
           "subunitcolor": "white"
          },
          "hoverlabel": {
           "align": "left"
          },
          "hovermode": "closest",
          "mapbox": {
           "style": "light"
          },
          "paper_bgcolor": "white",
          "plot_bgcolor": "#E5ECF6",
          "polar": {
           "angularaxis": {
            "gridcolor": "white",
            "linecolor": "white",
            "ticks": ""
           },
           "bgcolor": "#E5ECF6",
           "radialaxis": {
            "gridcolor": "white",
            "linecolor": "white",
            "ticks": ""
           }
          },
          "scene": {
           "xaxis": {
            "backgroundcolor": "#E5ECF6",
            "gridcolor": "white",
            "gridwidth": 2,
            "linecolor": "white",
            "showbackground": true,
            "ticks": "",
            "zerolinecolor": "white"
           },
           "yaxis": {
            "backgroundcolor": "#E5ECF6",
            "gridcolor": "white",
            "gridwidth": 2,
            "linecolor": "white",
            "showbackground": true,
            "ticks": "",
            "zerolinecolor": "white"
           },
           "zaxis": {
            "backgroundcolor": "#E5ECF6",
            "gridcolor": "white",
            "gridwidth": 2,
            "linecolor": "white",
            "showbackground": true,
            "ticks": "",
            "zerolinecolor": "white"
           }
          },
          "shapedefaults": {
           "line": {
            "color": "#2a3f5f"
           }
          },
          "ternary": {
           "aaxis": {
            "gridcolor": "white",
            "linecolor": "white",
            "ticks": ""
           },
           "baxis": {
            "gridcolor": "white",
            "linecolor": "white",
            "ticks": ""
           },
           "bgcolor": "#E5ECF6",
           "caxis": {
            "gridcolor": "white",
            "linecolor": "white",
            "ticks": ""
           }
          },
          "title": {
           "x": 0.05
          },
          "xaxis": {
           "automargin": true,
           "gridcolor": "white",
           "linecolor": "white",
           "ticks": "",
           "title": {
            "standoff": 15
           },
           "zerolinecolor": "white",
           "zerolinewidth": 2
          },
          "yaxis": {
           "automargin": true,
           "gridcolor": "white",
           "linecolor": "white",
           "ticks": "",
           "title": {
            "standoff": 15
           },
           "zerolinecolor": "white",
           "zerolinewidth": 2
          }
         }
        }
       }
      },
      "text/html": [
       "<div>                            <div id=\"7424c449-ef54-4599-abb1-1fd4371c1e54\" class=\"plotly-graph-div\" style=\"height:525px; width:100%;\"></div>            <script type=\"text/javascript\">                require([\"plotly\"], function(Plotly) {                    window.PLOTLYENV=window.PLOTLYENV || {};                                    if (document.getElementById(\"7424c449-ef54-4599-abb1-1fd4371c1e54\")) {                    Plotly.newPlot(                        \"7424c449-ef54-4599-abb1-1fd4371c1e54\",                        [{\"y\":[0.5163211822509766,0.47648006677627563,0.6238054037094116,0.617599606513977,0.6161102056503296,0.627777099609375,0.6504902839660645,0.7065905332565308,0.778453528881073,0.8084895014762878,0.8020355105400085,0.7684001326560974,0.7222911715507507,0.6874146461486816,0.6518555283546448,0.6315625905990601,0.6189028024673462,0.5934591293334961,0.593831479549408,0.6138140559196472,0.6602953672409058,0.6805262565612793,0.6701005101203918],\"type\":\"scatter\"},{\"y\":[0.5163212113689958,0.47648007943403237,0.62380538662033,0.6175996028298373,0.6161102147201191,0.6277770882462453,0.650490256919449,0.7065905423855031,0.7784535186794092,0.808489512225394,0.8020354970832816,0.7684001489388109,0.7222911753754498,0.6874146704728806,0.6518555293533573,0.6315626163584459,0.6189028174258407,0.5934591038848206,0.5938314509122501,0.6138140747176367,0.6602953953084273,0.6805262504654338,0.6701005336974059],\"type\":\"scatter\"}],                        {\"template\":{\"data\":{\"histogram2dcontour\":[{\"type\":\"histogram2dcontour\",\"colorbar\":{\"outlinewidth\":0,\"ticks\":\"\"},\"colorscale\":[[0.0,\"#0d0887\"],[0.1111111111111111,\"#46039f\"],[0.2222222222222222,\"#7201a8\"],[0.3333333333333333,\"#9c179e\"],[0.4444444444444444,\"#bd3786\"],[0.5555555555555556,\"#d8576b\"],[0.6666666666666666,\"#ed7953\"],[0.7777777777777778,\"#fb9f3a\"],[0.8888888888888888,\"#fdca26\"],[1.0,\"#f0f921\"]]}],\"choropleth\":[{\"type\":\"choropleth\",\"colorbar\":{\"outlinewidth\":0,\"ticks\":\"\"}}],\"histogram2d\":[{\"type\":\"histogram2d\",\"colorbar\":{\"outlinewidth\":0,\"ticks\":\"\"},\"colorscale\":[[0.0,\"#0d0887\"],[0.1111111111111111,\"#46039f\"],[0.2222222222222222,\"#7201a8\"],[0.3333333333333333,\"#9c179e\"],[0.4444444444444444,\"#bd3786\"],[0.5555555555555556,\"#d8576b\"],[0.6666666666666666,\"#ed7953\"],[0.7777777777777778,\"#fb9f3a\"],[0.8888888888888888,\"#fdca26\"],[1.0,\"#f0f921\"]]}],\"heatmap\":[{\"type\":\"heatmap\",\"colorbar\":{\"outlinewidth\":0,\"ticks\":\"\"},\"colorscale\":[[0.0,\"#0d0887\"],[0.1111111111111111,\"#46039f\"],[0.2222222222222222,\"#7201a8\"],[0.3333333333333333,\"#9c179e\"],[0.4444444444444444,\"#bd3786\"],[0.5555555555555556,\"#d8576b\"],[0.6666666666666666,\"#ed7953\"],[0.7777777777777778,\"#fb9f3a\"],[0.8888888888888888,\"#fdca26\"],[1.0,\"#f0f921\"]]}],\"heatmapgl\":[{\"type\":\"heatmapgl\",\"colorbar\":{\"outlinewidth\":0,\"ticks\":\"\"},\"colorscale\":[[0.0,\"#0d0887\"],[0.1111111111111111,\"#46039f\"],[0.2222222222222222,\"#7201a8\"],[0.3333333333333333,\"#9c179e\"],[0.4444444444444444,\"#bd3786\"],[0.5555555555555556,\"#d8576b\"],[0.6666666666666666,\"#ed7953\"],[0.7777777777777778,\"#fb9f3a\"],[0.8888888888888888,\"#fdca26\"],[1.0,\"#f0f921\"]]}],\"contourcarpet\":[{\"type\":\"contourcarpet\",\"colorbar\":{\"outlinewidth\":0,\"ticks\":\"\"}}],\"contour\":[{\"type\":\"contour\",\"colorbar\":{\"outlinewidth\":0,\"ticks\":\"\"},\"colorscale\":[[0.0,\"#0d0887\"],[0.1111111111111111,\"#46039f\"],[0.2222222222222222,\"#7201a8\"],[0.3333333333333333,\"#9c179e\"],[0.4444444444444444,\"#bd3786\"],[0.5555555555555556,\"#d8576b\"],[0.6666666666666666,\"#ed7953\"],[0.7777777777777778,\"#fb9f3a\"],[0.8888888888888888,\"#fdca26\"],[1.0,\"#f0f921\"]]}],\"surface\":[{\"type\":\"surface\",\"colorbar\":{\"outlinewidth\":0,\"ticks\":\"\"},\"colorscale\":[[0.0,\"#0d0887\"],[0.1111111111111111,\"#46039f\"],[0.2222222222222222,\"#7201a8\"],[0.3333333333333333,\"#9c179e\"],[0.4444444444444444,\"#bd3786\"],[0.5555555555555556,\"#d8576b\"],[0.6666666666666666,\"#ed7953\"],[0.7777777777777778,\"#fb9f3a\"],[0.8888888888888888,\"#fdca26\"],[1.0,\"#f0f921\"]]}],\"mesh3d\":[{\"type\":\"mesh3d\",\"colorbar\":{\"outlinewidth\":0,\"ticks\":\"\"}}],\"scatter\":[{\"fillpattern\":{\"fillmode\":\"overlay\",\"size\":10,\"solidity\":0.2},\"type\":\"scatter\"}],\"parcoords\":[{\"type\":\"parcoords\",\"line\":{\"colorbar\":{\"outlinewidth\":0,\"ticks\":\"\"}}}],\"scatterpolargl\":[{\"type\":\"scatterpolargl\",\"marker\":{\"colorbar\":{\"outlinewidth\":0,\"ticks\":\"\"}}}],\"bar\":[{\"error_x\":{\"color\":\"#2a3f5f\"},\"error_y\":{\"color\":\"#2a3f5f\"},\"marker\":{\"line\":{\"color\":\"#E5ECF6\",\"width\":0.5},\"pattern\":{\"fillmode\":\"overlay\",\"size\":10,\"solidity\":0.2}},\"type\":\"bar\"}],\"scattergeo\":[{\"type\":\"scattergeo\",\"marker\":{\"colorbar\":{\"outlinewidth\":0,\"ticks\":\"\"}}}],\"scatterpolar\":[{\"type\":\"scatterpolar\",\"marker\":{\"colorbar\":{\"outlinewidth\":0,\"ticks\":\"\"}}}],\"histogram\":[{\"marker\":{\"pattern\":{\"fillmode\":\"overlay\",\"size\":10,\"solidity\":0.2}},\"type\":\"histogram\"}],\"scattergl\":[{\"type\":\"scattergl\",\"marker\":{\"colorbar\":{\"outlinewidth\":0,\"ticks\":\"\"}}}],\"scatter3d\":[{\"type\":\"scatter3d\",\"line\":{\"colorbar\":{\"outlinewidth\":0,\"ticks\":\"\"}},\"marker\":{\"colorbar\":{\"outlinewidth\":0,\"ticks\":\"\"}}}],\"scattermapbox\":[{\"type\":\"scattermapbox\",\"marker\":{\"colorbar\":{\"outlinewidth\":0,\"ticks\":\"\"}}}],\"scatterternary\":[{\"type\":\"scatterternary\",\"marker\":{\"colorbar\":{\"outlinewidth\":0,\"ticks\":\"\"}}}],\"scattercarpet\":[{\"type\":\"scattercarpet\",\"marker\":{\"colorbar\":{\"outlinewidth\":0,\"ticks\":\"\"}}}],\"carpet\":[{\"aaxis\":{\"endlinecolor\":\"#2a3f5f\",\"gridcolor\":\"white\",\"linecolor\":\"white\",\"minorgridcolor\":\"white\",\"startlinecolor\":\"#2a3f5f\"},\"baxis\":{\"endlinecolor\":\"#2a3f5f\",\"gridcolor\":\"white\",\"linecolor\":\"white\",\"minorgridcolor\":\"white\",\"startlinecolor\":\"#2a3f5f\"},\"type\":\"carpet\"}],\"table\":[{\"cells\":{\"fill\":{\"color\":\"#EBF0F8\"},\"line\":{\"color\":\"white\"}},\"header\":{\"fill\":{\"color\":\"#C8D4E3\"},\"line\":{\"color\":\"white\"}},\"type\":\"table\"}],\"barpolar\":[{\"marker\":{\"line\":{\"color\":\"#E5ECF6\",\"width\":0.5},\"pattern\":{\"fillmode\":\"overlay\",\"size\":10,\"solidity\":0.2}},\"type\":\"barpolar\"}],\"pie\":[{\"automargin\":true,\"type\":\"pie\"}]},\"layout\":{\"autotypenumbers\":\"strict\",\"colorway\":[\"#636efa\",\"#EF553B\",\"#00cc96\",\"#ab63fa\",\"#FFA15A\",\"#19d3f3\",\"#FF6692\",\"#B6E880\",\"#FF97FF\",\"#FECB52\"],\"font\":{\"color\":\"#2a3f5f\"},\"hovermode\":\"closest\",\"hoverlabel\":{\"align\":\"left\"},\"paper_bgcolor\":\"white\",\"plot_bgcolor\":\"#E5ECF6\",\"polar\":{\"bgcolor\":\"#E5ECF6\",\"angularaxis\":{\"gridcolor\":\"white\",\"linecolor\":\"white\",\"ticks\":\"\"},\"radialaxis\":{\"gridcolor\":\"white\",\"linecolor\":\"white\",\"ticks\":\"\"}},\"ternary\":{\"bgcolor\":\"#E5ECF6\",\"aaxis\":{\"gridcolor\":\"white\",\"linecolor\":\"white\",\"ticks\":\"\"},\"baxis\":{\"gridcolor\":\"white\",\"linecolor\":\"white\",\"ticks\":\"\"},\"caxis\":{\"gridcolor\":\"white\",\"linecolor\":\"white\",\"ticks\":\"\"}},\"coloraxis\":{\"colorbar\":{\"outlinewidth\":0,\"ticks\":\"\"}},\"colorscale\":{\"sequential\":[[0.0,\"#0d0887\"],[0.1111111111111111,\"#46039f\"],[0.2222222222222222,\"#7201a8\"],[0.3333333333333333,\"#9c179e\"],[0.4444444444444444,\"#bd3786\"],[0.5555555555555556,\"#d8576b\"],[0.6666666666666666,\"#ed7953\"],[0.7777777777777778,\"#fb9f3a\"],[0.8888888888888888,\"#fdca26\"],[1.0,\"#f0f921\"]],\"sequentialminus\":[[0.0,\"#0d0887\"],[0.1111111111111111,\"#46039f\"],[0.2222222222222222,\"#7201a8\"],[0.3333333333333333,\"#9c179e\"],[0.4444444444444444,\"#bd3786\"],[0.5555555555555556,\"#d8576b\"],[0.6666666666666666,\"#ed7953\"],[0.7777777777777778,\"#fb9f3a\"],[0.8888888888888888,\"#fdca26\"],[1.0,\"#f0f921\"]],\"diverging\":[[0,\"#8e0152\"],[0.1,\"#c51b7d\"],[0.2,\"#de77ae\"],[0.3,\"#f1b6da\"],[0.4,\"#fde0ef\"],[0.5,\"#f7f7f7\"],[0.6,\"#e6f5d0\"],[0.7,\"#b8e186\"],[0.8,\"#7fbc41\"],[0.9,\"#4d9221\"],[1,\"#276419\"]]},\"xaxis\":{\"gridcolor\":\"white\",\"linecolor\":\"white\",\"ticks\":\"\",\"title\":{\"standoff\":15},\"zerolinecolor\":\"white\",\"automargin\":true,\"zerolinewidth\":2},\"yaxis\":{\"gridcolor\":\"white\",\"linecolor\":\"white\",\"ticks\":\"\",\"title\":{\"standoff\":15},\"zerolinecolor\":\"white\",\"automargin\":true,\"zerolinewidth\":2},\"scene\":{\"xaxis\":{\"backgroundcolor\":\"#E5ECF6\",\"gridcolor\":\"white\",\"linecolor\":\"white\",\"showbackground\":true,\"ticks\":\"\",\"zerolinecolor\":\"white\",\"gridwidth\":2},\"yaxis\":{\"backgroundcolor\":\"#E5ECF6\",\"gridcolor\":\"white\",\"linecolor\":\"white\",\"showbackground\":true,\"ticks\":\"\",\"zerolinecolor\":\"white\",\"gridwidth\":2},\"zaxis\":{\"backgroundcolor\":\"#E5ECF6\",\"gridcolor\":\"white\",\"linecolor\":\"white\",\"showbackground\":true,\"ticks\":\"\",\"zerolinecolor\":\"white\",\"gridwidth\":2}},\"shapedefaults\":{\"line\":{\"color\":\"#2a3f5f\"}},\"annotationdefaults\":{\"arrowcolor\":\"#2a3f5f\",\"arrowhead\":0,\"arrowwidth\":1},\"geo\":{\"bgcolor\":\"white\",\"landcolor\":\"#E5ECF6\",\"subunitcolor\":\"white\",\"showland\":true,\"showlakes\":true,\"lakecolor\":\"white\"},\"title\":{\"x\":0.05},\"mapbox\":{\"style\":\"light\"}}}},                        {\"responsive\": true}                    ).then(function(){\n",
       "                            \n",
       "var gd = document.getElementById('7424c449-ef54-4599-abb1-1fd4371c1e54');\n",
       "var x = new MutationObserver(function (mutations, observer) {{\n",
       "        var display = window.getComputedStyle(gd).display;\n",
       "        if (!display || display === 'none') {{\n",
       "            console.log([gd, 'removed!']);\n",
       "            Plotly.purge(gd);\n",
       "            observer.disconnect();\n",
       "        }}\n",
       "}});\n",
       "\n",
       "// Listen for the removal of the full notebook cells\n",
       "var notebookContainer = gd.closest('#notebook-container');\n",
       "if (notebookContainer) {{\n",
       "    x.observe(notebookContainer, {childList: true});\n",
       "}}\n",
       "\n",
       "// Listen for the clearing of the current output cell\n",
       "var outputEl = gd.closest('.output');\n",
       "if (outputEl) {{\n",
       "    x.observe(outputEl, {childList: true});\n",
       "}}\n",
       "\n",
       "                        })                };                });            </script>        </div>"
      ]
     },
     "metadata": {},
     "output_type": "display_data"
    }
   ],
   "source": []
  },
  {
   "cell_type": "code",
   "execution_count": null,
   "metadata": {},
   "outputs": [],
   "source": []
  },
  {
   "cell_type": "code",
   "execution_count": null,
   "metadata": {},
   "outputs": [],
   "source": []
  },
  {
   "cell_type": "code",
   "execution_count": null,
   "metadata": {},
   "outputs": [],
   "source": []
  },
  {
   "cell_type": "code",
   "execution_count": null,
   "metadata": {},
   "outputs": [],
   "source": []
  },
  {
   "cell_type": "code",
   "execution_count": 157,
   "metadata": {
    "scrolled": true
   },
   "outputs": [],
   "source": [
    "# for alpha in [0.1,0.2,0.5,1,2,3,5,10,15]:\n",
    "mapes = []\n",
    "eps_list = [round(1*(math.pow(10,i/10)),3) for i in range(-30,1,2)]\n",
    "eps_list = [0,0.000001, 0.001, 0.01]\n",
    "for epsilon in eps_list:\n",
    "\n",
    "    iterations = 10\n",
    "    alpha = 0\n",
    "#         epsilon = 5/100\n",
    "\n",
    "    adversarial = pgd_attack(X_test, y_test, model, iterations, alpha, epsilon)\n",
    "\n",
    "    adversarial_prediction = model.predict(adversarial)\n",
    "\n",
    "    adversarial_score_r2 = round(r2_score(y_test, adversarial_prediction),2)\n",
    "    adversarial_rmse = round(math.sqrt(mean_squared_error(y_test, adversarial_prediction.reshape(1,-1)[0]))*100,2)\n",
    "    adversarial_mape = round(mape(y_test, adversarial_prediction),2)\n",
    "    \n",
    "    mapes.append(adversarial_mape)\n",
    "#         print(\"PGD Adversarial R^2 : \", adversarial_score_r2)\n",
    "#         print(\"PGD Adversarial RMSE : \", adversarial_rmse)\n",
    "#         print(\"PGD Adversarial MAPE : \", adversarial_mape)\n",
    "\n",
    "#     print(\"alpha :\", round(alpha/1,2), \" epsilon :\", round(epsilon/1,2),\"\\t\", adversarial_score_r2, adversarial_rmse, adversarial_mape)"
   ]
  },
  {
   "cell_type": "code",
   "execution_count": 158,
   "metadata": {},
   "outputs": [
    {
     "data": {
      "image/png": "[encoded data removed]",
      "text/plain": [
       "<Figure size 640x480 with 1 Axes>"
      ]
     },
     "metadata": {},
     "output_type": "display_data"
    }
   ],
   "source": [
    "plt.plot(eps_list, mapes)\n",
    "plt.show()"
   ]
  },
  {
   "cell_type": "code",
   "execution_count": 178,
   "metadata": {},
   "outputs": [
    {
     "data": {
      "image/png": "[encoded data removed]",
      "text/plain": [
       "<Figure size 640x480 with 1 Axes>"
      ]
     },
     "metadata": {},
     "output_type": "display_data"
    },
    {
     "name": "stdout",
     "output_type": "stream",
     "text": [
      "MAPE: 40.37 40.37\n"
     ]
    },
    {
     "data": {
      "image/png": "[encoded data removed]",
      "text/plain": [
       "<Figure size 640x480 with 1 Axes>"
      ]
     },
     "metadata": {},
     "output_type": "display_data"
    }
   ],
   "source": [
    "iterations = 0\n",
    "alpha = 0\n",
    "epsilon = 0\n",
    "adversarial = pgd_attack(X_test, y_test, model, iterations, alpha, epsilon)\n",
    "\n",
    "org_prediction = model.predict(X_test)\n",
    "adversarial_prediction = model.predict(adversarial)\n",
    "\n",
    "org_mape = round(mape(y_test, org_prediction),2)\n",
    "adversarial_mape = round(mape(y_test, adversarial_prediction),2)\n",
    "print(\"MAPE:\",round(org_mape,2), round(adversarial_mape,2))\n",
    "\n",
    "plt.plot(adversarial[1].numpy())\n",
    "plt.plot(X_test[1])\n",
    "plt.show()"
   ]
  },
  {
   "cell_type": "code",
   "execution_count": null,
   "metadata": {},
   "outputs": [],
   "source": []
  },
  {
   "cell_type": "code",
   "execution_count": 169,
   "metadata": {},
   "outputs": [
    {
     "data": {
      "image/png": "[encoded data removed]",
      "text/plain": [
       "<Figure size 1600x400 with 1 Axes>"
      ]
     },
     "metadata": {},
     "output_type": "display_data"
    }
   ],
   "source": [
    "plot_predictions(y_test, adversarial_prediction, \"adversarial example\")"
   ]
  },
  {
   "cell_type": "code",
   "execution_count": 16,
   "metadata": {},
   "outputs": [],
   "source": [
    "metric_df = {}\n",
    "for metric in [\"R2\", \"MAPE\", \"RMSE\"]:\n",
    "    metric_df[metric] = pd.DataFrame(index = models.keys(), columns = [\"Vanilla\", \"FGSM\", \"PGD\"])"
   ]
  },
  {
   "cell_type": "code",
   "execution_count": 181,
   "metadata": {},
   "outputs": [
    {
     "name": "stdout",
     "output_type": "stream",
     "text": [
      "Epoch 1/10\n",
      "127/127 [==============================] - 3s 23ms/step - loss: 0.0047\n",
      "Epoch 2/10\n",
      "127/127 [==============================] - 3s 24ms/step - loss: 0.0038\n",
      "Epoch 3/10\n",
      "127/127 [==============================] - 3s 24ms/step - loss: 0.0034\n",
      "Epoch 4/10\n",
      "127/127 [==============================] - 3s 24ms/step - loss: 0.0031\n",
      "Epoch 5/10\n",
      "127/127 [==============================] - 3s 24ms/step - loss: 0.0028\n",
      "Epoch 6/10\n",
      "127/127 [==============================] - 3s 24ms/step - loss: 0.0027\n",
      "Epoch 7/10\n",
      "127/127 [==============================] - 3s 23ms/step - loss: 0.0029\n",
      "Epoch 8/10\n",
      "127/127 [==============================] - 3s 24ms/step - loss: 0.0027\n",
      "Epoch 9/10\n",
      "127/127 [==============================] - 3s 24ms/step - loss: 0.0026\n",
      "Epoch 10/10\n",
      "127/127 [==============================] - 3s 24ms/step - loss: 0.0025\n",
      "R^2 : 0.95\n",
      "RMSE : 2.76\n",
      "MAPE : 6.68\n",
      "FGSM Adversarial R^2 :  0.95\n",
      "FGSM Adversarial RMSE :  2.76\n",
      "FGSM Adversarial MAPE :  39.65\n"
     ]
    },
    {
     "data": {
      "image/png": "[encoded data removed]",
      "text/plain": [
       "<Figure size 640x480 with 1 Axes>"
      ]
     },
     "metadata": {},
     "output_type": "display_data"
    },
    {
     "name": "stdout",
     "output_type": "stream",
     "text": [
      "PGD Adversarial R^2 :  0.95\n",
      "PGD Adversarial RMSE :  2.76\n",
      "PGD Adversarial MAPE :  39.65\n",
      "MAPE : 6.68\n",
      "Epoch 1/10\n",
      "127/127 [==============================] - 7s 49ms/step - loss: 0.0026\n",
      "Epoch 2/10\n",
      "127/127 [==============================] - 6s 48ms/step - loss: 0.0024\n",
      "Epoch 3/10\n",
      "127/127 [==============================] - 6s 49ms/step - loss: 0.0022\n",
      "Epoch 4/10\n",
      "127/127 [==============================] - 6s 48ms/step - loss: 0.0020\n",
      "Epoch 5/10\n",
      "127/127 [==============================] - 6s 48ms/step - loss: 0.0020\n",
      "Epoch 6/10\n",
      "127/127 [==============================] - 6s 48ms/step - loss: 0.0018\n",
      "Epoch 7/10\n",
      "127/127 [==============================] - 6s 49ms/step - loss: 0.0017\n",
      "Epoch 8/10\n",
      "127/127 [==============================] - 6s 48ms/step - loss: 0.0016\n",
      "Epoch 9/10\n",
      "127/127 [==============================] - 6s 48ms/step - loss: 0.0016\n",
      "Epoch 10/10\n",
      "127/127 [==============================] - 6s 48ms/step - loss: 0.0015\n",
      "R^2 : 0.96\n",
      "RMSE : 2.54\n",
      "MAPE : 5.88\n",
      "FGSM Adversarial R^2 :  0.96\n",
      "FGSM Adversarial RMSE :  2.54\n",
      "FGSM Adversarial MAPE :  40.19\n"
     ]
    },
    {
     "data": {
      "image/png": "[encoded data removed]",
      "text/plain": [
       "<Figure size 640x480 with 1 Axes>"
      ]
     },
     "metadata": {},
     "output_type": "display_data"
    },
    {
     "name": "stdout",
     "output_type": "stream",
     "text": [
      "PGD Adversarial R^2 :  0.96\n",
      "PGD Adversarial RMSE :  2.54\n",
      "PGD Adversarial MAPE :  40.19\n",
      "MAPE : 5.88\n"
     ]
    }
   ],
   "source": [
    "for item in models.items():\n",
    "    \n",
    "    model = item[1]\n",
    "    #Train\n",
    "    model.compile(optimizer=\"adam\",loss=\"MSE\")\n",
    "    model.fit(X_train, y_train, epochs=10)\n",
    "    \n",
    "    preds = model.predict(X_test)\n",
    "    R2_score = r2_score(y_test, preds)\n",
    "    print(\"R^2 :\",round(R2_score,2))\n",
    "    preds = preds.reshape((preds.shape[0]))\n",
    "    print(\"RMSE :\",round(math.sqrt(mean_squared_error(y_test, preds))*100,2))\n",
    "    print(\"MAPE :\",round(mape(y_test, preds),2))\n",
    "    \n",
    "    metric_df[\"R2\"].loc[item[0], \"Vanilla\"] = round(R2_score,2)\n",
    "    metric_df[\"MAPE\"].loc[item[0], \"Vanilla\"] = round(mape(y_test, preds),2)\n",
    "    metric_df[\"RMSE\"].loc[item[0], \"Vanilla\"] = round(math.sqrt(mean_squared_error(y_test, preds))*100,2)\n",
    "    \n",
    "    #FGSM\n",
    "    adversarial_fgsm = fgsm_attack(X_test, 0.01, mean_squared_error(y_test, preds))\n",
    "    adversarial_prediction = model.predict(adversarial_fgsm)\n",
    "    adversarial_score_r2 = round(r2_score(y_test, adversarial_prediction),2)\n",
    "    adversarial_rmse = round(math.sqrt(mean_squared_error(y_test, adversarial_prediction.reshape(1,-1)[0]))*100,2)\n",
    "    adversarial_mape = round(mape(y_test, adversarial_prediction),2)\n",
    "    print(\"FGSM Adversarial R^2 : \", adversarial_score_r2)\n",
    "    print(\"FGSM Adversarial RMSE : \", adversarial_rmse)\n",
    "    print(\"FGSM Adversarial MAPE : \", adversarial_mape)\n",
    "    \n",
    "    metric_df[\"R2\"].loc[item[0], \"FGSM\"] = adversarial_score_r2\n",
    "    metric_df[\"MAPE\"].loc[item[0], \"FGSM\"] = adversarial_mape\n",
    "    metric_df[\"RMSE\"].loc[item[0], \"FGSM\"] = adversarial_rmse\n",
    "    \n",
    "    #PGD\n",
    "    adversarial_pgd = pgd_attack(X_test, y_test, model, 0,0,0)\n",
    "    adversarial_prediction = model.predict(adversarial_pgd)\n",
    "    adversarial_score_r2 = round(r2_score(y_test, adversarial_prediction),2)\n",
    "    adversarial_rmse = round(math.sqrt(mean_squared_error(y_test, adversarial_prediction.reshape(1,-1)[0]))*100,2)\n",
    "    adversarial_mape = round(mape(y_test, adversarial_prediction),2)\n",
    "    print(\"PGD Adversarial R^2 : \", adversarial_score_r2)\n",
    "    print(\"PGD Adversarial RMSE : \", adversarial_rmse)\n",
    "    print(\"PGD Adversarial MAPE : \", adversarial_mape)\n",
    "    print(\"MAPE :\",round(mape(y_test, preds),2))\n",
    "    \n",
    "    metric_df[\"R2\"].loc[item[0], \"PGD\"] = adversarial_score_r2\n",
    "    metric_df[\"MAPE\"].loc[item[0], \"PGD\"] = adversarial_mape\n",
    "    metric_df[\"RMSE\"].loc[item[0], \"PGD\"] = adversarial_rmse\n",
    "    \n"
   ]
  },
  {
   "cell_type": "code",
   "execution_count": 182,
   "metadata": {},
   "outputs": [
    {
     "name": "stdout",
     "output_type": "stream",
     "text": [
      "R2\n"
     ]
    },
    {
     "data": {
      "text/html": [
       "<div>\n",
       "<style scoped>\n",
       "    .dataframe tbody tr th:only-of-type {\n",
       "        vertical-align: middle;\n",
       "    }\n",
       "\n",
       "    .dataframe tbody tr th {\n",
       "        vertical-align: top;\n",
       "    }\n",
       "\n",
       "    .dataframe thead th {\n",
       "        text-align: right;\n",
       "    }\n",
       "</style>\n",
       "<table border=\"1\" class=\"dataframe\">\n",
       "  <thead>\n",
       "    <tr style=\"text-align: right;\">\n",
       "      <th></th>\n",
       "      <th>Vanilla</th>\n",
       "      <th>FGSM</th>\n",
       "      <th>PGD</th>\n",
       "    </tr>\n",
       "  </thead>\n",
       "  <tbody>\n",
       "    <tr>\n",
       "      <th>lstm_model</th>\n",
       "      <td>0.95</td>\n",
       "      <td>0.95</td>\n",
       "      <td>0.95</td>\n",
       "    </tr>\n",
       "    <tr>\n",
       "      <th>lstm_model_2</th>\n",
       "      <td>0.96</td>\n",
       "      <td>0.96</td>\n",
       "      <td>0.96</td>\n",
       "    </tr>\n",
       "  </tbody>\n",
       "</table>\n",
       "</div>"
      ],
      "text/plain": [
       "             Vanilla  FGSM   PGD\n",
       "lstm_model      0.95  0.95  0.95\n",
       "lstm_model_2    0.96  0.96  0.96"
      ]
     },
     "metadata": {},
     "output_type": "display_data"
    },
    {
     "name": "stdout",
     "output_type": "stream",
     "text": [
      "MAPE\n"
     ]
    },
    {
     "data": {
      "text/html": [
       "<div>\n",
       "<style scoped>\n",
       "    .dataframe tbody tr th:only-of-type {\n",
       "        vertical-align: middle;\n",
       "    }\n",
       "\n",
       "    .dataframe tbody tr th {\n",
       "        vertical-align: top;\n",
       "    }\n",
       "\n",
       "    .dataframe thead th {\n",
       "        text-align: right;\n",
       "    }\n",
       "</style>\n",
       "<table border=\"1\" class=\"dataframe\">\n",
       "  <thead>\n",
       "    <tr style=\"text-align: right;\">\n",
       "      <th></th>\n",
       "      <th>Vanilla</th>\n",
       "      <th>FGSM</th>\n",
       "      <th>PGD</th>\n",
       "    </tr>\n",
       "  </thead>\n",
       "  <tbody>\n",
       "    <tr>\n",
       "      <th>lstm_model</th>\n",
       "      <td>6.68</td>\n",
       "      <td>39.65</td>\n",
       "      <td>39.65</td>\n",
       "    </tr>\n",
       "    <tr>\n",
       "      <th>lstm_model_2</th>\n",
       "      <td>5.88</td>\n",
       "      <td>40.19</td>\n",
       "      <td>40.19</td>\n",
       "    </tr>\n",
       "  </tbody>\n",
       "</table>\n",
       "</div>"
      ],
      "text/plain": [
       "             Vanilla   FGSM    PGD\n",
       "lstm_model      6.68  39.65  39.65\n",
       "lstm_model_2    5.88  40.19  40.19"
      ]
     },
     "metadata": {},
     "output_type": "display_data"
    },
    {
     "name": "stdout",
     "output_type": "stream",
     "text": [
      "RMSE\n"
     ]
    },
    {
     "data": {
      "text/html": [
       "<div>\n",
       "<style scoped>\n",
       "    .dataframe tbody tr th:only-of-type {\n",
       "        vertical-align: middle;\n",
       "    }\n",
       "\n",
       "    .dataframe tbody tr th {\n",
       "        vertical-align: top;\n",
       "    }\n",
       "\n",
       "    .dataframe thead th {\n",
       "        text-align: right;\n",
       "    }\n",
       "</style>\n",
       "<table border=\"1\" class=\"dataframe\">\n",
       "  <thead>\n",
       "    <tr style=\"text-align: right;\">\n",
       "      <th></th>\n",
       "      <th>Vanilla</th>\n",
       "      <th>FGSM</th>\n",
       "      <th>PGD</th>\n",
       "    </tr>\n",
       "  </thead>\n",
       "  <tbody>\n",
       "    <tr>\n",
       "      <th>lstm_model</th>\n",
       "      <td>2.76</td>\n",
       "      <td>2.76</td>\n",
       "      <td>2.76</td>\n",
       "    </tr>\n",
       "    <tr>\n",
       "      <th>lstm_model_2</th>\n",
       "      <td>2.54</td>\n",
       "      <td>2.54</td>\n",
       "      <td>2.54</td>\n",
       "    </tr>\n",
       "  </tbody>\n",
       "</table>\n",
       "</div>"
      ],
      "text/plain": [
       "             Vanilla  FGSM   PGD\n",
       "lstm_model      2.76  2.76  2.76\n",
       "lstm_model_2    2.54  2.54  2.54"
      ]
     },
     "metadata": {},
     "output_type": "display_data"
    }
   ],
   "source": [
    "for metric in metric_df.items():\n",
    "    print(metric[0])\n",
    "    display(metric[1])"
   ]
  },
  {
   "cell_type": "code",
   "execution_count": null,
   "metadata": {},
   "outputs": [],
   "source": []
  },
  {
   "cell_type": "code",
   "execution_count": null,
   "metadata": {},
   "outputs": [],
   "source": [
    "# from foolbox import TensorFlowModel, accuracy, samples, Model\n",
    "# from foolbox.attacks import LinfPGD\n",
    "\n",
    "# fmodel: Model = TensorFlowModel(model, bounds=(0, 1))\n",
    "# fmodel = fmodel.transform_bounds((0, 1))\n",
    "\n",
    "# clean_acc = accuracy(fmodel, X_test, y_test)\n",
    "# print(f\"clean accuracy:  {clean_acc * 100:.1f} %\")\n",
    "\n",
    "# # apply the attack\n",
    "# attack = LinfPGD()\n",
    "# epsilons = [\n",
    "#     0.0,\n",
    "#     0.0002,\n",
    "#     0.0005,\n",
    "#     0.0008,\n",
    "#     0.001,\n",
    "#     0.0015,\n",
    "#     0.002,\n",
    "#     0.003,\n",
    "#     0.01,\n",
    "#     0.1,\n",
    "#     0.3,\n",
    "#     0.5,\n",
    "#     1.0,\n",
    "# ]\n",
    "# raw_advs, clipped_advs, success = attack(fmodel, X_test, y_test, epsilons=epsilons)"
   ]
  },
  {
   "cell_type": "code",
   "execution_count": 19,
   "metadata": {},
   "outputs": [],
   "source": [
    "from absl import app, flags\n",
    "FLAGS = flags.FLAGS\n",
    "\n",
    "from cleverhans.tf2.attacks.projected_gradient_descent import projected_gradient_descent\n",
    "from cleverhans.tf2.attacks.fast_gradient_method import fast_gradient_method"
   ]
  },
  {
   "cell_type": "code",
   "execution_count": null,
   "metadata": {},
   "outputs": [],
   "source": []
  },
  {
   "cell_type": "code",
   "execution_count": 122,
   "metadata": {},
   "outputs": [
    {
     "name": "stdout",
     "output_type": "stream",
     "text": [
      "PGD Adversarial R^2 :  0.93\n",
      "PGD Adversarial RMSE :  3.44\n",
      "PGD Adversarial MAPE :  39.14\n"
     ]
    }
   ],
   "source": [
    "x_pgd = projected_gradient_descent(lstm_model, X_test, 0.1, 0.01, 10, np.inf)\n",
    "y_pred_pgd = lstm_model(x_pgd)\n",
    "y_pred_pgd = y_pred_pgd.numpy()\n",
    "\n",
    "\n",
    "adversarial_score_r2 = round(r2_score(y_test, y_pred_pgd),2)\n",
    "adversarial_rmse = round(math.sqrt(mean_squared_error(y_test, y_pred_pgd.reshape(1,-1)[0]))*100,2)\n",
    "adversarial_mape = round(mape(y_test, y_pred_pgd),2)\n",
    "print(\"PGD Adversarial R^2 : \", adversarial_score_r2)\n",
    "print(\"PGD Adversarial RMSE : \", adversarial_rmse)\n",
    "print(\"PGD Adversarial MAPE : \", adversarial_mape)"
   ]
  },
  {
   "cell_type": "code",
   "execution_count": null,
   "metadata": {},
   "outputs": [],
   "source": []
  },
  {
   "cell_type": "code",
   "execution_count": null,
   "metadata": {},
   "outputs": [],
   "source": [
    "x = tf.placeholder(tf.float32, (299, 299, 3))\n",
    "\n",
    "x_hat = image # our trainable adversarial input\n",
    "assign_op = tf.assign(x_hat, x)\n",
    "\n",
    "learning_rate = tf.placeholder(tf.float32, ())\n",
    "y_hat = tf.placeholder(tf.int32, ())\n",
    "\n",
    "labels = tf.one_hot(y_hat, 1000)\n",
    "loss = tf.nn.softmax_cross_entropy_with_logits(logits=logits, labels=[labels])\n",
    "optim_step = tf.train.GradientDescentOptimizer(\n",
    "    learning_rate).minimize(loss, var_list=[x_hat])"
   ]
  },
  {
   "cell_type": "code",
   "execution_count": null,
   "metadata": {},
   "outputs": [],
   "source": []
  }
 ],
 "metadata": {
  "kernelspec": {
   "display_name": "Python 3 (ipykernel)",
   "language": "python",
   "name": "python3"
  },
  "language_info": {
   "codemirror_mode": {
    "name": "ipython",
    "version": 3
   },
   "file_extension": ".py",
   "mimetype": "text/x-python",
   "name": "python",
   "nbconvert_exporter": "python",
   "pygments_lexer": "ipython3",
   "version": "3.10.6"
  },
  "vscode": {
   "interpreter": {
    "hash": "74b3d69e62ea7f84e0a87002eaaff2df932bcc1162ffe7ba69f89ae1b99d6c58"
   }
  }
 },
 "nbformat": 4,
 "nbformat_minor": 2
}
