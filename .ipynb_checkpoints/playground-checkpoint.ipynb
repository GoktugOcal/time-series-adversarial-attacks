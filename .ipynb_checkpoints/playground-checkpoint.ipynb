{
 "cells": [
  {
   "cell_type": "code",
   "execution_count": null,
   "id": "866557a5",
   "metadata": {},
   "outputs": [],
   "source": [
    "import warnings\n",
    "warnings.filterwarnings(\"ignore\")\n",
    "\n",
    "from data_loader import DataLoader\n",
    "from models import MODELS\n",
    "from misc.evaluation_metrics import *\n",
    "from attacks import *\n",
    "\n",
    "import matplotlib.pyplot as plt\n",
    "import plotly.graph_objects as go\n",
    "import plotly.express as px"
   ]
  },
  {
   "cell_type": "code",
   "execution_count": null,
   "id": "66a8d70e",
   "metadata": {},
   "outputs": [],
   "source": [
    "dl = DataLoader()\n",
    "info = dl.get_info()\n",
    "\n",
    "display(info)"
   ]
  },
  {
   "cell_type": "code",
   "execution_count": null,
   "id": "323d0ed5",
   "metadata": {},
   "outputs": [],
   "source": [
    "df = dl.load(3)\n",
    "(X_train, y_train, X_test, y_test), scaler = dl.prepare_dataset(23*4,1)\n",
    "\n",
    "print(dl.last_loaded_info[\"name\"])\n",
    "print(X_train.shape)\n",
    "print(X_test.shape)\n",
    "print()\n",
    "\n",
    "# model = MODELS[-1]((X_train.shape[1],X_train.shape[2]), 1)\n",
    "\n",
    "model = Sequential()\n",
    "model.add(LSTM(32,activation=\"tanh\", input_shape=(X_train.shape[1],X_train.shape[2])))\n",
    "model.add(Dropout(0.15))\n",
    "model.add(Dense(1))\n",
    "model.summary()\n",
    "model.compile(optimizer=\"adam\",loss=\"MSE\")\n",
    "\n",
    "# train LSTM model\n",
    "model.compile(optimizer=\"adam\",loss=\"MSE\")\n",
    "model.fit(X_train, y_train, epochs=10)"
   ]
  },
  {
   "cell_type": "code",
   "execution_count": null,
   "id": "0efb6803",
   "metadata": {},
   "outputs": [],
   "source": [
    "pred = model.predict(X_test)\n",
    "pred = scaler.inverse_transform(pred).reshape(1,-1)[0]\n",
    "y_test_inv = scaler.inverse_transform(y_test).reshape(1,-1)[0]\n",
    "\n",
    "\n",
    "def SMAPE(true, pred):\n",
    "    return np.mean((abs(true - pred) / ((abs(true) + abs(pred))/2))*100)\n",
    "\n",
    "def MDAPE(true, pred):\n",
    "    return np.median((abs(true - pred) / true)*100)\n",
    "\n",
    "\n",
    "print(\"MAE :\", np.mean(abs(y_test_inv - pred)))\n",
    "print(\"RMSE :\", RMSE(y_test_inv,pred))\n",
    "print(\"MSE :\", MSE(y_test_inv,pred))\n",
    "print(\"MAPE :\", MAPE(y_test_inv,pred))\n",
    "print(\"SMAPE :\", SMAPE(y_test_inv,pred))\n",
    "print(\"MDAPE :\", MDAPE(y_test_inv,pred))\n",
    "print(\"R2 :\", r2_score(y_test_inv,pred))"
   ]
  },
  {
   "cell_type": "code",
   "execution_count": null,
   "id": "2fb17583",
   "metadata": {},
   "outputs": [],
   "source": [
    "fig = go.Figure(go.Line(y = y_test_inv, name=\"original\"))\n",
    "fig.add_trace(go.Line(y = pred, name=\"predicted\"))\n",
    "fig"
   ]
  },
  {
   "cell_type": "code",
   "execution_count": null,
   "id": "4a6a00cf",
   "metadata": {},
   "outputs": [],
   "source": []
  },
  {
   "cell_type": "code",
   "execution_count": null,
   "id": "7361090c",
   "metadata": {},
   "outputs": [],
   "source": []
  },
  {
   "cell_type": "markdown",
   "id": "45e0192f",
   "metadata": {},
   "source": [
    "# Adversarial Attacks"
   ]
  },
  {
   "cell_type": "code",
   "execution_count": null,
   "id": "bb76ef5e",
   "metadata": {},
   "outputs": [],
   "source": [
    "X_adversarial_fgsm = fgsm_attack(X_test, y_test, model, 0.01, np.inf)\n",
    "\n",
    "pred = model.predict(X_adversarial_fgsm)\n",
    "pred = scaler.inverse_transform(pred).reshape(1,-1)[0]\n",
    "y_test_inv = scaler.inverse_transform(y_test).reshape(1,-1)[0]\n",
    "\n",
    "print(\"MAE :\", np.mean(abs(y_test_inv - pred)))\n",
    "print(\"RMSE :\", RMSE(y_test_inv,pred))\n",
    "print(\"MSE :\", MSE(y_test_inv,pred))\n",
    "print(\"MAPE :\", MAPE(y_test_inv[y_test_inv >= 10],pred[y_test_inv >= 10]))\n",
    "print(\"SMAPE :\", SMAPE(y_test_inv,pred))\n",
    "print(\"R2 :\", r2_score(y_test_inv,pred))\n",
    "\n",
    "plt.plot(X_test[10], label = \"original\")\n",
    "plt.plot(X_adversarial_fgsm.numpy()[10], label = \"pertubated\")\n",
    "plt.legend()\n",
    "plt.show()"
   ]
  },
  {
   "cell_type": "code",
   "execution_count": null,
   "id": "2d4dc88d",
   "metadata": {},
   "outputs": [],
   "source": [
    "iterations = 10\n",
    "alpha = 0.01\n",
    "epsilon = 0.02\n",
    "X_adversarial_pgd = pgd_attack(X_test, y_test, model, iterations, alpha, epsilon, np.inf)\n",
    "\n",
    "pred = model.predict(X_adversarial_pgd)\n",
    "pred = scaler.inverse_transform(pred).reshape(1,-1)[0]\n",
    "y_test_inv = scaler.inverse_transform(y_test).reshape(1,-1)[0]\n",
    "\n",
    "print(\"MAE :\", np.mean(abs(y_test_inv - pred)))\n",
    "print(\"RMSE :\", RMSE(y_test_inv,pred))\n",
    "print(\"MSE :\", MSE(y_test_inv,pred))\n",
    "print(\"MAPE :\", MAPE(y_test_inv[y_test_inv >= 10],pred[y_test_inv >= 10]))\n",
    "print(\"SMAPE :\", SMAPE(y_test_inv,pred))\n",
    "print(\"R2 :\", r2_score(y_test_inv,pred))\n",
    "\n",
    "plt.plot(X_test[0], label = \"original\")\n",
    "plt.plot(X_adversarial_pgd.numpy()[0], label = \"pertubated\")\n",
    "plt.legend()\n",
    "plt.show()"
   ]
  },
  {
   "cell_type": "code",
   "execution_count": null,
   "id": "c9fad185",
   "metadata": {},
   "outputs": [],
   "source": [
    "plt.plot(X_test[0], label = \"original\")\n",
    "plt.plot(X_adversarial_fgsm.numpy()[0], label = \"FGSM\")\n",
    "plt.plot(X_adversarial_pgd.numpy()[0], label = \"PGD\")\n",
    "plt.legend()\n",
    "plt.show()"
   ]
  },
  {
   "cell_type": "code",
   "execution_count": null,
   "id": "4e43ceec",
   "metadata": {},
   "outputs": [],
   "source": []
  },
  {
   "cell_type": "code",
   "execution_count": null,
   "id": "d2ea4b10",
   "metadata": {},
   "outputs": [],
   "source": [
    "inp = tf.convert_to_tensor(X_test, dtype = tf.float32)\n",
    "imgv = tf.Variable(inp)\n",
    "with tf.GradientTape() as tape:\n",
    "    tape.watch(imgv)\n",
    "    predictions = model(imgv)\n",
    "    loss = tf.keras.losses.MeanSquaredError()(y_test, predictions)\n",
    "    grads = tape.gradient(loss,imgv)"
   ]
  },
  {
   "cell_type": "code",
   "execution_count": null,
   "id": "ef316150",
   "metadata": {},
   "outputs": [],
   "source": [
    "fig,ax = plt.subplots()\n",
    "# make a plot\n",
    "ax1 = ax\n",
    "ax2 = ax.twinx()\n",
    "\n",
    "scaled_grad = (grads[0].numpy() - np.amin(grads[0].numpy())) / (np.amax(grads[0].numpy()) - np.amin(grads[0].numpy()))\n",
    "\n",
    "# ax.plot(X_test[0], label = \"original\", color=\"red\")\n",
    "ax2.plot(tf.sign(grads[0]).numpy(), label = \"signed\", color=\"orange\")\n",
    "ax.plot(tf.sign(grads[0]).numpy()*scaled_grad, label = \"signed\", color=\"green\")\n",
    "plt.show()"
   ]
  },
  {
   "cell_type": "code",
   "execution_count": null,
   "id": "fb0d2b29",
   "metadata": {},
   "outputs": [],
   "source": []
  },
  {
   "cell_type": "markdown",
   "id": "9e2a8982",
   "metadata": {},
   "source": [
    "# Cleverhans"
   ]
  },
  {
   "cell_type": "code",
   "execution_count": null,
   "id": "923f0ff5",
   "metadata": {},
   "outputs": [],
   "source": [
    "from cleverhans.tf2.attacks.fast_gradient_method import fast_gradient_method\n",
    "from cleverhans.tf2.attacks.projected_gradient_descent import projected_gradient_descent"
   ]
  },
  {
   "cell_type": "code",
   "execution_count": null,
   "id": "60e7ea8b",
   "metadata": {},
   "outputs": [],
   "source": [
    "X_adversarial_fgsm = fast_gradient_method(model, X_test, 0.1, 1)\n",
    "\n",
    "pred = model.predict(X_adversarial_fgsm)\n",
    "pred = scaler.inverse_transform(pred).reshape(1,-1)[0]\n",
    "y_test_inv = scaler.inverse_transform(y_test).reshape(1,-1)[0]\n",
    "\n",
    "print(\"MAE :\", np.mean(abs(y_test_inv - pred)))\n",
    "print(\"RMSE :\", RMSE(y_test_inv,pred))\n",
    "print(\"MSE :\", MSE(y_test_inv,pred))\n",
    "print(\"MAPE :\", MAPE(y_test_inv[y_test_inv >= 10],pred[y_test_inv >= 10]))\n",
    "print(\"SMAPE :\", SMAPE(y_test_inv,pred))\n",
    "print(\"R2 :\", r2_score(y_test_inv,pred))\n",
    "\n",
    "plt.plot(X_test[0], label = \"original\")\n",
    "plt.plot(X_adversarial_fgsm.numpy()[0], label = \"pertubated\")\n",
    "plt.legend()\n",
    "plt.show()"
   ]
  },
  {
   "cell_type": "code",
   "execution_count": null,
   "id": "bed196da",
   "metadata": {},
   "outputs": [],
   "source": []
  }
 ],
 "metadata": {
  "kernelspec": {
   "display_name": "Python 3 (ipykernel)",
   "language": "python",
   "name": "python3"
  },
  "language_info": {
   "codemirror_mode": {
    "name": "ipython",
    "version": 3
   },
   "file_extension": ".py",
   "mimetype": "text/x-python",
   "name": "python",
   "nbconvert_exporter": "python",
   "pygments_lexer": "ipython3",
   "version": "3.10.6"
  }
 },
 "nbformat": 4,
 "nbformat_minor": 5
}
