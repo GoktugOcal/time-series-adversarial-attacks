{
 "cells": [
  {
   "cell_type": "code",
   "execution_count": 5,
   "id": "bfac1c51",
   "metadata": {},
   "outputs": [
    {
     "data": {
      "text/html": [
       "<div>\n",
       "<style scoped>\n",
       "    .dataframe tbody tr th:only-of-type {\n",
       "        vertical-align: middle;\n",
       "    }\n",
       "\n",
       "    .dataframe tbody tr th {\n",
       "        vertical-align: top;\n",
       "    }\n",
       "\n",
       "    .dataframe thead th {\n",
       "        text-align: right;\n",
       "    }\n",
       "</style>\n",
       "<table border=\"1\" class=\"dataframe\">\n",
       "  <thead>\n",
       "    <tr style=\"text-align: right;\">\n",
       "      <th></th>\n",
       "      <th>name</th>\n",
       "      <th>frequency</th>\n",
       "      <th>description</th>\n",
       "      <th>source</th>\n",
       "      <th>path</th>\n",
       "    </tr>\n",
       "  </thead>\n",
       "  <tbody>\n",
       "    <tr>\n",
       "      <th>0</th>\n",
       "      <td>Electricity Transformer Data - 15 min</td>\n",
       "      <td>fifteen minutes</td>\n",
       "      <td>...</td>\n",
       "      <td>https://github.com/zhouhaoyi/ETDataset</td>\n",
       "      <td>data/electricity_transformer_15min.csv</td>\n",
       "    </tr>\n",
       "    <tr>\n",
       "      <th>1</th>\n",
       "      <td>Metro Interstate Human Traffic Volume</td>\n",
       "      <td>hour</td>\n",
       "      <td>Hourly Interstate 94 Westbound traffic volume ...</td>\n",
       "      <td>https://archive.ics.uci.edu/ml/datasets/Metro+...</td>\n",
       "      <td>data/Metro_Interstate_Traffic_Volume.csv</td>\n",
       "    </tr>\n",
       "    <tr>\n",
       "      <th>2</th>\n",
       "      <td>Beijing-Guanyuan Air-Quality</td>\n",
       "      <td>hour</td>\n",
       "      <td>This hourly data set considers 6 main air poll...</td>\n",
       "      <td>https://archive.ics.uci.edu/ml/datasets/Beijin...</td>\n",
       "      <td>data/beijing_air_quality_Data_Guanyuan_2013030...</td>\n",
       "    </tr>\n",
       "    <tr>\n",
       "      <th>3</th>\n",
       "      <td>Solar Generation - EnerjiSA</td>\n",
       "      <td>hour</td>\n",
       "      <td>Solar generation data of unlicenced solar cen...</td>\n",
       "      <td>https://www.kaggle.com/competitions/enerjisa-e...</td>\n",
       "      <td>data/enerjisa_solar_generation.csv</td>\n",
       "    </tr>\n",
       "  </tbody>\n",
       "</table>\n",
       "</div>"
      ],
      "text/plain": [
       "                                    name        frequency  \\\n",
       "0  Electricity Transformer Data - 15 min  fifteen minutes   \n",
       "1  Metro Interstate Human Traffic Volume             hour   \n",
       "2           Beijing-Guanyuan Air-Quality             hour   \n",
       "3            Solar Generation - EnerjiSA             hour   \n",
       "\n",
       "                                         description  \\\n",
       "0                                                ...   \n",
       "1  Hourly Interstate 94 Westbound traffic volume ...   \n",
       "2  This hourly data set considers 6 main air poll...   \n",
       "3   Solar generation data of unlicenced solar cen...   \n",
       "\n",
       "                                              source  \\\n",
       "0             https://github.com/zhouhaoyi/ETDataset   \n",
       "1  https://archive.ics.uci.edu/ml/datasets/Metro+...   \n",
       "2  https://archive.ics.uci.edu/ml/datasets/Beijin...   \n",
       "3  https://www.kaggle.com/competitions/enerjisa-e...   \n",
       "\n",
       "                                                path  \n",
       "0             data/electricity_transformer_15min.csv  \n",
       "1           data/Metro_Interstate_Traffic_Volume.csv  \n",
       "2  data/beijing_air_quality_Data_Guanyuan_2013030...  \n",
       "3                 data/enerjisa_solar_generation.csv  "
      ]
     },
     "execution_count": 5,
     "metadata": {},
     "output_type": "execute_result"
    }
   ],
   "source": [
    "from data_loader import DataLoader\n",
    "from models import MODELS\n",
    "from misc.evaluation_metrics import *\n",
    "\n",
    "from tensorflow.keras.callbacks import EarlyStopping\n",
    "early_stopping = EarlyStopping(patience = 3)\n",
    "\n",
    "import json\n",
    "import warnings\n",
    "warnings.filterwarnings(\"ignore\")\n",
    "\n",
    "dl = DataLoader()\n",
    "info = dl.get_info()\n",
    "\n",
    "info"
   ]
  },
  {
   "cell_type": "code",
   "execution_count": 9,
   "id": "28b18a32",
   "metadata": {},
   "outputs": [
    {
     "name": "stdout",
     "output_type": "stream",
     "text": [
      "Beijing-Guanyuan Air-Quality\n",
      "(24528, 23, 1)\n"
     ]
    }
   ],
   "source": [
    "index = 2\n",
    "\n",
    "dataset_name = info.name[index]\n",
    "print(dataset_name)\n",
    "\n",
    "df = dl.load(index)\n",
    "\n",
    "\n",
    "if dataset_name == \"Electricity Transformer Data - 15 min\":\n",
    "    (X_train, y_train, X_test, y_test), scaler = dl.prepare_dataset(23*4,1)\n",
    "\n",
    "elif dataset_name == \"Metro Interstate Human Traffic Volume\":\n",
    "    (X_train, y_train, X_test, y_test), scaler = dl.prepare_dataset(23,1)\n",
    "\n",
    "elif dataset_name == \"Beijing-Guanyuan Air-Quality\":\n",
    "    (X_train, y_train, X_test, y_test), scaler = dl.prepare_dataset(23,1)\n",
    "\n",
    "elif dataset_name == \"Solar Generation - EnerjiSA\":\n",
    "    (X_train, y_train, X_test, y_test), scaler = dl.prepare_dataset(23,1)\n",
    "\n",
    "print(X_train.shape)"
   ]
  },
  {
   "cell_type": "code",
   "execution_count": 17,
   "id": "f68d36fb",
   "metadata": {},
   "outputs": [
    {
     "name": "stdout",
     "output_type": "stream",
     "text": [
      "Model: \"sequential_1\"\n",
      "_________________________________________________________________\n",
      " Layer (type)                Output Shape              Param #   \n",
      "=================================================================\n",
      " lstm_1 (LSTM)               (None, 32)                4352      \n",
      "                                                                 \n",
      " dropout_1 (Dropout)         (None, 32)                0         \n",
      "                                                                 \n",
      " dense_1 (Dense)             (None, 1)                 33        \n",
      "                                                                 \n",
      "=================================================================\n",
      "Total params: 4,385\n",
      "Trainable params: 4,385\n",
      "Non-trainable params: 0\n",
      "_________________________________________________________________\n",
      "Model: \"sequential_1\"\n",
      "_________________________________________________________________\n",
      " Layer (type)                Output Shape              Param #   \n",
      "=================================================================\n",
      " lstm_1 (LSTM)               (None, 32)                4352      \n",
      "                                                                 \n",
      " dropout_1 (Dropout)         (None, 32)                0         \n",
      "                                                                 \n",
      " dense_1 (Dense)             (None, 1)                 33        \n",
      "                                                                 \n",
      "=================================================================\n",
      "Total params: 4,385\n",
      "Trainable params: 4,385\n",
      "Non-trainable params: 0\n",
      "_________________________________________________________________\n"
     ]
    }
   ],
   "source": [
    "list(MODELS.keys())\n",
    "\n",
    "model = MODELS[list(MODELS.keys())[0]]\n",
    "model = model((X_train.shape[1],X_train.shape[2]), 1)\n",
    "model.summary()"
   ]
  },
  {
   "cell_type": "code",
   "execution_count": 22,
   "id": "dbe81146",
   "metadata": {},
   "outputs": [
    {
     "name": "stdout",
     "output_type": "stream",
     "text": [
      "Epoch 1/50\n",
      " 33/575 [>.............................] - ETA: 1s - loss: 0.0208  "
     ]
    },
    {
     "name": "stderr",
     "output_type": "stream",
     "text": [
      "2022-12-16 00:31:04.513196: I tensorflow/stream_executor/cuda/cuda_dnn.cc:368] Loaded cuDNN version 8600\n"
     ]
    },
    {
     "name": "stdout",
     "output_type": "stream",
     "text": [
      "575/575 [==============================] - 3s 4ms/step - loss: 0.0045 - val_loss: 0.0014\n",
      "Epoch 2/50\n",
      "575/575 [==============================] - 2s 3ms/step - loss: 0.0017 - val_loss: 9.1784e-04\n",
      "Epoch 3/50\n",
      "575/575 [==============================] - 2s 4ms/step - loss: 0.0012 - val_loss: 7.3696e-04\n",
      "Epoch 4/50\n",
      "575/575 [==============================] - 2s 3ms/step - loss: 0.0011 - val_loss: 6.4638e-04\n",
      "Epoch 5/50\n",
      "575/575 [==============================] - 2s 3ms/step - loss: 9.8048e-04 - val_loss: 6.2428e-04\n",
      "Epoch 6/50\n",
      "575/575 [==============================] - 2s 4ms/step - loss: 9.0776e-04 - val_loss: 5.9685e-04\n",
      "Epoch 7/50\n",
      "575/575 [==============================] - 2s 4ms/step - loss: 9.1530e-04 - val_loss: 5.9807e-04\n",
      "Epoch 8/50\n",
      "575/575 [==============================] - 2s 3ms/step - loss: 9.1483e-04 - val_loss: 6.0946e-04\n",
      "Epoch 9/50\n",
      "575/575 [==============================] - 2s 4ms/step - loss: 8.8515e-04 - val_loss: 6.3909e-04\n",
      " R2 :  0.9485817585801519 \n",
      " MAE :  11.76 \n",
      " RMSE :  20.18 \n",
      " MSE :  407.43 \n",
      " MAPE :  40.67 \n",
      " SMAPE :  25.23 \n",
      " MDAPE :  13.26\n"
     ]
    }
   ],
   "source": [
    "model.compile(optimizer=\"adam\",loss=\"MSE\")\n",
    "model.fit(\n",
    "    X_train,\n",
    "    y_train,\n",
    "    validation_split=0.25, \n",
    "    epochs=50,\n",
    "    callbacks=[early_stopping])\n",
    "\n",
    "#Prediction Info\n",
    "pred = model.predict(X_test)\n",
    "pred = scaler.inverse_transform(pred).reshape(1,-1)[0]\n",
    "y_test_inv = scaler.inverse_transform(y_test).reshape(1,-1)[0]\n",
    "\n",
    "print(\n",
    "    \" R2 : \", round(r2_score(y_test_inv,pred),2), \"\\n\", \\\n",
    "    \"MAE : \", round(MAE(y_test_inv,pred),2), \"\\n\", \\\n",
    "    \"RMSE : \", round(RMSE(y_test_inv,pred),2), \"\\n\", \\\n",
    "    \"MSE : \", round(MSE(y_test_inv,pred),2), \"\\n\", \\\n",
    "    \"MAPE : \", round(MAPE(y_test_inv,pred),2), \"\\n\", \\\n",
    "    \"SMAPE : \", round(SMAPE(y_test_inv,pred),2), \"\\n\", \\\n",
    "    \"MDAPE : \", round(MDAPE(y_test_inv,pred),2)\n",
    ")"
   ]
  }
 ],
 "metadata": {
  "kernelspec": {
   "display_name": "Python 3 (ipykernel)",
   "language": "python",
   "name": "python3"
  },
  "language_info": {
   "codemirror_mode": {
    "name": "ipython",
    "version": 3
   },
   "file_extension": ".py",
   "mimetype": "text/x-python",
   "name": "python",
   "nbconvert_exporter": "python",
   "pygments_lexer": "ipython3",
   "version": "3.10.6"
  }
 },
 "nbformat": 4,
 "nbformat_minor": 5
}
