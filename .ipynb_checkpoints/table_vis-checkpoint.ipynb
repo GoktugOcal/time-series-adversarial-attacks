{
 "cells": [
  {
   "cell_type": "code",
   "execution_count": 1,
   "id": "23eeee9f",
   "metadata": {},
   "outputs": [],
   "source": [
    "import pandas as pd\n",
    "import numpy as np\n",
    "import json"
   ]
  },
  {
   "cell_type": "code",
   "execution_count": 7,
   "id": "026a2f56",
   "metadata": {},
   "outputs": [],
   "source": [
    "with open('adv_examples/many-to-one/adv_gen_l_inf.json', 'r') as f:\n",
    "    data = json.loads(f.read())"
   ]
  },
  {
   "cell_type": "code",
   "execution_count": 18,
   "id": "f66a5ce3",
   "metadata": {},
   "outputs": [
    {
     "name": "stdout",
     "output_type": "stream",
     "text": [
      "{'metrics': {'R2': 0.988, 'MAE': 0.32, 'RMSE': 0.4, 'MSE': 0.16, 'MAPE': 6.2, 'SMAPE': 11.41, 'MDAPE': 4.12}}\n"
     ]
    },
    {
     "ename": "KeyError",
     "evalue": "'metrics'",
     "output_type": "error",
     "traceback": [
      "\u001b[0;31m---------------------------------------------------------------------------\u001b[0m",
      "\u001b[0;31mKeyError\u001b[0m                                  Traceback (most recent call last)",
      "Cell \u001b[0;32mIn [18], line 11\u001b[0m\n\u001b[1;32m      6\u001b[0m         \u001b[38;5;28mprint\u001b[39m(data[dataset][model_name][adv_attack][setting])\n\u001b[1;32m      7\u001b[0m         line \u001b[38;5;241m=\u001b[39m {\n\u001b[1;32m      8\u001b[0m             \u001b[38;5;124m\"\u001b[39m\u001b[38;5;124mattack_type\u001b[39m\u001b[38;5;124m\"\u001b[39m : adv_attack,\n\u001b[1;32m      9\u001b[0m             \u001b[38;5;124m\"\u001b[39m\u001b[38;5;124msetting\u001b[39m\u001b[38;5;124m\"\u001b[39m : setting\n\u001b[1;32m     10\u001b[0m         }\n\u001b[0;32m---> 11\u001b[0m         line \u001b[38;5;241m=\u001b[39m {\u001b[38;5;241m*\u001b[39m\u001b[38;5;241m*\u001b[39mline, \u001b[38;5;241m*\u001b[39m\u001b[38;5;241m*\u001b[39m\u001b[43mdata\u001b[49m\u001b[43m[\u001b[49m\u001b[43mdataset\u001b[49m\u001b[43m]\u001b[49m\u001b[43m[\u001b[49m\u001b[43mmodel_name\u001b[49m\u001b[43m]\u001b[49m\u001b[43m[\u001b[49m\u001b[43madv_attack\u001b[49m\u001b[43m]\u001b[49m\u001b[43m[\u001b[49m\u001b[38;5;124;43m\"\u001b[39;49m\u001b[38;5;124;43mmetrics\u001b[39;49m\u001b[38;5;124;43m\"\u001b[39;49m\u001b[43m]\u001b[49m}\n\u001b[1;32m     12\u001b[0m         lines\u001b[38;5;241m.\u001b[39mappend(line)\n\u001b[1;32m     14\u001b[0m display(pd\u001b[38;5;241m.\u001b[39mDataFrame(lines))\n",
      "\u001b[0;31mKeyError\u001b[0m: 'metrics'"
     ]
    }
   ],
   "source": [
    "for dataset in data.keys():\n",
    "    for model_name in data[dataset].keys():\n",
    "        lines = []\n",
    "        for adv_attack in data[dataset][model_name].keys():\n",
    "            for setting in data[dataset][model_name][adv_attack].keys():\n",
    "                line = {\n",
    "                    \"attack_type\" : adv_attack,\n",
    "                    \"setting\" : setting\n",
    "                }\n",
    "                line = {**line, **data[dataset][model_name][adv_attack][setting][\"metrics\"]}\n",
    "                lines.append(line)\n",
    "        \n",
    "        display(pd.DataFrame(lines))\n",
    "    \n",
    "    \n",
    "    break"
   ]
  }
 ],
 "metadata": {
  "kernelspec": {
   "display_name": "Python 3 (ipykernel)",
   "language": "python",
   "name": "python3"
  },
  "language_info": {
   "codemirror_mode": {
    "name": "ipython",
    "version": 3
   },
   "file_extension": ".py",
   "mimetype": "text/x-python",
   "name": "python",
   "nbconvert_exporter": "python",
   "pygments_lexer": "ipython3",
   "version": "3.10.6"
  }
 },
 "nbformat": 4,
 "nbformat_minor": 5
}
